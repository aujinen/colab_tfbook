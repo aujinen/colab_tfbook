{
 "cells": [
  {
   "cell_type": "markdown",
   "metadata": {
    "colab_type": "text",
    "id": "CbJ273-zXvzb"
   },
   "source": [
    "# Least Squares Method with Keras\n",
    "### Kerasを使った最小自乗法"
   ]
  },
  {
   "cell_type": "markdown",
   "metadata": {
    "colab_type": "text",
    "id": "wg-evE3LWM-O"
   },
   "source": [
    "注意：このノートブックはPython3および(GPUを用いない)CPU環境で動作するように設定されています。<br>\n",
    "Google Colab環境にてオンラインで実行する場合、オリジナルサイトのコードを使って下さい。<br>\n",
    "GPUの有無に関わらずPython 3.x および　TensorFlow 2.x（ないしTensorFlow 1.x） にて、オフラインにて稼動するよう変更しています。<br>\n",
    "2020/02/04: By H.Nishiyama<br>\n",
    "2021/10/12 追加・変更部分のみ日本語化<br>"
   ]
  },
  {
   "cell_type": "markdown",
   "metadata": {
    "colab_type": "text",
    "id": "s1JcgFhX_Era"
   },
   "source": [
    "このノートブックはTensorFlow 2.x (ないし1.x）を使います<br>\n",
    "*もし、オンラインのCloabシステムを使うなら、オリジナルサイトのコードを使うか、次のセルを指示通りに修正して下さい。<br>\n",
    "【オリジナルサイト】https://github.com/enakai00/colab_tfbook<br>\n",
    "オリジナルではTensorFlow 2.x を対象としています。<br>\n",
    "[LSM-08] にて100000回繰り返す部分を**GPU有りで実行するとCPUのみでの実行と比較して倍以上の時間を費やす**ことがあります。<br>\n",
    "従いまして、強制的にCPUでの実行を行うよう、関連部分に<br>\n",
    "with tf.device('/CPU:0'):<br>\n",
    "を入れました。<br>\n",
    "参考）https://www.tensorflow.org/guide/gpu?hl=ja<br>"
   ]
  },
  {
   "cell_type": "code",
   "execution_count": 1,
   "metadata": {
    "colab": {
     "base_uri": "https://localhost:8080/",
     "height": 34
    },
    "colab_type": "code",
    "id": "C_YVPOrSDKCT",
    "outputId": "af623226-3141-4492-8d6d-da4f9b428ced"
   },
   "outputs": [],
   "source": [
    "###%tensorflow_version 2.x"
   ]
  },
  {
   "cell_type": "markdown",
   "metadata": {
    "colab_type": "text",
    "id": "VJO3PPzqsq8d"
   },
   "source": [
    "####[LSM-01]\n",
    "Import modules."
   ]
  },
  {
   "cell_type": "code",
   "execution_count": 2,
   "metadata": {
    "colab": {},
    "colab_type": "code",
    "id": "gB5UUoAXIVmC"
   },
   "outputs": [],
   "source": [
    "import numpy as np\n",
    "import matplotlib.pyplot as plt\n",
    "import tensorflow as tf\n",
    "from pandas import DataFrame\n",
    "\n",
    "from tensorflow.keras import layers, models"
   ]
  },
  {
   "cell_type": "markdown",
   "metadata": {
    "colab_type": "text",
    "id": "yz2h7_8St1wi"
   },
   "source": [
    "####[LSM-02]\n",
    "Prepare the training dateset."
   ]
  },
  {
   "cell_type": "code",
   "execution_count": 3,
   "metadata": {
    "colab": {},
    "colab_type": "code",
    "id": "ASgzWK5AjWvn"
   },
   "outputs": [],
   "source": [
    "train_t = np.array([5.2, 5.7, 8.6, 14.9, 18.2, 20.4,\n",
    "                    25.5, 26.4, 22.8, 17.5, 11.1, 6.6])\n",
    "train_t = train_t.reshape([12, 1])\n",
    "train_x = np.array([[mon**n for n in range(1, 5)]\n",
    "                    for mon in range(1, 13)])"
   ]
  },
  {
   "cell_type": "markdown",
   "metadata": {
    "colab_type": "text",
    "id": "SAVhouWduMh7"
   },
   "source": [
    "####[LSM-03]\n",
    "`train_x` contains the list $[x, x^2, x^3, x^4]$ for $x=1,...,12$."
   ]
  },
  {
   "cell_type": "code",
   "execution_count": 4,
   "metadata": {
    "colab": {
     "base_uri": "https://localhost:8080/",
     "height": 221
    },
    "colab_type": "code",
    "id": "Hp4EnlqvToYN",
    "outputId": "450e4c3b-bc5c-4859-f7e6-edbae045bc16"
   },
   "outputs": [
    {
     "data": {
      "text/plain": [
       "array([[    1,     1,     1,     1],\n",
       "       [    2,     4,     8,    16],\n",
       "       [    3,     9,    27,    81],\n",
       "       [    4,    16,    64,   256],\n",
       "       [    5,    25,   125,   625],\n",
       "       [    6,    36,   216,  1296],\n",
       "       [    7,    49,   343,  2401],\n",
       "       [    8,    64,   512,  4096],\n",
       "       [    9,    81,   729,  6561],\n",
       "       [   10,   100,  1000, 10000],\n",
       "       [   11,   121,  1331, 14641],\n",
       "       [   12,   144,  1728, 20736]])"
      ]
     },
     "execution_count": 4,
     "metadata": {},
     "output_type": "execute_result"
    }
   ],
   "source": [
    "train_x"
   ]
  },
  {
   "cell_type": "markdown",
   "metadata": {
    "colab_type": "text",
    "id": "qdQ0Tp2IvFy8"
   },
   "source": [
    "####[LSM-04]\n",
    "`train_t` contins the corresponding lables for $x=1,...,12$."
   ]
  },
  {
   "cell_type": "code",
   "execution_count": 5,
   "metadata": {
    "colab": {
     "base_uri": "https://localhost:8080/",
     "height": 221
    },
    "colab_type": "code",
    "id": "tpL_niBTXggS",
    "outputId": "a817fa3c-c8ec-421a-8617-5a0563656037"
   },
   "outputs": [
    {
     "data": {
      "text/plain": [
       "array([[ 5.2],\n",
       "       [ 5.7],\n",
       "       [ 8.6],\n",
       "       [14.9],\n",
       "       [18.2],\n",
       "       [20.4],\n",
       "       [25.5],\n",
       "       [26.4],\n",
       "       [22.8],\n",
       "       [17.5],\n",
       "       [11.1],\n",
       "       [ 6.6]])"
      ]
     },
     "execution_count": 5,
     "metadata": {},
     "output_type": "execute_result"
    }
   ],
   "source": [
    "train_t"
   ]
  },
  {
   "cell_type": "markdown",
   "metadata": {
    "colab_type": "text",
    "id": "fmnjQdqAvQRw"
   },
   "source": [
    "####[LSM-05]\n",
    "Define a model to predict labels using a polynomal function.<br>\n",
    "*Waring will be occured for some version of TensorFlow as follows;<br>\n",
    "WARNING:tensorflow:From ..."
   ]
  },
  {
   "cell_type": "code",
   "execution_count": 6,
   "metadata": {
    "colab": {
     "base_uri": "https://localhost:8080/",
     "height": 187
    },
    "colab_type": "code",
    "id": "BakcuKxdQoSL",
    "outputId": "37b19ed1-b2f6-427a-c27a-a649cf3f96a5"
   },
   "outputs": [
    {
     "name": "stdout",
     "output_type": "stream",
     "text": [
      "Model: \"sequential\"\n",
      "_________________________________________________________________\n",
      "Layer (type)                 Output Shape              Param #   \n",
      "=================================================================\n",
      "polynomial (Dense)           (None, 1)                 5         \n",
      "=================================================================\n",
      "Total params: 5\n",
      "Trainable params: 5\n",
      "Non-trainable params: 0\n",
      "_________________________________________________________________\n"
     ]
    }
   ],
   "source": [
    "with tf.device('/CPU:0'):\n",
    "    model = models.Sequential()\n",
    "    model.add(layers.Dense(1, input_shape=(4,), name='polynomial'))\n",
    "    model.summary()\n"
   ]
  },
  {
   "cell_type": "markdown",
   "metadata": {
    "colab_type": "text",
    "id": "fBltXsSRvZn0"
   },
   "source": [
    "####[LSM-06]\n",
    "Compile the model using the Adam optimizer, and MSE (Mean Square Error) as a loss function.<br>\n",
    "*Waring will be occured for some version of TensorFlow as follows;<br>\n",
    "WARNING:tensorflow:From ..."
   ]
  },
  {
   "cell_type": "code",
   "execution_count": 7,
   "metadata": {
    "colab": {},
    "colab_type": "code",
    "id": "LlQCTsKKXkr5"
   },
   "outputs": [],
   "source": [
    "with tf.device('/CPU:0'):\n",
    "    model.compile(optimizer='adam', loss='mse')\n"
   ]
  },
  {
   "cell_type": "markdown",
   "metadata": {
    "colab_type": "text",
    "id": "PjbE4TVBvqCh"
   },
   "source": [
    "####[LSM-07]\n",
    "Apply the optimization for 10 epochs.<br>\n",
    "*Waring will be occured for some version of TensorFlow as follows;<br>\n",
    "WARNING:tensorflow:From ..."
   ]
  },
  {
   "cell_type": "code",
   "execution_count": 8,
   "metadata": {
    "colab": {
     "base_uri": "https://localhost:8080/",
     "height": 374
    },
    "colab_type": "code",
    "id": "qpARZzJsAnNA",
    "outputId": "bceba7f3-c06a-4b22-cfd6-371b0f635d73"
   },
   "outputs": [
    {
     "name": "stdout",
     "output_type": "stream",
     "text": [
      "Epoch 1/10\n",
      "1/1 [==============================] - 0s 233ms/step - loss: 3232212.0000\n",
      "Epoch 2/10\n",
      "1/1 [==============================] - 0s 2ms/step - loss: 3199768.7500\n",
      "Epoch 3/10\n",
      "1/1 [==============================] - 0s 4ms/step - loss: 3167492.7500\n",
      "Epoch 4/10\n",
      "1/1 [==============================] - 0s 3ms/step - loss: 3135388.0000\n",
      "Epoch 5/10\n",
      "1/1 [==============================] - 0s 2ms/step - loss: 3103456.2500\n",
      "Epoch 6/10\n",
      "1/1 [==============================] - 0s 2ms/step - loss: 3071701.0000\n",
      "Epoch 7/10\n",
      "1/1 [==============================] - 0s 3ms/step - loss: 3040125.0000\n",
      "Epoch 8/10\n",
      "1/1 [==============================] - 0s 3ms/step - loss: 3008730.2500\n",
      "Epoch 9/10\n",
      "1/1 [==============================] - 0s 3ms/step - loss: 2977520.2500\n",
      "Epoch 10/10\n",
      "1/1 [==============================] - 0s 2ms/step - loss: 2946495.7500\n"
     ]
    }
   ],
   "source": [
    "with tf.device('/CPU:0'):\n",
    "    history = model.fit(train_x, train_t, batch_size=12, epochs=10)"
   ]
  },
  {
   "cell_type": "markdown",
   "metadata": {
    "colab_type": "text",
    "id": "6ZJDVflWv6bm"
   },
   "source": [
    "####[LSM-08]\n",
    "Apply the optimization for additional 100,000 epochs.<br>\n",
    "*The total time can be estimated from upper data.<br>\n",
    "*For \"x ms / setp\", the total is estimated as \"x * 100 sec\".<br>\n",
    "*You can chage the following epochs as you want."
   ]
  },
  {
   "cell_type": "code",
   "execution_count": 9,
   "metadata": {
    "colab": {},
    "colab_type": "code",
    "id": "R6aG8FEZSLdr"
   },
   "outputs": [],
   "source": [
    "with tf.device('/CPU:0'):\n",
    "    history = model.fit(train_x, train_t,\n",
    "                        batch_size=12, epochs=100000, verbose=0)"
   ]
  },
  {
   "cell_type": "markdown",
   "metadata": {
    "colab_type": "text",
    "id": "BFIxYITmwBXA"
   },
   "source": [
    "####[LSM-09]\n",
    "Plot charts to see how the loss has changed."
   ]
  },
  {
   "cell_type": "code",
   "execution_count": 10,
   "metadata": {
    "colab": {
     "base_uri": "https://localhost:8080/",
     "height": 545
    },
    "colab_type": "code",
    "id": "lHUrBkTt_BV_",
    "outputId": "50b1c614-8526-454e-8fbb-96c47765ceed"
   },
   "outputs": [
    {
     "data": {
      "text/plain": [
       "<AxesSubplot:>"
      ]
     },
     "execution_count": 10,
     "metadata": {},
     "output_type": "execute_result"
    },
    {
     "data": {
      "image/png": "[encoded data removed]",
      "text/plain": [
       "<Figure size 432x288 with 1 Axes>"
      ]
     },
     "metadata": {
      "needs_background": "light"
     },
     "output_type": "display_data"
    },
    {
     "data": {
      "image/png": "[encoded data removed]",
      "text/plain": [
       "<Figure size 432x288 with 1 Axes>"
      ]
     },
     "metadata": {
      "needs_background": "light"
     },
     "output_type": "display_data"
    }
   ],
   "source": [
    "DataFrame({'loss': history.history['loss']}).plot(xlim=(0, 2000))\n",
    "DataFrame({'loss': history.history['loss']}).plot(ylim=(0, 10))"
   ]
  },
  {
   "cell_type": "markdown",
   "metadata": {
    "colab_type": "text",
    "id": "DrFqiUwcwSS4"
   },
   "source": [
    "####[LSM-10]\n",
    "Show weights after the training."
   ]
  },
  {
   "cell_type": "code",
   "execution_count": 11,
   "metadata": {
    "colab": {
     "base_uri": "https://localhost:8080/",
     "height": 85
    },
    "colab_type": "code",
    "id": "ffVp0em2Sn4U",
    "outputId": "7ce2e011-3ca5-4b42-dbe4-965ad49913c6"
   },
   "outputs": [
    {
     "name": "stdout",
     "output_type": "stream",
     "text": [
      "[array([[-0.35978884],\n",
      "       [ 1.4212987 ],\n",
      "       [-0.16085316],\n",
      "       [ 0.00386482]], dtype=float32), array([2.5904803], dtype=float32)]\n"
     ]
    }
   ],
   "source": [
    "with tf.device('/CPU:0'):\n",
    "    mw = model.get_weights()\n",
    "\n",
    "print(mw)"
   ]
  },
  {
   "cell_type": "markdown",
   "metadata": {
    "colab_type": "text",
    "id": "9ewLkGc-waB4"
   },
   "source": [
    "####[LSM-11]\n",
    "Define a function to predict values using the final weights."
   ]
  },
  {
   "cell_type": "code",
   "execution_count": 12,
   "metadata": {
    "colab": {},
    "colab_type": "code",
    "id": "587A6vekhVdw"
   },
   "outputs": [],
   "source": [
    "with tf.device('/CPU:0'):\n",
    "    w, b = model.get_weights()\n",
    "\n",
    "def predict(x):\n",
    "    pred = b[0] + sum([w[n][0] * x**(n+1) for n in range(0, 4)])\n",
    "    return pred"
   ]
  },
  {
   "cell_type": "markdown",
   "metadata": {
    "colab_type": "text",
    "id": "8vbl6mtdwi_z"
   },
   "source": [
    "####[LSM-12]\n",
    "Plot a chart for predictions."
   ]
  },
  {
   "cell_type": "code",
   "execution_count": 13,
   "metadata": {
    "colab": {
     "base_uri": "https://localhost:8080/",
     "height": 286
    },
    "colab_type": "code",
    "id": "EQCm_ZqJzV7T",
    "outputId": "2d6dee76-ffac-41c4-9d16-6134f7f99d84"
   },
   "outputs": [
    {
     "data": {
      "text/plain": [
       "[<matplotlib.lines.Line2D at 0x17a1111c250>]"
      ]
     },
     "execution_count": 13,
     "metadata": {},
     "output_type": "execute_result"
    },
    {
     "data": {
      "image/png": "[encoded data removed]",
      "text/plain": [
       "<Figure size 432x288 with 1 Axes>"
      ]
     },
     "metadata": {
      "needs_background": "light"
     },
     "output_type": "display_data"
    }
   ],
   "source": [
    "fig = plt.figure()\n",
    "subplot = fig.add_subplot(1, 1, 1)\n",
    "subplot.set_xlim(1, 12)\n",
    "subplot.scatter(range(1, 13), train_t)\n",
    "xs = np.linspace(1, 12, 100)\n",
    "ys = predict(xs)\n",
    "subplot.plot(xs, ys)"
   ]
  },
  {
   "cell_type": "code",
   "execution_count": null,
   "metadata": {},
   "outputs": [],
   "source": []
  }
 ],
 "metadata": {
  "colab": {
   "collapsed_sections": [],
   "name": "2. Least squares method with Keras.ipynb",
   "provenance": []
  },
  "kernelspec": {
   "display_name": "Python 3 (ipykernel)",
   "language": "python",
   "name": "python3"
  },
  "language_info": {
   "codemirror_mode": {
    "name": "ipython",
    "version": 3
   },
   "file_extension": ".py",
   "mimetype": "text/x-python",
   "name": "python",
   "nbconvert_exporter": "python",
   "pygments_lexer": "ipython3",
   "version": "3.9.7"
  }
 },
 "nbformat": 4,
 "nbformat_minor": 1
}
