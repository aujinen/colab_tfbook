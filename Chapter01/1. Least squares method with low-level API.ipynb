{
 "cells": [
  {
   "cell_type": "markdown",
   "metadata": {
    "colab_type": "text",
    "id": "CbJ273-zXvzb"
   },
   "source": [
    "# Least Squares Method with Low-level API\n",
    "### 機械の中心部分に近いレベルでの操作方法を用いた、最小自乗法"
   ]
  },
  {
   "cell_type": "markdown",
   "metadata": {
    "colab_type": "text",
    "id": "wg-evE3LWM-O"
   },
   "source": [
    "注意：このノートブックはPython3および(GPUを用いない)CPU環境で動作するように設定されています。<br>\n",
    "Google Colab環境にてオンラインで実行する場合、オリジナルサイトのコードを使って下さい。<br>\n",
    "GPUの有無に関わらずPython 3.x および　TensorFlow 2.xにて1.x環境を実行可能にする設定（ないしTensorFlow 1.x） にて、オフラインにて稼動するよう変更しています。<br>\n",
    "2020/02/04: By H.Nishiyama<br>\n",
    "2021/10/12 追加・変更部分のみ日本語化<br>\n",
    "2021/10/18 コメント追加<br>"
   ]
  },
  {
   "cell_type": "markdown",
   "metadata": {
    "colab_type": "text",
    "id": "zr6_EW8A5Gmv"
   },
   "source": [
    "このノートブックはTensorFlow 2.x (ないし1.x）を使います<br>\n",
    "*もし、オンラインのCloabシステムを使うなら、オリジナルサイトのコードを使うか、次のセルを指示通りに修正して下さい。<br>\n",
    "【オリジナルサイト】https://github.com/enakai00/colab_tfbook"
   ]
  },
  {
   "cell_type": "code",
   "execution_count": 1,
   "metadata": {
    "colab": {},
    "colab_type": "code",
    "id": "JbkalBlu_tTK"
   },
   "outputs": [],
   "source": [
    "#オンラインのCloabシステムを使う場合、下記の行頭の「###」を削除する。\n",
    "###%tensorflow_version 1.x"
   ]
  },
  {
   "cell_type": "markdown",
   "metadata": {
    "colab_type": "text",
    "id": "VJO3PPzqsq8d"
   },
   "source": [
    "####[LSL-01]<br>\n",
    "Import modules.<br>\n",
    "*もし、TensorFlow 1.xを使うなら、次のセルを修正して下さい。<br>\n",
    "*下記の2行をTensorFlow 2.xで実行することで、以下の全てがTensorFlow 1.x として実行されることになります。<br>\n",
    "import tensorflow.compat.v1 as tf<br>\n",
    "tf.disable_v2_behavior()<br>\n",
    "*実行時に警告（Warning）が出るかも知れませんが、問題ありません。<br>\n",
    "*参考）https://qiita.com/rawHam/items/626d9b119cbefcee1452<br>"
   ]
  },
  {
   "cell_type": "code",
   "execution_count": 2,
   "metadata": {
    "colab": {},
    "colab_type": "code",
    "id": "gB5UUoAXIVmC"
   },
   "outputs": [
    {
     "name": "stdout",
     "output_type": "stream",
     "text": [
      "WARNING:tensorflow:From C:\\Users\\nisiy\\dpl39\\.venv\\lib\\site-packages\\tensorflow\\python\\compat\\v2_compat.py:101: disable_resource_variables (from tensorflow.python.ops.variable_scope) is deprecated and will be removed in a future version.\n",
      "Instructions for updating:\n",
      "non-resource variables are not supported in the long term\n"
     ]
    }
   ],
   "source": [
    "import numpy as np\n",
    "import matplotlib.pyplot as plt\n",
    "#--- TensorFlow 1.xを使う場合、次の行を実行可能にします。\n",
    "#import tensorflow as tf\n",
    "#--- TensorFlow 2.xを使う場合、上記の1行の代わりに次の2行を使います。（行頭の「#」を消して下さい）\n",
    "import tensorflow.compat.v1 as tf\n",
    "tf.disable_v2_behavior()\n",
    "#--- TensorFlow 1.x環境であれば、上2行の行頭に「#」を付けてコメントアウトして下さい。"
   ]
  },
  {
   "cell_type": "markdown",
   "metadata": {
    "colab_type": "text",
    "id": "yz2h7_8St1wi"
   },
   "source": [
    "####[LSL-02]<br>\n",
    "Prepare the training dateset."
   ]
  },
  {
   "cell_type": "code",
   "execution_count": 3,
   "metadata": {
    "colab": {},
    "colab_type": "code",
    "id": "ASgzWK5AjWvn"
   },
   "outputs": [],
   "source": [
    "# トレーニングセットのデータを用意します。\n",
    "train_t = np.array([5.2, 5.7, 8.6, 14.9, 18.2, 20.4,\n",
    "                    25.5, 26.4, 22.8, 17.5, 11.1, 6.6])\n",
    "\n",
    "# マトリックスサイズを「1x12」から「12x1」に変更\n",
    "train_t = train_t.reshape([12, 1])\n",
    "\n",
    "train_x = np.array([[mon**n for n in range(0, 5)]\n",
    "                    for mon in range(1, 13)])"
   ]
  },
  {
   "cell_type": "markdown",
   "metadata": {
    "colab_type": "text",
    "id": "SAVhouWduMh7"
   },
   "source": [
    "####[LSL-03]<br>\n",
    "`train_x` contains the list $[x^0, x^1, x^2, x^3, x^4]$ for $x=1,...,12$."
   ]
  },
  {
   "cell_type": "code",
   "execution_count": 4,
   "metadata": {
    "colab": {
     "base_uri": "https://localhost:8080/",
     "height": 221
    },
    "colab_type": "code",
    "id": "Hp4EnlqvToYN",
    "outputId": "df274755-95ec-4552-95f9-06538fa08c58"
   },
   "outputs": [
    {
     "data": {
      "text/plain": [
       "array([[    1,     1,     1,     1,     1],\n",
       "       [    1,     2,     4,     8,    16],\n",
       "       [    1,     3,     9,    27,    81],\n",
       "       [    1,     4,    16,    64,   256],\n",
       "       [    1,     5,    25,   125,   625],\n",
       "       [    1,     6,    36,   216,  1296],\n",
       "       [    1,     7,    49,   343,  2401],\n",
       "       [    1,     8,    64,   512,  4096],\n",
       "       [    1,     9,    81,   729,  6561],\n",
       "       [    1,    10,   100,  1000, 10000],\n",
       "       [    1,    11,   121,  1331, 14641],\n",
       "       [    1,    12,   144,  1728, 20736]])"
      ]
     },
     "execution_count": 4,
     "metadata": {},
     "output_type": "execute_result"
    }
   ],
   "source": [
    "train_x"
   ]
  },
  {
   "cell_type": "markdown",
   "metadata": {
    "colab_type": "text",
    "id": "qdQ0Tp2IvFy8"
   },
   "source": [
    "####[LSL-04]<br>\n",
    "`train_t` contins the corresponding lables for $x=1,...,12$."
   ]
  },
  {
   "cell_type": "code",
   "execution_count": 5,
   "metadata": {
    "colab": {
     "base_uri": "https://localhost:8080/",
     "height": 221
    },
    "colab_type": "code",
    "id": "tpL_niBTXggS",
    "outputId": "049ad6e2-dac1-4657-da6a-fcbcc5fbeae1"
   },
   "outputs": [
    {
     "data": {
      "text/plain": [
       "array([[ 5.2],\n",
       "       [ 5.7],\n",
       "       [ 8.6],\n",
       "       [14.9],\n",
       "       [18.2],\n",
       "       [20.4],\n",
       "       [25.5],\n",
       "       [26.4],\n",
       "       [22.8],\n",
       "       [17.5],\n",
       "       [11.1],\n",
       "       [ 6.6]])"
      ]
     },
     "execution_count": 5,
     "metadata": {},
     "output_type": "execute_result"
    }
   ],
   "source": [
    "train_t"
   ]
  },
  {
   "cell_type": "markdown",
   "metadata": {
    "colab_type": "text",
    "id": "fmnjQdqAvQRw"
   },
   "source": [
    "####[LSL-05]<br>\n",
    "\n",
    "Definie a placeholder to hold the training dataset.<br>\n",
    "*このセルはTF2.x では「AttributeError\"」が表示されて実行できません。"
   ]
  },
  {
   "cell_type": "code",
   "execution_count": 6,
   "metadata": {
    "colab": {},
    "colab_type": "code",
    "id": "BakcuKxdQoSL"
   },
   "outputs": [],
   "source": [
    "# 「任意のサイズ x 5」の32ビット浮動データマトリックスとして、\n",
    "# \"placeholder\" クラスのインスタンス \"x\" を定義\n",
    "\n",
    "x = tf.placeholder(tf.float32, [None, 5])"
   ]
  },
  {
   "cell_type": "markdown",
   "metadata": {
    "colab_type": "text",
    "id": "efpWHnG3ep6b"
   },
   "source": [
    "####[LSL-06]\n",
    "Definie variables for weights.<br>\n",
    "*Waring will be occured for some version of TensorFlow as follows;<br>\n",
    "WARNING:tensorflow:From ..."
   ]
  },
  {
   "cell_type": "code",
   "execution_count": 7,
   "metadata": {
    "colab": {},
    "colab_type": "code",
    "id": "kfxoIs4PZbxc"
   },
   "outputs": [],
   "source": [
    "# \"Variable\" クラスのインスタンス \"w\" を、\n",
    "# すべての要素がゼロに初期化された「5 x 1」行列として定義\n",
    "\n",
    "w = tf.Variable(tf.zeros([5, 1]))"
   ]
  },
  {
   "cell_type": "markdown",
   "metadata": {
    "colab_type": "text",
    "id": "CokPQLJZezOa"
   },
   "source": [
    "####[LSL-07]\n",
    "Definie a ploynomial to predict label values."
   ]
  },
  {
   "cell_type": "code",
   "execution_count": 8,
   "metadata": {
    "colab": {},
    "colab_type": "code",
    "id": "NrBwyvASZiCs"
   },
   "outputs": [],
   "source": [
    "# 行列を乗算する式として \"y\" を定義\n",
    "\n",
    "y = tf.matmul(x, w)"
   ]
  },
  {
   "cell_type": "markdown",
   "metadata": {
    "colab_type": "text",
    "id": "RJnDglfne6OM"
   },
   "source": [
    "####[LSL-08]\n",
    "Definie a placeholder to hold the label values."
   ]
  },
  {
   "cell_type": "code",
   "execution_count": 9,
   "metadata": {
    "colab": {},
    "colab_type": "code",
    "id": "-YCXdrhUZniE"
   },
   "outputs": [],
   "source": [
    "# \"placeholder\" クラスのインスタンスとして \"t\" を定義\n",
    "\n",
    "t = tf.placeholder(tf.float32, [None, 1])"
   ]
  },
  {
   "cell_type": "markdown",
   "metadata": {
    "colab_type": "text",
    "id": "fBltXsSRvZn0"
   },
   "source": [
    "####[LSL-09]\n",
    "Definine a loss function as Square error."
   ]
  },
  {
   "cell_type": "code",
   "execution_count": 10,
   "metadata": {
    "colab": {},
    "colab_type": "code",
    "id": "NQcsk7oMZpni"
   },
   "outputs": [],
   "source": [
    "# 誤差関数 \"loss\" を、実際の値と予測値の差の\n",
    "# 二乗の合計である二乗誤差として定義\n",
    "\n",
    "loss = tf.reduce_sum(tf.square(y-t))"
   ]
  },
  {
   "cell_type": "markdown",
   "metadata": {
    "colab_type": "text",
    "id": "YDNieEQlfYlt"
   },
   "source": [
    "####[LSL-10]\n",
    "Define an optimization step  using the Adam optimizer"
   ]
  },
  {
   "cell_type": "code",
   "execution_count": 11,
   "metadata": {
    "colab": {},
    "colab_type": "code",
    "id": "V0uhylUwZrGz"
   },
   "outputs": [],
   "source": [
    "# 勾配降下法を用いたトレーニングアルゴリズムである \"AdamOptimizer\" にて、\n",
    "# 誤差関数 \"loss\" を最小にする train_step を定義します。\n",
    "\n",
    "train_step = tf.train.AdamOptimizer().minimize(loss)"
   ]
  },
  {
   "cell_type": "markdown",
   "metadata": {
    "colab_type": "text",
    "id": "j5tuF6XFfmL7"
   },
   "source": [
    "####[LSL-11]\n",
    "Create a session and initialize variables."
   ]
  },
  {
   "cell_type": "code",
   "execution_count": 12,
   "metadata": {
    "colab": {},
    "colab_type": "code",
    "id": "8H-skyBNZsmF"
   },
   "outputs": [],
   "source": [
    "# セッションを用意して、Variableを初期化します。\n",
    "\n",
    "sess = tf.Session()\n",
    "sess.run(tf.global_variables_initializer())"
   ]
  },
  {
   "cell_type": "markdown",
   "metadata": {
    "colab_type": "text",
    "id": "PjbE4TVBvqCh"
   },
   "source": [
    "####[LSL-12]\n",
    "Apply the optimization step for 100,000 epochs."
   ]
  },
  {
   "cell_type": "code",
   "execution_count": 13,
   "metadata": {
    "colab": {
     "base_uri": "https://localhost:8080/",
     "height": 187
    },
    "colab_type": "code",
    "id": "e5_g4y_WZ0Di",
    "outputId": "f2478a34-19b3-46e7-8b04-ce6a8f0b3f56"
   },
   "outputs": [
    {
     "name": "stdout",
     "output_type": "stream",
     "text": [
      "Step: 10000, Loss: 31.057472229003906\n",
      "Step: 20000, Loss: 29.294565200805664\n",
      "Step: 30000, Loss: 28.055601119995117\n",
      "Step: 40000, Loss: 33.85791015625\n",
      "Step: 50000, Loss: 25.77056121826172\n",
      "Step: 60000, Loss: 24.765649795532227\n",
      "Step: 70000, Loss: 23.837772369384766\n",
      "Step: 80000, Loss: 23.28545379638672\n",
      "Step: 90000, Loss: 22.175765991210938\n",
      "Step: 100000, Loss: 21.436542510986328\n"
     ]
    }
   ],
   "source": [
    "# 勾配降下法によるパラメーターの最適化を100000回繰り返します。\n",
    "i = 0\n",
    "for _ in range(100000):\n",
    "    i += 1\n",
    "    sess.run(train_step, feed_dict={x:train_x, t:train_t})\n",
    "    #--- placeholder:xにtrain_xを入れ、placeholder:ｔにtrain_tを入れて、train_stepを実行する\n",
    "    #--- 実行後にvariable:wの値が更新され、100000回繰り返される。\n",
    "    if i % 10000 == 0:\n",
    "        loss_val = sess.run(loss, feed_dict={x:train_x, t:train_t})\n",
    "        print ('Step: {}, Loss: {}'.format(i, loss_val))\n",
    "        #--- 10000回ごとに、誤差関数（損失関数）の値を表示"
   ]
  },
  {
   "cell_type": "markdown",
   "metadata": {
    "colab_type": "text",
    "id": "DrFqiUwcwSS4"
   },
   "source": [
    "####[LSL-13]\n",
    "Show weights after the training."
   ]
  },
  {
   "cell_type": "code",
   "execution_count": 14,
   "metadata": {
    "colab": {
     "base_uri": "https://localhost:8080/",
     "height": 102
    },
    "colab_type": "code",
    "id": "_vxbUQ7qaOAG",
    "outputId": "0cb3399c-efd1-4350-fb3f-40bc5f21c0c0"
   },
   "outputs": [
    {
     "data": {
      "text/plain": [
       "array([[ 3.7647822 ],\n",
       "       [-1.5897058 ],\n",
       "       [ 1.7851104 ],\n",
       "       [-0.20121387],\n",
       "       [ 0.0053623 ]], dtype=float32)"
      ]
     },
     "execution_count": 14,
     "metadata": {},
     "output_type": "execute_result"
    }
   ],
   "source": [
    "# トレーニング後のパラメーターの値を確認します。\n",
    "sess.run(w)"
   ]
  },
  {
   "cell_type": "markdown",
   "metadata": {
    "colab_type": "text",
    "id": "9ewLkGc-waB4"
   },
   "source": [
    "####[LSL-14]\n",
    "Define a function to predict values using the final weights."
   ]
  },
  {
   "cell_type": "code",
   "execution_count": 15,
   "metadata": {
    "colab": {},
    "colab_type": "code",
    "id": "587A6vekhVdw"
   },
   "outputs": [],
   "source": [
    "# トレーニング後のパラメーターを用いて、予測気温を計算する関数を定義します。\n",
    "ws = sess.run(w)\n",
    "def predict(x):\n",
    "    pred = sum([ws[n][0] * x**n for n in range(0, 5)])\n",
    "    return pred"
   ]
  },
  {
   "cell_type": "markdown",
   "metadata": {
    "colab_type": "text",
    "id": "8vbl6mtdwi_z"
   },
   "source": [
    "####[LSL-15]\n",
    "Plot a chart for predictions."
   ]
  },
  {
   "cell_type": "code",
   "execution_count": 16,
   "metadata": {
    "colab": {
     "base_uri": "https://localhost:8080/",
     "height": 286
    },
    "colab_type": "code",
    "id": "EQCm_ZqJzV7T",
    "outputId": "1dc80a37-68e1-47c5-db8d-ebf038e9abed"
   },
   "outputs": [
    {
     "data": {
      "text/plain": [
       "[<matplotlib.lines.Line2D at 0x2727fefd730>]"
      ]
     },
     "execution_count": 16,
     "metadata": {},
     "output_type": "execute_result"
    },
    {
     "data": {
      "image/png": "[encoded data removed]",
      "text/plain": [
       "<Figure size 432x288 with 1 Axes>"
      ]
     },
     "metadata": {
      "needs_background": "light"
     },
     "output_type": "display_data"
    }
   ],
   "source": [
    "# 予測気温のグラフを描きます。\n",
    "fig = plt.figure()\n",
    "subplot = fig.add_subplot(1, 1, 1)\n",
    "subplot.set_xlim(1, 12)\n",
    "subplot.set_xticks(range(1, 13))\n",
    "subplot.scatter(range(1, 13), train_t)\n",
    "xs = np.linspace(1, 12, 100)\n",
    "ys = predict(xs)\n",
    "subplot.plot(xs, ys)"
   ]
  }
 ],
 "metadata": {
  "colab": {
   "collapsed_sections": [],
   "name": "1. Least squares method with low-level API.ipynb",
   "provenance": [],
   "version": "0.3.2"
  },
  "kernelspec": {
   "display_name": "Python 3 (ipykernel)",
   "language": "python",
   "name": "python3"
  },
  "language_info": {
   "codemirror_mode": {
    "name": "ipython",
    "version": 3
   },
   "file_extension": ".py",
   "mimetype": "text/x-python",
   "name": "python",
   "nbconvert_exporter": "python",
   "pygments_lexer": "ipython3",
   "version": "3.9.7"
  }
 },
 "nbformat": 4,
 "nbformat_minor": 1
}
