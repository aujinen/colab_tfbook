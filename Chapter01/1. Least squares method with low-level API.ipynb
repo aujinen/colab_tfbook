{
 "cells": [
  {
   "cell_type": "markdown",
   "metadata": {
    "colab_type": "text",
    "id": "CbJ273-zXvzb"
   },
   "source": [
    "# Least Squares Method with Low-level API"
   ]
  },
  {
   "cell_type": "markdown",
   "metadata": {
    "colab_type": "text",
    "id": "wg-evE3LWM-O"
   },
   "source": [
    "Note: This notebook is desinged to run with Python3 and CPU (no GPU) runtime.<br>\n",
    "\n",
    "Modified for local (off-line) mode with Python 3.x, TensorFlow 1.x (or 2.x), with or without GPU<br>\n",
    "2020/02/04: By H.Nishiyama<br>"
   ]
  },
  {
   "cell_type": "markdown",
   "metadata": {
    "colab_type": "text",
    "id": "zr6_EW8A5Gmv"
   },
   "source": [
    "This notebook uses TensorFlow 1.x (or 2.x).<br>\n",
    "*If you use on online-colaboratory system, remove \"###\" from the top of lines in code cells. <br>"
   ]
  },
  {
   "cell_type": "code",
   "execution_count": 1,
   "metadata": {
    "colab": {},
    "colab_type": "code",
    "id": "JbkalBlu_tTK"
   },
   "outputs": [],
   "source": [
    "###%tensorflow_version 1.x"
   ]
  },
  {
   "cell_type": "markdown",
   "metadata": {
    "colab_type": "text",
    "id": "VJO3PPzqsq8d"
   },
   "source": [
    "####[LSL-01]\n",
    "Import modules.<br>\n",
    "*If you use TensorFlow 2.x, then modified next cells.(worning will be occured, but it's ok)."
   ]
  },
  {
   "cell_type": "code",
   "execution_count": 2,
   "metadata": {
    "colab": {},
    "colab_type": "code",
    "id": "gB5UUoAXIVmC"
   },
   "outputs": [],
   "source": [
    "import numpy as np\n",
    "import matplotlib.pyplot as plt\n",
    "#--- For TensorFlow 1.x, use the following line, but if you use TensorFlow2.x, you need to comment it out.\n",
    "import tensorflow as tf\n",
    "#--- For TensorFlow 2.x use following two lines, instead of upper line.\n",
    "#import tensorflow.compat.v1 as tf\n",
    "#tf.disable_v2_behavior()"
   ]
  },
  {
   "cell_type": "markdown",
   "metadata": {
    "colab_type": "text",
    "id": "yz2h7_8St1wi"
   },
   "source": [
    "####[LSL-02]\n",
    "Prepare the training dateset."
   ]
  },
  {
   "cell_type": "code",
   "execution_count": 3,
   "metadata": {
    "colab": {},
    "colab_type": "code",
    "id": "ASgzWK5AjWvn"
   },
   "outputs": [],
   "source": [
    "train_t = np.array([5.2, 5.7, 8.6, 14.9, 18.2, 20.4,\n",
    "                    25.5, 26.4, 22.8, 17.5, 11.1, 6.6])\n",
    "train_t = train_t.reshape([12, 1])\n",
    "train_x = np.array([[mon**n for n in range(0, 5)]\n",
    "                    for mon in range(1, 13)])"
   ]
  },
  {
   "cell_type": "markdown",
   "metadata": {
    "colab_type": "text",
    "id": "SAVhouWduMh7"
   },
   "source": [
    "####[LSL-03]\n",
    "`train_x` contains the list $[x^0, x^1, x^2, x^3, x^4]$ for $x=1,...,12$."
   ]
  },
  {
   "cell_type": "code",
   "execution_count": 4,
   "metadata": {
    "colab": {
     "base_uri": "https://localhost:8080/",
     "height": 221
    },
    "colab_type": "code",
    "id": "Hp4EnlqvToYN",
    "outputId": "df274755-95ec-4552-95f9-06538fa08c58"
   },
   "outputs": [
    {
     "data": {
      "text/plain": [
       "array([[    1,     1,     1,     1,     1],\n",
       "       [    1,     2,     4,     8,    16],\n",
       "       [    1,     3,     9,    27,    81],\n",
       "       [    1,     4,    16,    64,   256],\n",
       "       [    1,     5,    25,   125,   625],\n",
       "       [    1,     6,    36,   216,  1296],\n",
       "       [    1,     7,    49,   343,  2401],\n",
       "       [    1,     8,    64,   512,  4096],\n",
       "       [    1,     9,    81,   729,  6561],\n",
       "       [    1,    10,   100,  1000, 10000],\n",
       "       [    1,    11,   121,  1331, 14641],\n",
       "       [    1,    12,   144,  1728, 20736]])"
      ]
     },
     "execution_count": 4,
     "metadata": {},
     "output_type": "execute_result"
    }
   ],
   "source": [
    "train_x"
   ]
  },
  {
   "cell_type": "markdown",
   "metadata": {
    "colab_type": "text",
    "id": "qdQ0Tp2IvFy8"
   },
   "source": [
    "####[LSL-04]\n",
    "`train_t` contins the corresponding lables for $x=1,...,12$."
   ]
  },
  {
   "cell_type": "code",
   "execution_count": 5,
   "metadata": {
    "colab": {
     "base_uri": "https://localhost:8080/",
     "height": 221
    },
    "colab_type": "code",
    "id": "tpL_niBTXggS",
    "outputId": "049ad6e2-dac1-4657-da6a-fcbcc5fbeae1"
   },
   "outputs": [
    {
     "data": {
      "text/plain": [
       "array([[ 5.2],\n",
       "       [ 5.7],\n",
       "       [ 8.6],\n",
       "       [14.9],\n",
       "       [18.2],\n",
       "       [20.4],\n",
       "       [25.5],\n",
       "       [26.4],\n",
       "       [22.8],\n",
       "       [17.5],\n",
       "       [11.1],\n",
       "       [ 6.6]])"
      ]
     },
     "execution_count": 5,
     "metadata": {},
     "output_type": "execute_result"
    }
   ],
   "source": [
    "train_t"
   ]
  },
  {
   "cell_type": "markdown",
   "metadata": {
    "colab_type": "text",
    "id": "fmnjQdqAvQRw"
   },
   "source": [
    "####[LSL-05]\n",
    "Definie a placeholder to hold the training dataset.<br>\n",
    "*This cell cannot be executed by TF2.x with error of \"AttributeError\"."
   ]
  },
  {
   "cell_type": "code",
   "execution_count": 6,
   "metadata": {
    "colab": {},
    "colab_type": "code",
    "id": "BakcuKxdQoSL"
   },
   "outputs": [],
   "source": [
    "x = tf.placeholder(tf.float32, [None, 5])"
   ]
  },
  {
   "cell_type": "markdown",
   "metadata": {
    "colab_type": "text",
    "id": "efpWHnG3ep6b"
   },
   "source": [
    "####[LSL-06]\n",
    "Definie variables for weights.<br>\n",
    "*Waring will be occured for some version of TensorFlow as follows;<br>\n",
    "WARNING:tensorflow:From ..."
   ]
  },
  {
   "cell_type": "code",
   "execution_count": 7,
   "metadata": {
    "colab": {},
    "colab_type": "code",
    "id": "kfxoIs4PZbxc"
   },
   "outputs": [],
   "source": [
    "w = tf.Variable(tf.zeros([5, 1]))"
   ]
  },
  {
   "cell_type": "markdown",
   "metadata": {
    "colab_type": "text",
    "id": "CokPQLJZezOa"
   },
   "source": [
    "####[LSL-07]\n",
    "Definie a ploynomial to predict label values."
   ]
  },
  {
   "cell_type": "code",
   "execution_count": 8,
   "metadata": {
    "colab": {},
    "colab_type": "code",
    "id": "NrBwyvASZiCs"
   },
   "outputs": [],
   "source": [
    "y = tf.matmul(x, w)"
   ]
  },
  {
   "cell_type": "markdown",
   "metadata": {
    "colab_type": "text",
    "id": "RJnDglfne6OM"
   },
   "source": [
    "####[LSL-08]\n",
    "Definie a placeholder to hold the label values."
   ]
  },
  {
   "cell_type": "code",
   "execution_count": 9,
   "metadata": {
    "colab": {},
    "colab_type": "code",
    "id": "-YCXdrhUZniE"
   },
   "outputs": [],
   "source": [
    "t = tf.placeholder(tf.float32, [None, 1])"
   ]
  },
  {
   "cell_type": "markdown",
   "metadata": {
    "colab_type": "text",
    "id": "fBltXsSRvZn0"
   },
   "source": [
    "####[LSL-09]\n",
    "Definine a loss function as Square error."
   ]
  },
  {
   "cell_type": "code",
   "execution_count": 10,
   "metadata": {
    "colab": {},
    "colab_type": "code",
    "id": "NQcsk7oMZpni"
   },
   "outputs": [],
   "source": [
    "loss = tf.reduce_sum(tf.square(y-t))"
   ]
  },
  {
   "cell_type": "markdown",
   "metadata": {
    "colab_type": "text",
    "id": "YDNieEQlfYlt"
   },
   "source": [
    "####[LSL-10]\n",
    "Define an optimization step  using the Adam optimizer"
   ]
  },
  {
   "cell_type": "code",
   "execution_count": 11,
   "metadata": {
    "colab": {},
    "colab_type": "code",
    "id": "V0uhylUwZrGz"
   },
   "outputs": [],
   "source": [
    "train_step = tf.train.AdamOptimizer().minimize(loss)"
   ]
  },
  {
   "cell_type": "markdown",
   "metadata": {
    "colab_type": "text",
    "id": "j5tuF6XFfmL7"
   },
   "source": [
    "####[LSL-11]\n",
    "Create a session and initialize variables."
   ]
  },
  {
   "cell_type": "code",
   "execution_count": 12,
   "metadata": {
    "colab": {},
    "colab_type": "code",
    "id": "8H-skyBNZsmF"
   },
   "outputs": [],
   "source": [
    "sess = tf.Session()\n",
    "sess.run(tf.global_variables_initializer())"
   ]
  },
  {
   "cell_type": "markdown",
   "metadata": {
    "colab_type": "text",
    "id": "PjbE4TVBvqCh"
   },
   "source": [
    "####[LSL-12]\n",
    "Apply the optimization step for 100,000 epochs."
   ]
  },
  {
   "cell_type": "code",
   "execution_count": 13,
   "metadata": {
    "colab": {
     "base_uri": "https://localhost:8080/",
     "height": 187
    },
    "colab_type": "code",
    "id": "e5_g4y_WZ0Di",
    "outputId": "f2478a34-19b3-46e7-8b04-ce6a8f0b3f56"
   },
   "outputs": [
    {
     "name": "stdout",
     "output_type": "stream",
     "text": [
      "Step: 10000, Loss: 31.01653289794922\n",
      "Step: 20000, Loss: 29.296321868896484\n",
      "Step: 30000, Loss: 28.03015899658203\n",
      "Step: 40000, Loss: 26.859878540039062\n",
      "Step: 50000, Loss: 25.777938842773438\n",
      "Step: 60000, Loss: 24.773574829101562\n",
      "Step: 70000, Loss: 23.841527938842773\n",
      "Step: 80000, Loss: 22.977947235107422\n",
      "Step: 90000, Loss: 22.18220329284668\n",
      "Step: 100000, Loss: 21.441646575927734\n"
     ]
    }
   ],
   "source": [
    "i = 0\n",
    "for _ in range(100000):\n",
    "    i += 1\n",
    "    sess.run(train_step, feed_dict={x:train_x, t:train_t})\n",
    "    if i % 10000 == 0:\n",
    "        loss_val = sess.run(loss, feed_dict={x:train_x, t:train_t})\n",
    "        print ('Step: {}, Loss: {}'.format(i, loss_val))"
   ]
  },
  {
   "cell_type": "markdown",
   "metadata": {
    "colab_type": "text",
    "id": "DrFqiUwcwSS4"
   },
   "source": [
    "####[LSL-13]\n",
    "Show weights after the training."
   ]
  },
  {
   "cell_type": "code",
   "execution_count": 14,
   "metadata": {
    "colab": {
     "base_uri": "https://localhost:8080/",
     "height": 102
    },
    "colab_type": "code",
    "id": "_vxbUQ7qaOAG",
    "outputId": "0cb3399c-efd1-4350-fb3f-40bc5f21c0c0"
   },
   "outputs": [
    {
     "data": {
      "text/plain": [
       "array([[ 3.7627609 ],\n",
       "       [-1.5875863 ],\n",
       "       [ 1.7844833 ],\n",
       "       [-0.20114413],\n",
       "       [ 0.00535984]], dtype=float32)"
      ]
     },
     "execution_count": 14,
     "metadata": {},
     "output_type": "execute_result"
    }
   ],
   "source": [
    "sess.run(w)"
   ]
  },
  {
   "cell_type": "markdown",
   "metadata": {
    "colab_type": "text",
    "id": "9ewLkGc-waB4"
   },
   "source": [
    "####[LSL-14]\n",
    "Define a function to predict values using the final weights."
   ]
  },
  {
   "cell_type": "code",
   "execution_count": 15,
   "metadata": {
    "colab": {},
    "colab_type": "code",
    "id": "587A6vekhVdw"
   },
   "outputs": [],
   "source": [
    "ws = sess.run(w)\n",
    "def predict(x):\n",
    "    pred = sum([ws[n][0] * x**n for n in range(0, 5)])\n",
    "    return pred"
   ]
  },
  {
   "cell_type": "markdown",
   "metadata": {
    "colab_type": "text",
    "id": "8vbl6mtdwi_z"
   },
   "source": [
    "####[LSL-15]\n",
    "Plot a chart for predictions."
   ]
  },
  {
   "cell_type": "code",
   "execution_count": 16,
   "metadata": {
    "colab": {
     "base_uri": "https://localhost:8080/",
     "height": 286
    },
    "colab_type": "code",
    "id": "EQCm_ZqJzV7T",
    "outputId": "1dc80a37-68e1-47c5-db8d-ebf038e9abed"
   },
   "outputs": [
    {
     "data": {
      "text/plain": [
       "[<matplotlib.lines.Line2D at 0x171ef809940>]"
      ]
     },
     "execution_count": 16,
     "metadata": {},
     "output_type": "execute_result"
    },
    {
     "data": {
      "image/png": "[encoded data removed]",
      "text/plain": [
       "<Figure size 432x288 with 1 Axes>"
      ]
     },
     "metadata": {
      "needs_background": "light"
     },
     "output_type": "display_data"
    }
   ],
   "source": [
    "fig = plt.figure()\n",
    "subplot = fig.add_subplot(1, 1, 1)\n",
    "subplot.set_xlim(1, 12)\n",
    "subplot.set_xticks(range(1, 13))\n",
    "subplot.scatter(range(1, 13), train_t)\n",
    "xs = np.linspace(1, 12, 100)\n",
    "ys = predict(xs)\n",
    "subplot.plot(xs, ys)"
   ]
  },
  {
   "cell_type": "code",
   "execution_count": null,
   "metadata": {},
   "outputs": [],
   "source": []
  }
 ],
 "metadata": {
  "colab": {
   "collapsed_sections": [],
   "name": "1. Least squares method with low-level API.ipynb",
   "provenance": [],
   "version": "0.3.2"
  },
  "kernelspec": {
   "display_name": "Python 3",
   "language": "python",
   "name": "python3"
  },
  "language_info": {
   "codemirror_mode": {
    "name": "ipython",
    "version": 3
   },
   "file_extension": ".py",
   "mimetype": "text/x-python",
   "name": "python",
   "nbconvert_exporter": "python",
   "pygments_lexer": "ipython3",
   "version": "3.6.10"
  }
 },
 "nbformat": 4,
 "nbformat_minor": 1
}
