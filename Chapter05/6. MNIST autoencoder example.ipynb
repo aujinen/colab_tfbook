{
 "cells": [
  {
   "cell_type": "markdown",
   "metadata": {
    "colab_type": "text",
    "id": "m_3F2cWjR5oY"
   },
   "source": [
    "# MNIST Autoencoder Example"
   ]
  },
  {
   "cell_type": "markdown",
   "metadata": {
    "colab_type": "text",
    "id": "Xb2oPe61FRhE"
   },
   "source": [
    "Note: This notebook is desinged to run with Python3 and CPU (no GPU) runtime.<br>\n",
    "\n",
    "Modified for local (off-line) mode with Python 3.x, TensorFlow 1.x (or 2.x), with or without GPU<br>\n",
    "2020/02/04: By H.Nishiyama<br>"
   ]
  },
  {
   "cell_type": "markdown",
   "metadata": {
    "colab_type": "text",
    "id": "-xkr13nCB0Il"
   },
   "source": [
    "This notebook rewrite for local (off-line) TensorFlow 1.x (or 2.x).<br>\n",
    "*If you use on online-colaboratory system, remove \"###\" from the top of lines in code cells. <br>\n",
    "Original notebook uses TensorFlow 2.x."
   ]
  },
  {
   "cell_type": "code",
   "execution_count": 1,
   "metadata": {
    "colab": {
     "base_uri": "https://localhost:8080/",
     "height": 34
    },
    "colab_type": "code",
    "id": "kop8_9RihcJX",
    "outputId": "b9c3c0db-11a2-4242-9c80-1b3a9c05cfb4"
   },
   "outputs": [],
   "source": [
    "###%tensorflow_version 2.x"
   ]
  },
  {
   "cell_type": "markdown",
   "metadata": {
    "colab_type": "text",
    "id": "ATCLp_uaFWKn"
   },
   "source": [
    "####[MAE-01]\n",
    "Import modules and set a random seed."
   ]
  },
  {
   "cell_type": "code",
   "execution_count": 2,
   "metadata": {
    "colab": {},
    "colab_type": "code",
    "id": "8uoZRr9eOmwG"
   },
   "outputs": [],
   "source": [
    "import numpy as np\n",
    "import matplotlib.pyplot as plt\n",
    "\n",
    "import tensorflow as tf\n",
    "from tensorflow.keras import layers, models\n",
    "from tensorflow.keras.datasets import mnist"
   ]
  },
  {
   "cell_type": "markdown",
   "metadata": {
    "colab_type": "text",
    "id": "qHRHP6VmFiBf"
   },
   "source": [
    "####[MAE-02]\n",
    "Download the MNIST dataset and store into NumPy arrays."
   ]
  },
  {
   "cell_type": "code",
   "execution_count": 3,
   "metadata": {
    "colab": {},
    "colab_type": "code",
    "id": "0ByKCdhESGpP"
   },
   "outputs": [],
   "source": [
    "(train_images, train_labels), (test_images, test_labels) = mnist.load_data()\n",
    "train_images = train_images.reshape(\n",
    "                  (len(train_images), 784)).astype('float32') / 255\n",
    "test_images = test_images.reshape(\n",
    "                  (len(test_images), 784)).astype('float32') / 255\n",
    "train_labels = tf.keras.utils.to_categorical(train_labels, 10)\n",
    "test_labels = tf.keras.utils.to_categorical(test_labels, 10)"
   ]
  },
  {
   "cell_type": "markdown",
   "metadata": {
    "colab_type": "text",
    "id": "Yv8XFYsnFmhm"
   },
   "source": [
    "####[MAE-03]\n",
    "Define an autoencoder model for MNIST images."
   ]
  },
  {
   "cell_type": "code",
   "execution_count": 4,
   "metadata": {
    "colab": {
     "base_uri": "https://localhost:8080/",
     "height": 357
    },
    "colab_type": "code",
    "id": "qKvSYzl9SSkf",
    "outputId": "73c23317-f74d-44dc-efbc-8a75db2cf694"
   },
   "outputs": [
    {
     "name": "stdout",
     "output_type": "stream",
     "text": [
      "WARNING:tensorflow:From C:\\Users\\nisiy\\Anaconda3\\envs\\dpl36\\lib\\site-packages\\tensorflow_core\\python\\ops\\resource_variable_ops.py:1630: calling BaseResourceVariable.__init__ (from tensorflow.python.ops.resource_variable_ops) with constraint is deprecated and will be removed in a future version.\n",
      "Instructions for updating:\n",
      "If using Keras pass *_constraint arguments to layers.\n",
      "Model: \"sequential\"\n",
      "_________________________________________________________________\n",
      "Layer (type)                 Output Shape              Param #   \n",
      "=================================================================\n",
      "dense (Dense)                (None, 256)               200960    \n",
      "_________________________________________________________________\n",
      "dense_1 (Dense)              (None, 128)               32896     \n",
      "_________________________________________________________________\n",
      "dense_2 (Dense)              (None, 16)                2064      \n",
      "_________________________________________________________________\n",
      "dense_3 (Dense)              (None, 128)               2176      \n",
      "_________________________________________________________________\n",
      "dense_4 (Dense)              (None, 256)               33024     \n",
      "_________________________________________________________________\n",
      "dense_5 (Dense)              (None, 784)               201488    \n",
      "=================================================================\n",
      "Total params: 472,608\n",
      "Trainable params: 472,608\n",
      "Non-trainable params: 0\n",
      "_________________________________________________________________\n"
     ]
    }
   ],
   "source": [
    "model = models.Sequential()\n",
    "model.add(layers.Dense(256, activation='relu', input_shape=(28*28,)))\n",
    "model.add(layers.Dense(128, activation='relu'))\n",
    "model.add(layers.Dense(16, activation='relu'))\n",
    "model.add(layers.Dense(128, activation='relu'))\n",
    "model.add(layers.Dense(256, activation='relu'))\n",
    "model.add(layers.Dense(784, activation='sigmoid'))\n",
    "\n",
    "model.summary()"
   ]
  },
  {
   "cell_type": "markdown",
   "metadata": {
    "colab_type": "text",
    "id": "CqEVpoE8GBnw"
   },
   "source": [
    "####[MAE-04]\n",
    "Compile the model using the Adam optimizer, and MSE as a loss function."
   ]
  },
  {
   "cell_type": "code",
   "execution_count": 5,
   "metadata": {
    "colab": {},
    "colab_type": "code",
    "id": "XEwdyyX5SeHg"
   },
   "outputs": [],
   "source": [
    "model.compile(optimizer='adam', loss='mse')"
   ]
  },
  {
   "cell_type": "markdown",
   "metadata": {
    "colab_type": "text",
    "id": "OzHiZ02QGOr_"
   },
   "source": [
    "####[MAE-05]\n",
    "Define a function to show reconstructed images."
   ]
  },
  {
   "cell_type": "code",
   "execution_count": 6,
   "metadata": {
    "colab": {},
    "colab_type": "code",
    "id": "ysTYu_WoSiOc"
   },
   "outputs": [],
   "source": [
    "def show_result():\n",
    "    results = model.predict(test_images[:8])\n",
    "  \n",
    "    fig = plt.figure(figsize=(16, 2.7))\n",
    "    for i in range(8):\n",
    "      subplot = fig.add_subplot(2, 10, i+1)\n",
    "      subplot.set_xticks([])\n",
    "      subplot.set_yticks([])\n",
    "      subplot.imshow(test_images[i].reshape((28, 28)),\n",
    "                     vmin=0, vmax=1, cmap=plt.cm.gray_r)\n",
    "\n",
    "      subplot = fig.add_subplot(2, 10, i+11)\n",
    "      subplot.set_xticks([])\n",
    "      subplot.set_yticks([])\n",
    "      subplot.imshow(results[i].reshape((28, 28)),\n",
    "                     vmin=0, vmax=1, cmap=plt.cm.gray_r)"
   ]
  },
  {
   "cell_type": "markdown",
   "metadata": {
    "colab_type": "text",
    "id": "l93-rrTEGdcr"
   },
   "source": [
    "####[MAE-06]\n",
    "Train the model for a single epoch with 30,000 images, and show the intermediate result."
   ]
  },
  {
   "cell_type": "code",
   "execution_count": 7,
   "metadata": {
    "colab": {
     "base_uri": "https://localhost:8080/",
     "height": 219
    },
    "colab_type": "code",
    "id": "yR5SvOxtSu1v",
    "outputId": "15df8eda-0554-4146-d657-44b74fc47d29"
   },
   "outputs": [
    {
     "name": "stdout",
     "output_type": "stream",
     "text": [
      "Train on 30000 samples\n",
      "30000/30000 [==============================] - 1s 42us/sample - loss: 0.0778\n"
     ]
    },
    {
     "data": {
      "image/png": "[encoded data removed]",
      "text/plain": [
       "<Figure size 1152x194.4 with 16 Axes>"
      ]
     },
     "metadata": {},
     "output_type": "display_data"
    }
   ],
   "source": [
    "history = model.fit(train_images[:30000], train_images[:30000],\n",
    "                    batch_size=256, epochs=1)\n",
    "show_result()"
   ]
  },
  {
   "cell_type": "markdown",
   "metadata": {
    "colab_type": "text",
    "id": "Cxju3n-DGt0p"
   },
   "source": [
    "####[MAE-07]\n",
    "Train the model for additional epochs, and show the final result."
   ]
  },
  {
   "cell_type": "code",
   "execution_count": 8,
   "metadata": {
    "colab": {
     "base_uri": "https://localhost:8080/",
     "height": 406
    },
    "colab_type": "code",
    "id": "33eI8EHqTHgo",
    "outputId": "ef1733bd-eaf8-411b-990d-2a80cabb11e1"
   },
   "outputs": [
    {
     "name": "stdout",
     "output_type": "stream",
     "text": [
      "Train on 60000 samples\n",
      "Epoch 1/6\n",
      "60000/60000 [==============================] - 2s 31us/sample - loss: 0.0364\n",
      "Epoch 2/6\n",
      "60000/60000 [==============================] - 2s 31us/sample - loss: 0.0258\n",
      "Epoch 3/6\n",
      "60000/60000 [==============================] - 2s 31us/sample - loss: 0.0227\n",
      "Epoch 4/6\n",
      "60000/60000 [==============================] - 2s 31us/sample - loss: 0.0212\n",
      "Epoch 5/6\n",
      "60000/60000 [==============================] - 2s 31us/sample - loss: 0.0200\n",
      "Epoch 6/6\n",
      "60000/60000 [==============================] - 2s 31us/sample - loss: 0.0191\n"
     ]
    },
    {
     "data": {
      "image/png": "[encoded data removed]",
      "text/plain": [
       "<Figure size 1152x194.4 with 16 Axes>"
      ]
     },
     "metadata": {},
     "output_type": "display_data"
    }
   ],
   "source": [
    "history = model.fit(train_images, train_images,\n",
    "                    batch_size=256, epochs=6)\n",
    "show_result()"
   ]
  },
  {
   "cell_type": "markdown",
   "metadata": {
    "colab_type": "text",
    "id": "3reJyL0bG0KL"
   },
   "source": [
    "####[MAE-08]\n",
    "Define a Javascript function to create a drawing canvas.\n",
    "*Modified to local (off-line) system.<br>"
   ]
  },
  {
   "cell_type": "code",
   "execution_count": 9,
   "metadata": {
    "colab": {},
    "colab_type": "code",
    "id": "s3MKTkF7Tjx0"
   },
   "outputs": [],
   "source": [
    "input_form = \"\"\"\n",
    "<table>\n",
    "<td style=\"border-style: none;\">\n",
    "<div style=\"border: solid 2px #666; width: 143px; height: 144px;\">\n",
    "<canvas width=\"140\" height=\"140\"></canvas>\n",
    "</div></td>\n",
    "<td style=\"border-style: none;\">\n",
    "<button onclick=\"clear_value()\">Clear</button>\n",
    "</td>\n",
    "</table>\n",
    "\"\"\"\n",
    "\n",
    "javascript = \"\"\"\n",
    "<script type=\"text/Javascript\">\n",
    "    var pixels = [];\n",
    "    for (var i = 0; i < 28*28; i++) pixels[i] = 0;\n",
    "    var click = 0;\n",
    "\n",
    "    var canvas = document.querySelector(\"canvas\");\n",
    "    canvas.addEventListener(\"mousemove\", function(e) {\n",
    "        if (e.buttons == 1) {\n",
    "            click = 1;\n",
    "            canvas.getContext(\"2d\").fillStyle = \"rgb(0, 0, 0)\";\n",
    "            canvas.getContext(\"2d\").fillRect(e.offsetX, e.offsetY, 8, 8);\n",
    "            x = Math.floor(e.offsetY*0.2);\n",
    "            y = Math.floor(e.offsetX*0.2) + 1;\n",
    "            for (var dy = 0; dy < 2; dy++) {\n",
    "                for (var dx = 0; dx < 2; dx++) {\n",
    "                    if ((x + dx < 28) && (y + dy < 28)) {\n",
    "                        pixels[(y+dy)+(x+dx)*28] = 1;\n",
    "                    }\n",
    "                }\n",
    "            }\n",
    "        } else {\n",
    "            if (click == 1) set_value()\n",
    "            click = 0;\n",
    "        }\n",
    "    });\n",
    "    \n",
    "    function set_value() {\n",
    "        var result = \"\";\n",
    "        for (var i = 0; i < 28*28; i++) result += pixels[i] + \",\";\n",
    "        //--- If you use original online-colaboratory system,\n",
    "        //    remove \"////\" from the beginning of the next two lines.\n",
    "        //// google.colab.kernel.invokeFunction(\n",
    "        ////                  'notebook.set_image', [result], {});\n",
    "        \n",
    "        //--- If you use original online-colaboratory system,\n",
    "        //    add \"////\" to the beginning of the next two lines.\n",
    "        var kernel = IPython.notebook.kernel;\n",
    "        kernel.execute(\"image = [\" + result + \"]\");\n",
    "    }\n",
    "    \n",
    "    function clear_value() {\n",
    "        canvas.getContext(\"2d\").fillStyle = \"rgb(255, 255, 255)\";\n",
    "        canvas.getContext(\"2d\").fillRect(0, 0, 140, 140);\n",
    "        for (var i = 0; i < 28*28; i++) pixels[i] = 0;\n",
    "    }\n",
    "</script>\n",
    "\"\"\""
   ]
  },
  {
   "cell_type": "markdown",
   "metadata": {
    "colab_type": "text",
    "id": "ldxT9u0MHHFx"
   },
   "source": [
    "####[MAE-09]\n",
    "Show a drawing canvas."
   ]
  },
  {
   "cell_type": "code",
   "execution_count": 10,
   "metadata": {
    "colab": {
     "base_uri": "https://localhost:8080/",
     "height": 171
    },
    "colab_type": "code",
    "id": "1woQaR70TsRA",
    "outputId": "5fca2b1c-65d0-463e-b45d-512d07c6e761"
   },
   "outputs": [
    {
     "data": {
      "text/html": [
       "\n",
       "<table>\n",
       "<td style=\"border-style: none;\">\n",
       "<div style=\"border: solid 2px #666; width: 143px; height: 144px;\">\n",
       "<canvas width=\"140\" height=\"140\"></canvas>\n",
       "</div></td>\n",
       "<td style=\"border-style: none;\">\n",
       "<button onclick=\"clear_value()\">Clear</button>\n",
       "</td>\n",
       "</table>\n",
       "\n",
       "<script type=\"text/Javascript\">\n",
       "    var pixels = [];\n",
       "    for (var i = 0; i < 28*28; i++) pixels[i] = 0;\n",
       "    var click = 0;\n",
       "\n",
       "    var canvas = document.querySelector(\"canvas\");\n",
       "    canvas.addEventListener(\"mousemove\", function(e) {\n",
       "        if (e.buttons == 1) {\n",
       "            click = 1;\n",
       "            canvas.getContext(\"2d\").fillStyle = \"rgb(0, 0, 0)\";\n",
       "            canvas.getContext(\"2d\").fillRect(e.offsetX, e.offsetY, 8, 8);\n",
       "            x = Math.floor(e.offsetY*0.2);\n",
       "            y = Math.floor(e.offsetX*0.2) + 1;\n",
       "            for (var dy = 0; dy < 2; dy++) {\n",
       "                for (var dx = 0; dx < 2; dx++) {\n",
       "                    if ((x + dx < 28) && (y + dy < 28)) {\n",
       "                        pixels[(y+dy)+(x+dx)*28] = 1;\n",
       "                    }\n",
       "                }\n",
       "            }\n",
       "        } else {\n",
       "            if (click == 1) set_value()\n",
       "            click = 0;\n",
       "        }\n",
       "    });\n",
       "    \n",
       "    function set_value() {\n",
       "        var result = \"\";\n",
       "        for (var i = 0; i < 28*28; i++) result += pixels[i] + \",\";\n",
       "        //--- If you use original online-colaboratory system,\n",
       "        //    remove \"////\" from the beginning of the next two lines.\n",
       "        //// google.colab.kernel.invokeFunction(\n",
       "        ////                  'notebook.set_image', [result], {});\n",
       "        \n",
       "        //--- If you use original online-colaboratory system,\n",
       "        //    add \"////\" to the beginning of the next two lines.\n",
       "        var kernel = IPython.notebook.kernel;\n",
       "        kernel.execute(\"image = [\" + result + \"]\");\n",
       "    }\n",
       "    \n",
       "    function clear_value() {\n",
       "        canvas.getContext(\"2d\").fillStyle = \"rgb(255, 255, 255)\";\n",
       "        canvas.getContext(\"2d\").fillRect(0, 0, 140, 140);\n",
       "        for (var i = 0; i < 28*28; i++) pixels[i] = 0;\n",
       "    }\n",
       "</script>\n"
      ],
      "text/plain": [
       "<IPython.core.display.HTML object>"
      ]
     },
     "execution_count": 10,
     "metadata": {},
     "output_type": "execute_result"
    }
   ],
   "source": [
    "###from google.colab import output  \n",
    "from IPython.display import HTML\n",
    "\n",
    "def set_image(result):\n",
    "    global image\n",
    "    image = np.array([float(x) for x in result.split(',')[:-1]])\n",
    "\n",
    "image = None\n",
    "###output.register_callback('notebook.set_image', set_image)\n",
    "\n",
    "HTML(input_form + javascript)"
   ]
  },
  {
   "cell_type": "markdown",
   "metadata": {
    "colab_type": "text",
    "id": "mEQmyfkBHMEi"
   },
   "source": [
    "####[MAE-10]\n",
    "Show a resconstructed image from the handwritten example."
   ]
  },
  {
   "cell_type": "code",
   "execution_count": 11,
   "metadata": {
    "colab": {
     "base_uri": "https://localhost:8080/",
     "height": 207
    },
    "colab_type": "code",
    "id": "dkZgZqqST0dT",
    "outputId": "2750bc78-3d07-446b-bfb1-6777433e449e"
   },
   "outputs": [
    {
     "data": {
      "text/plain": [
       "<matplotlib.image.AxesImage at 0x1be42fbdc18>"
      ]
     },
     "execution_count": 11,
     "metadata": {},
     "output_type": "execute_result"
    },
    {
     "data": {
      "image/png": "[encoded data removed]",
      "text/plain": [
       "<Figure size 432x216 with 2 Axes>"
      ]
     },
     "metadata": {},
     "output_type": "display_data"
    }
   ],
   "source": [
    "results = model.predict(np.array([image]))\n",
    "\n",
    "fig = plt.figure(figsize=(6, 3))\n",
    "subplot = fig.add_subplot(1, 2, 1)\n",
    "subplot.set_xticks([])\n",
    "subplot.set_yticks([])\n",
    "subplot.imshow(np.array(image).reshape((28, 28)), \n",
    "               vmin=0, vmax=1, cmap=plt.cm.gray_r)\n",
    "subplot = fig.add_subplot(1, 2, 2)\n",
    "subplot.set_xticks([])\n",
    "subplot.set_yticks([])\n",
    "subplot.imshow(results[0].reshape((28, 28)),\n",
    "               vmin=0, vmax=1, cmap=plt.cm.gray_r)"
   ]
  },
  {
   "cell_type": "code",
   "execution_count": null,
   "metadata": {},
   "outputs": [],
   "source": []
  }
 ],
 "metadata": {
  "accelerator": "GPU",
  "colab": {
   "collapsed_sections": [],
   "name": "6. MNIST autoencoder example.ipynb",
   "provenance": [],
   "version": "0.3.2"
  },
  "kernelspec": {
   "display_name": "Python 3",
   "language": "python",
   "name": "python3"
  },
  "language_info": {
   "codemirror_mode": {
    "name": "ipython",
    "version": 3
   },
   "file_extension": ".py",
   "mimetype": "text/x-python",
   "name": "python",
   "nbconvert_exporter": "python",
   "pygments_lexer": "ipython3",
   "version": "3.6.10"
  }
 },
 "nbformat": 4,
 "nbformat_minor": 1
}
