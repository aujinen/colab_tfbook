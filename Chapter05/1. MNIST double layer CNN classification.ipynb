{
 "cells": [
  {
   "cell_type": "markdown",
   "metadata": {
    "colab_type": "text",
    "id": "1SWrL8CzpjuU"
   },
   "source": [
    "# MNIST Double Layer CNN Classification"
   ]
  },
  {
   "cell_type": "markdown",
   "metadata": {
    "colab_type": "text",
    "id": "KrzRk0GUyNd_"
   },
   "source": [
    "Note: This notebook is desinged to run with Python3 and GPU runtime.<br>\n",
    "\n",
    "Modified for local (off-line) mode with Python 3.x, TensorFlow 1.x (or 2.x), with or without GPU<br>\n",
    "2020/02/04: By H.Nishiyama<br>"
   ]
  },
  {
   "cell_type": "markdown",
   "metadata": {
    "colab_type": "text",
    "id": "-xkr13nCB0Il"
   },
   "source": [
    "This notebook rewrite for local (off-line) TensorFlow 1.x (or 2.x).<br>\n",
    "*If you use on online-colaboratory system, remove \"###\" from the top of lines in code cells. <br>\n",
    "Original notebook uses TensorFlow 2.x."
   ]
  },
  {
   "cell_type": "code",
   "execution_count": 1,
   "metadata": {
    "colab": {
     "base_uri": "https://localhost:8080/",
     "height": 34
    },
    "colab_type": "code",
    "id": "kop8_9RihcJX",
    "outputId": "4f4c0468-32e2-462a-8e56-f08b9fbb7522",
    "scrolled": true
   },
   "outputs": [],
   "source": [
    "###%tensorflow_version 2.x"
   ]
  },
  {
   "cell_type": "markdown",
   "metadata": {
    "colab_type": "text",
    "id": "VJO3PPzqsq8d"
   },
   "source": [
    "####[CNN-01]\n",
    "Import modules and set a random seed."
   ]
  },
  {
   "cell_type": "code",
   "execution_count": 2,
   "metadata": {
    "colab": {},
    "colab_type": "code",
    "id": "gB5UUoAXIVmC"
   },
   "outputs": [],
   "source": [
    "import numpy as np\n",
    "from pandas import DataFrame\n",
    "import matplotlib.pyplot as plt\n",
    "\n",
    "import tensorflow as tf\n",
    "from tensorflow.keras import layers, models, initializers\n",
    "from tensorflow.keras.datasets import mnist\n",
    "\n",
    "np.random.seed(20190213)\n",
    "\n",
    "#--- For TensorFlow 1.x, use the following line, but if you use TensorFlow2.x, you need to comment it out..\n",
    "tf.random.set_random_seed(20190213)\n",
    "#--- For TensorFlow 2.x, use following line, instead of upper line.\n",
    "###tf.random.set_seed(20190213)"
   ]
  },
  {
   "cell_type": "markdown",
   "metadata": {
    "colab_type": "text",
    "id": "yz2h7_8St1wi"
   },
   "source": [
    "####[CNN-02]\n",
    "Download the MNIST dataset and store into NumPy arrays."
   ]
  },
  {
   "cell_type": "code",
   "execution_count": 3,
   "metadata": {
    "colab": {},
    "colab_type": "code",
    "id": "ASgzWK5AjWvn"
   },
   "outputs": [],
   "source": [
    "(train_images, train_labels), (test_images, test_labels) = mnist.load_data()\n",
    "train_images = train_images.reshape(\n",
    "                  (len(train_images), 784)).astype('float32') / 255\n",
    "test_images = test_images.reshape(\n",
    "                  (len(test_images), 784)).astype('float32') / 255\n",
    "train_labels = tf.keras.utils.to_categorical(train_labels, 10)\n",
    "test_labels = tf.keras.utils.to_categorical(test_labels, 10)"
   ]
  },
  {
   "cell_type": "markdown",
   "metadata": {
    "colab_type": "text",
    "id": "qdQ0Tp2IvFy8"
   },
   "source": [
    "####[CNN-03]\n",
    "Define a CNN model with a single convolutional filter layer.<br>\n",
    "*Waring will be occured for some version of TensorFlow as follows;<br>\n",
    "WARNING:tensorflow:From ..."
   ]
  },
  {
   "cell_type": "code",
   "execution_count": 4,
   "metadata": {
    "colab": {
     "base_uri": "https://localhost:8080/",
     "height": 459
    },
    "colab_type": "code",
    "id": "tpL_niBTXggS",
    "outputId": "440abdfe-6afb-4a4d-f3ef-4844edc3088d"
   },
   "outputs": [
    {
     "name": "stdout",
     "output_type": "stream",
     "text": [
      "WARNING:tensorflow:From C:\\XXXX\\Anaconda3\\envs\\dpl36\\lib\\site-packages\\tensorflow_core\\python\\keras\\initializers.py:94: calling TruncatedNormal.__init__ (from tensorflow.python.ops.init_ops) with dtype is deprecated and will be removed in a future version.\n",
      "Instructions for updating:\n",
      "Call initializer instance with the dtype argument instead of passing it to the constructor\n",
      "WARNING:tensorflow:From C:\\XXXX\\Anaconda3\\envs\\dpl36\\lib\\site-packages\\tensorflow_core\\python\\ops\\resource_variable_ops.py:1630: calling BaseResourceVariable.__init__ (from tensorflow.python.ops.resource_variable_ops) with constraint is deprecated and will be removed in a future version.\n",
      "Instructions for updating:\n",
      "If using Keras pass *_constraint arguments to layers.\n",
      "Model: \"sequential\"\n",
      "_________________________________________________________________\n",
      "Layer (type)                 Output Shape              Param #   \n",
      "=================================================================\n",
      "reshape (Reshape)            (None, 28, 28, 1)         0         \n",
      "_________________________________________________________________\n",
      "conv_filter1 (Conv2D)        (None, 28, 28, 32)        832       \n",
      "_________________________________________________________________\n",
      "max_pooling1 (MaxPooling2D)  (None, 14, 14, 32)        0         \n",
      "_________________________________________________________________\n",
      "conv_filter2 (Conv2D)        (None, 14, 14, 64)        51264     \n",
      "_________________________________________________________________\n",
      "max_pooling2 (MaxPooling2D)  (None, 7, 7, 64)          0         \n",
      "_________________________________________________________________\n",
      "flatten (Flatten)            (None, 3136)              0         \n",
      "_________________________________________________________________\n",
      "hidden (Dense)               (None, 1024)              3212288   \n",
      "_________________________________________________________________\n",
      "dropout (Dropout)            (None, 1024)              0         \n",
      "_________________________________________________________________\n",
      "softmax (Dense)              (None, 10)                10250     \n",
      "=================================================================\n",
      "Total params: 3,274,634\n",
      "Trainable params: 3,274,634\n",
      "Non-trainable params: 0\n",
      "_________________________________________________________________\n"
     ]
    }
   ],
   "source": [
    "model = models.Sequential()\n",
    "model.add(layers.Reshape((28, 28, 1), input_shape=(28*28,), name='reshape'))\n",
    "model.add(layers.Conv2D(32, (5, 5), padding='same',\n",
    "                        kernel_initializer=initializers.TruncatedNormal(),\n",
    "                        use_bias=True, activation='relu',\n",
    "                        name='conv_filter1'))\n",
    "model.add(layers.MaxPooling2D((2, 2), name='max_pooling1'))\n",
    "model.add(layers.Conv2D(64, (5, 5), padding='same',\n",
    "                        kernel_initializer=initializers.TruncatedNormal(),\n",
    "                        use_bias=True, activation='relu',\n",
    "                        name='conv_filter2'))\n",
    "model.add(layers.MaxPooling2D((2, 2), name='max_pooling2'))\n",
    "model.add(layers.Flatten(name='flatten'))\n",
    "model.add(layers.Dense(1024, activation='relu',\n",
    "                       kernel_initializer=initializers.TruncatedNormal(),\n",
    "                       name='hidden'))\n",
    "model.add(layers.Dropout(rate=0.5, name='dropout'))\n",
    "model.add(layers.Dense(10, activation='softmax', name='softmax'))\n",
    "\n",
    "model.summary()"
   ]
  },
  {
   "cell_type": "markdown",
   "metadata": {
    "colab_type": "text",
    "id": "fBltXsSRvZn0"
   },
   "source": [
    "####[CNN-04]\n",
    "Compile the model using the Adam optimizer, and Cross entroy as a loss function."
   ]
  },
  {
   "cell_type": "code",
   "execution_count": 5,
   "metadata": {
    "colab": {},
    "colab_type": "code",
    "id": "BakcuKxdQoSL"
   },
   "outputs": [],
   "source": [
    "model.compile(optimizer='adam',\n",
    "              loss='categorical_crossentropy',\n",
    "              metrics=['acc'])"
   ]
  },
  {
   "cell_type": "markdown",
   "metadata": {
    "colab_type": "text",
    "id": "9s1eWABtyrH_"
   },
   "source": [
    "####[CNN-05]\n",
    "Train the model. It achieves the 99.4% accuracy.<br>\n",
    "*Note: It takes more than 10 minutes without GPU."
   ]
  },
  {
   "cell_type": "code",
   "execution_count": 6,
   "metadata": {
    "colab": {
     "base_uri": "https://localhost:8080/",
     "height": 462
    },
    "colab_type": "code",
    "id": "LlQCTsKKXkr5",
    "outputId": "7a9c9b42-e1ab-4da4-b01e-7a4f282b39da"
   },
   "outputs": [
    {
     "name": "stdout",
     "output_type": "stream",
     "text": [
      "Train on 60000 samples, validate on 10000 samples\n",
      "Epoch 1/10\n",
      "60000/60000 [==============================] - 57s 944us/sample - loss: 0.1505 - acc: 0.9537 - val_loss: 0.0369 - val_acc: 0.9874\n",
      "Epoch 2/10\n",
      "60000/60000 [==============================] - 57s 954us/sample - loss: 0.0459 - acc: 0.9859 - val_loss: 0.0292 - val_acc: 0.9912\n",
      "Epoch 3/10\n",
      "60000/60000 [==============================] - 60s 1ms/sample - loss: 0.0312 - acc: 0.9903 - val_loss: 0.0286 - val_acc: 0.9896\n",
      "Epoch 4/10\n",
      "60000/60000 [==============================] - 61s 1ms/sample - loss: 0.0235 - acc: 0.9924 - val_loss: 0.0229 - val_acc: 0.9923\n",
      "Epoch 5/10\n",
      "60000/60000 [==============================] - 56s 940us/sample - loss: 0.0183 - acc: 0.9941 - val_loss: 0.0233 - val_acc: 0.9930\n",
      "Epoch 6/10\n",
      "60000/60000 [==============================] - 56s 940us/sample - loss: 0.0153 - acc: 0.9950 - val_loss: 0.0226 - val_acc: 0.9930\n",
      "Epoch 7/10\n",
      "60000/60000 [==============================] - 56s 938us/sample - loss: 0.0138 - acc: 0.9955 - val_loss: 0.0213 - val_acc: 0.9934\n",
      "Epoch 8/10\n",
      "60000/60000 [==============================] - 56s 936us/sample - loss: 0.0121 - acc: 0.9960 - val_loss: 0.0280 - val_acc: 0.9928\n",
      "Epoch 9/10\n",
      "60000/60000 [==============================] - 58s 961us/sample - loss: 0.0104 - acc: 0.9966 - val_loss: 0.0237 - val_acc: 0.9935\n",
      "Epoch 10/10\n",
      "60000/60000 [==============================] - 59s 982us/sample - loss: 0.0091 - acc: 0.9972 - val_loss: 0.0359 - val_acc: 0.9911\n"
     ]
    }
   ],
   "source": [
    "history = model.fit(train_images, train_labels,\n",
    "                    validation_data=(test_images, test_labels),\n",
    "                    batch_size=128, epochs=10)"
   ]
  },
  {
   "cell_type": "markdown",
   "metadata": {
    "colab_type": "text",
    "id": "YaQHWbdhy06d"
   },
   "source": [
    "####[CNN-06]\n",
    "Plot chars for accuracy and loss values."
   ]
  },
  {
   "cell_type": "code",
   "execution_count": 7,
   "metadata": {
    "colab": {
     "base_uri": "https://localhost:8080/",
     "height": 538
    },
    "colab_type": "code",
    "id": "YVBm18oNpFR_",
    "outputId": "7b6dab16-918f-4177-faf3-082818c55f09"
   },
   "outputs": [
    {
     "data": {
      "text/plain": [
       "<matplotlib.axes._subplots.AxesSubplot at 0x28c07da37b8>"
      ]
     },
     "execution_count": 7,
     "metadata": {},
     "output_type": "execute_result"
    },
    {
     "data": {
      "image/png": "[encoded data removed]",
      "text/plain": [
       "<Figure size 432x288 with 1 Axes>"
      ]
     },
     "metadata": {
      "needs_background": "light"
     },
     "output_type": "display_data"
    },
    {
     "data": {
      "image/png": "[encoded data removed]",
      "text/plain": [
       "<Figure size 432x288 with 1 Axes>"
      ]
     },
     "metadata": {
      "needs_background": "light"
     },
     "output_type": "display_data"
    }
   ],
   "source": [
    "DataFrame({'acc': history.history['acc'], \n",
    "           'val_acc': history.history['val_acc']}).plot()\n",
    "DataFrame({'loss': history.history['loss'], \n",
    "           'val_loss': history.history['val_loss']}).plot()"
   ]
  },
  {
   "cell_type": "markdown",
   "metadata": {
    "colab_type": "text",
    "id": "MpSePiAysZHn"
   },
   "source": [
    "####[CNN-07]\n",
    "Modified to local (off-line) system.<br>\n",
    "Original: Mount your Google Drive on `/content/gdrive`.<br>\n",
    "Modified: Nothing."
   ]
  },
  {
   "cell_type": "code",
   "execution_count": 8,
   "metadata": {
    "colab": {
     "base_uri": "https://localhost:8080/",
     "height": 34
    },
    "colab_type": "code",
    "id": "KTDOKlWoe2Kz",
    "outputId": "0cd28fff-89b9-48a2-8970-21c0796c69a3"
   },
   "outputs": [],
   "source": [
    "###from google.colab import drive\n",
    "###drive.mount('/content/gdrive')"
   ]
  },
  {
   "cell_type": "markdown",
   "metadata": {
    "colab_type": "text",
    "id": "NP9DEPolzd0w"
   },
   "source": [
    "####[MDF-08]\n",
    "Modified to local (off-line) system.<br>\n",
    "Original: Export the trained model as a file `MNIST_double.hd5` on your Google Drive.<br>\n",
    "Modified: Export the trained model as a file `MNIST_double.hd5` on your /tmp/ directory.<br>"
   ]
  },
  {
   "cell_type": "code",
   "execution_count": 9,
   "metadata": {
    "colab": {
     "base_uri": "https://localhost:8080/",
     "height": 34
    },
    "colab_type": "code",
    "id": "jY2TeEWCwxix",
    "outputId": "e80eb27b-9613-4b0e-d7e9-64951b292f55",
    "scrolled": true
   },
   "outputs": [],
   "source": [
    "model.save('/tmp/MNIST_double.hd5', save_format='h5')\n",
    "###model.save('/content/gdrive/My Drive/MNIST_double.hd5', save_format='h5')\n",
    "###!ls -lh '/content/gdrive/My Drive/MNIST_double.hd5'"
   ]
  },
  {
   "cell_type": "code",
   "execution_count": null,
   "metadata": {},
   "outputs": [],
   "source": []
  }
 ],
 "metadata": {
  "accelerator": "GPU",
  "colab": {
   "collapsed_sections": [],
   "name": "1. MNIST double layer CNN classification.ipynb",
   "provenance": [],
   "version": "0.3.2"
  },
  "kernelspec": {
   "display_name": "Python 3",
   "language": "python",
   "name": "python3"
  },
  "language_info": {
   "codemirror_mode": {
    "name": "ipython",
    "version": 3
   },
   "file_extension": ".py",
   "mimetype": "text/x-python",
   "name": "python",
   "nbconvert_exporter": "python",
   "pygments_lexer": "ipython3",
   "version": "3.6.10"
  }
 },
 "nbformat": 4,
 "nbformat_minor": 1
}
