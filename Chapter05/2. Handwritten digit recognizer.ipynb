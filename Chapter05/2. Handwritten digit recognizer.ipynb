{
 "cells": [
  {
   "cell_type": "markdown",
   "metadata": {
    "colab_type": "text",
    "id": "3pxCWfcZ2kFm"
   },
   "source": [
    "# Handwritten Digit Recognizer"
   ]
  },
  {
   "cell_type": "markdown",
   "metadata": {
    "colab_type": "text",
    "id": "V5T4eXX92xLB"
   },
   "source": [
    "Note: This notebook is desinged to run with Python3 and GPU runtime.<br>\n",
    "\n",
    "Modified for local (off-line) mode with Python 3.x, TensorFlow 1.x (or 2.x), with or without GPU<br>\n",
    "2020/02/04: By H.Nishiyama<br>"
   ]
  },
  {
   "cell_type": "markdown",
   "metadata": {
    "colab_type": "text",
    "id": "-xkr13nCB0Il"
   },
   "source": [
    "This notebook rewrite for local (off-line) TensorFlow 1.x (or 2.x).<br>\n",
    "*If you use on online-colaboratory system, remove \"###\" from the top of lines in code cells. <br>\n",
    "Original notebook uses TensorFlow 2.x."
   ]
  },
  {
   "cell_type": "code",
   "execution_count": 1,
   "metadata": {
    "colab": {
     "base_uri": "https://localhost:8080/",
     "height": 34
    },
    "colab_type": "code",
    "id": "kop8_9RihcJX",
    "outputId": "d1c25d15-49cc-496f-88cf-42b6d402e97b"
   },
   "outputs": [],
   "source": [
    "###%tensorflow_version 2.x"
   ]
  },
  {
   "cell_type": "markdown",
   "metadata": {
    "colab_type": "text",
    "id": "VJO3PPzqsq8d"
   },
   "source": [
    "####[HDR-01]\n",
    "Import modules."
   ]
  },
  {
   "cell_type": "code",
   "execution_count": 2,
   "metadata": {
    "colab": {},
    "colab_type": "code",
    "id": "gB5UUoAXIVmC"
   },
   "outputs": [],
   "source": [
    "import numpy as np\n",
    "import matplotlib.pyplot as plt\n",
    "\n",
    "from tensorflow.keras import layers, models"
   ]
  },
  {
   "cell_type": "markdown",
   "metadata": {
    "colab_type": "text",
    "id": "yz2h7_8St1wi"
   },
   "source": [
    "####[HDR-02]\n",
    "Modified to local (off-line) system.<br>\n",
    "Original: Mount your Google Drive on `/content/gdrive`.<br>\n",
    "Modified: Nothing."
   ]
  },
  {
   "cell_type": "code",
   "execution_count": 3,
   "metadata": {
    "colab": {
     "base_uri": "https://localhost:8080/",
     "height": 34
    },
    "colab_type": "code",
    "id": "tpL_niBTXggS",
    "outputId": "82a58fe5-a6b8-4376-bab9-cafa2d386e14"
   },
   "outputs": [],
   "source": [
    "###from google.colab import drive\n",
    "###drive.mount('/content/gdrive')"
   ]
  },
  {
   "cell_type": "markdown",
   "metadata": {
    "colab_type": "text",
    "id": "fBltXsSRvZn0"
   },
   "source": [
    "####[HDR-03]\n",
    "Modified to local (off-line) system.<br>\n",
    "Original: Confirm that the exported model file `MNIST_double.hd5` is on your Google Drive.<br>\n",
    "Modified: Confirm that the exported model file MNIST_double.hd5 is on your c:\\tmp\\ directory."
   ]
  },
  {
   "cell_type": "code",
   "execution_count": 4,
   "metadata": {
    "colab": {
     "base_uri": "https://localhost:8080/",
     "height": 34
    },
    "colab_type": "code",
    "id": "zq-uJjvNgO6A",
    "outputId": "c64788a4-4ed2-4728-f99c-11b6402f728d",
    "scrolled": true
   },
   "outputs": [
    {
     "name": "stdout",
     "output_type": "stream",
     "text": [
      " ドライブ C のボリューム ラベルは XXXX です\n",
      " ボリューム シリアル番号は XXXX-XXXX です\n",
      "\n",
      " C:\\tmp のディレクトリ\n",
      "\n",
      "2020/02/09  15:59        39,340,992 MNIST_double.hd5\n",
      "               1 個のファイル          39,340,992 バイト\n",
      "               0 個のディレクトリ  412,190,990,336 バイトの空き領域\n"
     ]
    }
   ],
   "source": [
    "###!ls -lh '/content/gdrive/My Drive/MNIST_double.hd5'\n",
    "# For local (off-line) mode, use /tmp/ dir.\n",
    "# If you use on online-colaboratory system, comment out the next line.\n",
    "!dir \\tmp\\MNIST_double.hd5"
   ]
  },
  {
   "cell_type": "markdown",
   "metadata": {
    "colab_type": "text",
    "id": "aBJKXOtk3DWy"
   },
   "source": [
    "####[HDR-04]\n",
    "Restore the model from the exported model file.<br>\n",
    "Modified to local (off-line) system.<br>\n",
    "*Waring will be occured for some version of TensorFlow as follows;<br>\n",
    "WARNING:tensorflow:From ..."
   ]
  },
  {
   "cell_type": "code",
   "execution_count": 5,
   "metadata": {
    "colab": {
     "base_uri": "https://localhost:8080/",
     "height": 547
    },
    "colab_type": "code",
    "id": "BakcuKxdQoSL",
    "outputId": "a590fb9e-58d8-4b20-a05b-dc01c4597736",
    "scrolled": true
   },
   "outputs": [
    {
     "name": "stdout",
     "output_type": "stream",
     "text": [
      "WARNING:tensorflow:From C:\\XXXX\\Anaconda3\\envs\\dpl36\\lib\\site-packages\\tensorflow_core\\python\\keras\\initializers.py:94: calling TruncatedNormal.__init__ (from tensorflow.python.ops.init_ops) with dtype is deprecated and will be removed in a future version.\n",
      "Instructions for updating:\n",
      "Call initializer instance with the dtype argument instead of passing it to the constructor\n",
      "WARNING:tensorflow:From C:\\XXXX\\Anaconda3\\envs\\dpl36\\lib\\site-packages\\tensorflow_core\\python\\ops\\init_ops.py:97: calling Zeros.__init__ (from tensorflow.python.ops.init_ops) with dtype is deprecated and will be removed in a future version.\n",
      "Instructions for updating:\n",
      "Call initializer instance with the dtype argument instead of passing it to the constructor\n",
      "WARNING:tensorflow:From C:\\XXXX\\Anaconda3\\envs\\dpl36\\lib\\site-packages\\tensorflow_core\\python\\ops\\resource_variable_ops.py:1630: calling BaseResourceVariable.__init__ (from tensorflow.python.ops.resource_variable_ops) with constraint is deprecated and will be removed in a future version.\n",
      "Instructions for updating:\n",
      "If using Keras pass *_constraint arguments to layers.\n",
      "WARNING:tensorflow:From C:\\XXXX\\Anaconda3\\envs\\dpl36\\lib\\site-packages\\tensorflow_core\\python\\ops\\init_ops.py:97: calling GlorotUniform.__init__ (from tensorflow.python.ops.init_ops) with dtype is deprecated and will be removed in a future version.\n",
      "Instructions for updating:\n",
      "Call initializer instance with the dtype argument instead of passing it to the constructor\n",
      "Model: \"sequential\"\n",
      "_________________________________________________________________\n",
      "Layer (type)                 Output Shape              Param #   \n",
      "=================================================================\n",
      "reshape (Reshape)            (None, 28, 28, 1)         0         \n",
      "_________________________________________________________________\n",
      "conv_filter1 (Conv2D)        (None, 28, 28, 32)        832       \n",
      "_________________________________________________________________\n",
      "max_pooling1 (MaxPooling2D)  (None, 14, 14, 32)        0         \n",
      "_________________________________________________________________\n",
      "conv_filter2 (Conv2D)        (None, 14, 14, 64)        51264     \n",
      "_________________________________________________________________\n",
      "max_pooling2 (MaxPooling2D)  (None, 7, 7, 64)          0         \n",
      "_________________________________________________________________\n",
      "flatten (Flatten)            (None, 3136)              0         \n",
      "_________________________________________________________________\n",
      "hidden (Dense)               (None, 1024)              3212288   \n",
      "_________________________________________________________________\n",
      "dropout (Dropout)            (None, 1024)              0         \n",
      "_________________________________________________________________\n",
      "softmax (Dense)              (None, 10)                10250     \n",
      "=================================================================\n",
      "Total params: 3,274,634\n",
      "Trainable params: 3,274,634\n",
      "Non-trainable params: 0\n",
      "_________________________________________________________________\n"
     ]
    }
   ],
   "source": [
    "###model = models.load_model('/content/gdrive/My Drive/MNIST_double.hd5')\n",
    "# For local (off-line) mode, use /tmp/ dir.\n",
    "# If you use on online-colaboratory system, comment out the next line.\n",
    "model = models.load_model('/tmp/MNIST_double.hd5')\n",
    "model.summary()"
   ]
  },
  {
   "cell_type": "markdown",
   "metadata": {
    "colab_type": "text",
    "id": "O5Q6GaJC3ICa"
   },
   "source": [
    "####[HDR-05]\n",
    "Define a model to extract outputs from intermediate layers."
   ]
  },
  {
   "cell_type": "code",
   "execution_count": 6,
   "metadata": {
    "colab": {},
    "colab_type": "code",
    "id": "gCrvgrephgYN"
   },
   "outputs": [],
   "source": [
    "layer_outputs = [model.get_layer('max_pooling1').output,\n",
    "                 model.get_layer('max_pooling2').output]\n",
    "model2 = models.Model(inputs=model.input, outputs=layer_outputs)"
   ]
  },
  {
   "cell_type": "markdown",
   "metadata": {
    "colab_type": "text",
    "id": "EMg7wjd13Lg2"
   },
   "source": [
    "####[HDR-06]\n",
    "Define a Javascript function to create a drawing canvas.<br>\n",
    "*Modified to local (off-line) system.<br>"
   ]
  },
  {
   "cell_type": "code",
   "execution_count": 7,
   "metadata": {
    "colab": {},
    "colab_type": "code",
    "id": "mGb8L6T1qu7Y"
   },
   "outputs": [],
   "source": [
    "input_form = \"\"\"\n",
    "<table>\n",
    "<td style=\"border-style: none;\">\n",
    "<div style=\"border: solid 2px #666; width: 143px; height: 144px;\">\n",
    "<canvas width=\"140\" height=\"140\"></canvas>\n",
    "</div></td>\n",
    "<td style=\"border-style: none;\">\n",
    "<button onclick=\"clear_value()\">Clear</button>\n",
    "</td>\n",
    "</table>\n",
    "\"\"\"\n",
    "\n",
    "javascript = \"\"\"\n",
    "<script type=\"text/Javascript\">\n",
    "    var pixels = [];\n",
    "    for (var i = 0; i < 28*28; i++) pixels[i] = 0;\n",
    "    var click = 0;\n",
    "\n",
    "    var canvas = document.querySelector(\"canvas\");\n",
    "    canvas.addEventListener(\"mousemove\", function(e) {\n",
    "        if (e.buttons == 1) {\n",
    "            click = 1;\n",
    "            canvas.getContext(\"2d\").fillStyle = \"rgb(0, 0, 0)\";\n",
    "            canvas.getContext(\"2d\").fillRect(e.offsetX, e.offsetY, 8, 8);\n",
    "            x = Math.floor(e.offsetY*0.2);\n",
    "            y = Math.floor(e.offsetX*0.2) + 1;\n",
    "            for (var dy = 0; dy < 2; dy++) {\n",
    "                for (var dx = 0; dx < 2; dx++) {\n",
    "                    if ((x + dx < 28) && (y + dy < 28)) {\n",
    "                        pixels[(y+dy)+(x+dx)*28] = 1;\n",
    "                    }\n",
    "                }\n",
    "            }\n",
    "        } else {\n",
    "            if (click == 1) set_value()\n",
    "            click = 0;\n",
    "        }\n",
    "    });\n",
    "    \n",
    "    function set_value() {\n",
    "        var result = \"\";\n",
    "        for (var i = 0; i < 28*28; i++) result += pixels[i] + \",\";\n",
    "        \n",
    "        //--- If you use original online-colaboratory system,\n",
    "        //    remove \"////\" from the beginning of the next two lines.\n",
    "        //// google.colab.kernel.invokeFunction(\n",
    "        ////                  'notebook.set_image', [result], {});\n",
    "        \n",
    "        //--- If you use original online-colaboratory system,\n",
    "        //    add \"////\" to the beginning of the next two lines.\n",
    "        var kernel = IPython.notebook.kernel;\n",
    "        kernel.execute(\"image = [\" + result + \"]\");\n",
    "    }\n",
    "\n",
    "    function clear_value() {\n",
    "        canvas.getContext(\"2d\").fillStyle = \"rgb(255, 255, 255)\";\n",
    "        canvas.getContext(\"2d\").fillRect(0, 0, 140, 140);\n",
    "        for (var i = 0; i < 28*28; i++) pixels[i] = 0;\n",
    "    }\n",
    "</script>\n",
    "\"\"\""
   ]
  },
  {
   "cell_type": "markdown",
   "metadata": {
    "colab_type": "text",
    "id": "IY6_TVtx3cFw"
   },
   "source": [
    "####[HDR-07]\n",
    "Show a drawing canvas."
   ]
  },
  {
   "cell_type": "code",
   "execution_count": 8,
   "metadata": {
    "colab": {
     "base_uri": "https://localhost:8080/",
     "height": 171
    },
    "colab_type": "code",
    "id": "aTtpz_KFq3RU",
    "outputId": "17ead52c-02eb-47e6-a5fc-ed1ef24459b4",
    "scrolled": true
   },
   "outputs": [
    {
     "data": {
      "text/html": [
       "\n",
       "<table>\n",
       "<td style=\"border-style: none;\">\n",
       "<div style=\"border: solid 2px #666; width: 143px; height: 144px;\">\n",
       "<canvas width=\"140\" height=\"140\"></canvas>\n",
       "</div></td>\n",
       "<td style=\"border-style: none;\">\n",
       "<button onclick=\"clear_value()\">Clear</button>\n",
       "</td>\n",
       "</table>\n",
       "\n",
       "<script type=\"text/Javascript\">\n",
       "    var pixels = [];\n",
       "    for (var i = 0; i < 28*28; i++) pixels[i] = 0;\n",
       "    var click = 0;\n",
       "\n",
       "    var canvas = document.querySelector(\"canvas\");\n",
       "    canvas.addEventListener(\"mousemove\", function(e) {\n",
       "        if (e.buttons == 1) {\n",
       "            click = 1;\n",
       "            canvas.getContext(\"2d\").fillStyle = \"rgb(0, 0, 0)\";\n",
       "            canvas.getContext(\"2d\").fillRect(e.offsetX, e.offsetY, 8, 8);\n",
       "            x = Math.floor(e.offsetY*0.2);\n",
       "            y = Math.floor(e.offsetX*0.2) + 1;\n",
       "            for (var dy = 0; dy < 2; dy++) {\n",
       "                for (var dx = 0; dx < 2; dx++) {\n",
       "                    if ((x + dx < 28) && (y + dy < 28)) {\n",
       "                        pixels[(y+dy)+(x+dx)*28] = 1;\n",
       "                    }\n",
       "                }\n",
       "            }\n",
       "        } else {\n",
       "            if (click == 1) set_value()\n",
       "            click = 0;\n",
       "        }\n",
       "    });\n",
       "    \n",
       "    function set_value() {\n",
       "        var result = \"\";\n",
       "        for (var i = 0; i < 28*28; i++) result += pixels[i] + \",\";\n",
       "        \n",
       "        //--- If you use original online-colaboratory system,\n",
       "        //    remove \"////\" from the beginning of the next two lines.\n",
       "        //// google.colab.kernel.invokeFunction(\n",
       "        ////                  'notebook.set_image', [result], {});\n",
       "        \n",
       "        //--- If you use original online-colaboratory system,\n",
       "        //    add \"////\" to the beginning of the next two lines.\n",
       "        var kernel = IPython.notebook.kernel;\n",
       "        kernel.execute(\"image = [\" + result + \"]\");\n",
       "    }\n",
       "\n",
       "    function clear_value() {\n",
       "        canvas.getContext(\"2d\").fillStyle = \"rgb(255, 255, 255)\";\n",
       "        canvas.getContext(\"2d\").fillRect(0, 0, 140, 140);\n",
       "        for (var i = 0; i < 28*28; i++) pixels[i] = 0;\n",
       "    }\n",
       "</script>\n"
      ],
      "text/plain": [
       "<IPython.core.display.HTML object>"
      ]
     },
     "execution_count": 8,
     "metadata": {},
     "output_type": "execute_result"
    }
   ],
   "source": [
    "###from google.colab import output  \n",
    "from IPython.display import HTML\n",
    "\n",
    "def set_image(result):\n",
    "    global image\n",
    "    image = np.array([float(x) for x in result.split(',')[:-1]])\n",
    "\n",
    "image = None\n",
    "###output.register_callback('notebook.set_image', set_image)\n",
    "\n",
    "HTML(input_form + javascript)"
   ]
  },
  {
   "cell_type": "markdown",
   "metadata": {
    "colab_type": "text",
    "id": "48D4ZoyT3mKI"
   },
   "source": [
    "####[HDR-08]\n",
    "Make a prediction for the handwritten digit on the drawing canvas.<br>\n",
    "*Modified to local (off-line) system.<br>"
   ]
  },
  {
   "cell_type": "code",
   "execution_count": 9,
   "metadata": {
    "colab": {
     "base_uri": "https://localhost:8080/",
     "height": 232
    },
    "colab_type": "code",
    "id": "04AiP_WQq6qp",
    "outputId": "a318a789-9399-4cf4-88d0-292324fc5ba3",
    "scrolled": false
   },
   "outputs": [
    {
     "data": {
      "text/plain": [
       "<BarContainer object of 10 artists>"
      ]
     },
     "execution_count": 9,
     "metadata": {},
     "output_type": "execute_result"
    },
    {
     "data": {
      "image/png": "[encoded data removed]",
      "text/plain": [
       "<Figure size 432x216 with 1 Axes>"
      ]
     },
     "metadata": {
      "needs_background": "light"
     },
     "output_type": "display_data"
    }
   ],
   "source": [
    "# If you use on online-colaboratory system, comment out the next line.\n",
    "image = np.array(image, np.float16)\n",
    "#---\n",
    "p_val = model.predict(image.reshape(1,28*28))\n",
    "\n",
    "fig = plt.figure(figsize=(6, 3))\n",
    "pred = p_val[0]\n",
    "subplot = fig.add_subplot(1, 1, 1)\n",
    "subplot.set_xticks(range(10))\n",
    "subplot.set_xlim(-0.5, 9.5)\n",
    "subplot.set_ylim(0, 1)\n",
    "subplot.bar(range(10), pred, align='center')"
   ]
  },
  {
   "cell_type": "markdown",
   "metadata": {
    "colab_type": "text",
    "id": "p8zYpQqy3wbB"
   },
   "source": [
    "####[HDR-09]\n",
    "Get output images from the convolutional filters."
   ]
  },
  {
   "cell_type": "code",
   "execution_count": 10,
   "metadata": {
    "colab": {},
    "colab_type": "code",
    "id": "oD-7fgQjibJb"
   },
   "outputs": [],
   "source": [
    "pool1_output, pool2_output = model2.predict(image.reshape(1, 28*28))"
   ]
  },
  {
   "cell_type": "markdown",
   "metadata": {
    "colab_type": "text",
    "id": "A1p-IgWo35LX"
   },
   "source": [
    "####[HDR-10]\n",
    "Show output images from the first pooling layer."
   ]
  },
  {
   "cell_type": "code",
   "execution_count": 11,
   "metadata": {
    "colab": {
     "base_uri": "https://localhost:8080/",
     "height": 165
    },
    "colab_type": "code",
    "id": "pyCLzBUhroFE",
    "outputId": "98d69d19-6ad2-4f85-9613-a8b423ef3684"
   },
   "outputs": [
    {
     "data": {
      "image/png": "[encoded data removed]",
      "text/plain": [
       "<Figure size 1440x720 with 32 Axes>"
      ]
     },
     "metadata": {},
     "output_type": "display_data"
    }
   ],
   "source": [
    "layer = pool1_output\n",
    "fig = plt.figure(figsize=(20, 10))\n",
    "for i in range(layer.shape[-1]):\n",
    "    subplot = fig.add_subplot(8, 16, i+1)\n",
    "    subplot.set_xticks([])\n",
    "    subplot.set_yticks([])\n",
    "    subplot.imshow(layer[0, :, :, i], cmap=plt.cm.gray_r)"
   ]
  },
  {
   "cell_type": "markdown",
   "metadata": {
    "colab_type": "text",
    "id": "BrQV55az4HKz"
   },
   "source": [
    "####[HDR-11]\n",
    "Show output images from the second pooling layer."
   ]
  },
  {
   "cell_type": "code",
   "execution_count": 12,
   "metadata": {
    "colab": {
     "base_uri": "https://localhost:8080/",
     "height": 304
    },
    "colab_type": "code",
    "id": "Ix937xqIiJCi",
    "outputId": "c927524b-21a2-4a91-ee59-6ff50125822c"
   },
   "outputs": [
    {
     "data": {
      "image/png": "[encoded data removed]",
      "text/plain": [
       "<Figure size 1440x720 with 64 Axes>"
      ]
     },
     "metadata": {},
     "output_type": "display_data"
    }
   ],
   "source": [
    "layer = pool2_output\n",
    "fig = plt.figure(figsize=(20, 10))\n",
    "for i in range(layer.shape[-1]):\n",
    "    subplot = fig.add_subplot(8, 16, i+1)\n",
    "    subplot.set_xticks([])\n",
    "    subplot.set_yticks([])\n",
    "    subplot.imshow(layer[0, :, :, i], cmap=plt.cm.gray_r)"
   ]
  },
  {
   "cell_type": "code",
   "execution_count": null,
   "metadata": {},
   "outputs": [],
   "source": []
  }
 ],
 "metadata": {
  "accelerator": "GPU",
  "colab": {
   "collapsed_sections": [],
   "name": "2. Handwritten digit recognizer.ipynb",
   "provenance": [],
   "version": "0.3.2"
  },
  "kernelspec": {
   "display_name": "Python 3",
   "language": "python",
   "name": "python3"
  },
  "language_info": {
   "codemirror_mode": {
    "name": "ipython",
    "version": 3
   },
   "file_extension": ".py",
   "mimetype": "text/x-python",
   "name": "python",
   "nbconvert_exporter": "python",
   "pygments_lexer": "ipython3",
   "version": "3.6.10"
  }
 },
 "nbformat": 4,
 "nbformat_minor": 1
}
