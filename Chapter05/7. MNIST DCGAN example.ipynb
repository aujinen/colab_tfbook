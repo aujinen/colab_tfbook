{
 "cells": [
  {
   "cell_type": "markdown",
   "metadata": {
    "colab_type": "text",
    "id": "m_3F2cWjR5oY"
   },
   "source": [
    "# MNIST DCGAN Example"
   ]
  },
  {
   "cell_type": "markdown",
   "metadata": {
    "colab_type": "text",
    "id": "dA2m6DVoIMPP"
   },
   "source": [
    "Note: This notebook is desinged to run with Python3 and GPU runtime.<br>\n",
    "\n",
    "Modified for local (off-line) mode with Python 3.x, TensorFlow 1.x (or 2.x), with or without GPU<br>\n",
    "*Note: It takes more than `4 hours` without GPU.\n",
    "2020/02/04: By H.Nishiyama<br>"
   ]
  },
  {
   "cell_type": "markdown",
   "metadata": {
    "colab_type": "text",
    "id": "53sGGhqt_00C"
   },
   "source": [
    "This notebook rewrite for local (off-line) TensorFlow 1.x (or 2.x).<br>\n",
    "*If you use on online-colaboratory system, remove \"###\" from the top of lines in code cells. <br>\n",
    "Original notebook uses TensorFlow 2.x."
   ]
  },
  {
   "cell_type": "code",
   "execution_count": 1,
   "metadata": {
    "colab": {
     "base_uri": "https://localhost:8080/",
     "height": 34
    },
    "colab_type": "code",
    "id": "u0PiOopl7MH0",
    "outputId": "a5eec980-4b59-414a-c142-6115766a4646"
   },
   "outputs": [],
   "source": [
    "###%tensorflow_version 2.x"
   ]
  },
  {
   "cell_type": "markdown",
   "metadata": {
    "colab_type": "text",
    "id": "HqKgjio7IQCa"
   },
   "source": [
    "####[MDE-01]\n",
    "Import modules and set a random seed."
   ]
  },
  {
   "cell_type": "code",
   "execution_count": 2,
   "metadata": {
    "colab": {},
    "colab_type": "code",
    "id": "8uoZRr9eOmwG"
   },
   "outputs": [],
   "source": [
    "import numpy as np\n",
    "import matplotlib.pyplot as plt\n",
    "\n",
    "import tensorflow as tf\n",
    "from tensorflow.keras import layers, models, initializers\n",
    "from tensorflow.keras.datasets import mnist\n",
    "\n",
    "np.random.seed(20191019)\n",
    "\n",
    "#--- For TensorFlow 1.x, use the following line, but if you use TensorFlow2.x, you need to comment it out..\n",
    "tf.random.set_random_seed(20191019)\n",
    "#--- For TensorFlow 2.x, use following line, instead of upper line.\n",
    "###tf.random.set_seed(20191019)"
   ]
  },
  {
   "cell_type": "markdown",
   "metadata": {
    "colab_type": "text",
    "id": "8NxTNnogIUeV"
   },
   "source": [
    "####[MDE-02]\n",
    "Download the MNIST dataset and store into NumPy arrays."
   ]
  },
  {
   "cell_type": "code",
   "execution_count": 3,
   "metadata": {
    "colab": {
     "base_uri": "https://localhost:8080/",
     "height": 51
    },
    "colab_type": "code",
    "id": "0ByKCdhESGpP",
    "outputId": "e4859864-783a-4965-dc99-96ceac51ba5c"
   },
   "outputs": [],
   "source": [
    "(train_images, train_labels), (test_images, test_labels) = mnist.load_data()\n",
    "train_images = train_images.reshape(\n",
    "                  (len(train_images), 784)).astype('float32') / 255\n",
    "test_images = test_images.reshape(\n",
    "                  (len(test_images), 784)).astype('float32') / 255\n",
    "train_labels = tf.keras.utils.to_categorical(train_labels, 10)\n",
    "test_labels = tf.keras.utils.to_categorical(test_labels, 10)"
   ]
  },
  {
   "cell_type": "markdown",
   "metadata": {
    "colab_type": "text",
    "id": "LyJSyjr9JA_G"
   },
   "source": [
    "####[MDE-03]\n",
    "Defina a generator model."
   ]
  },
  {
   "cell_type": "code",
   "execution_count": 4,
   "metadata": {
    "colab": {
     "base_uri": "https://localhost:8080/",
     "height": 391
    },
    "colab_type": "code",
    "id": "qKvSYzl9SSkf",
    "outputId": "f525df80-a126-4255-e9d0-d2a2d78d8b42"
   },
   "outputs": [
    {
     "name": "stdout",
     "output_type": "stream",
     "text": [
      "WARNING:tensorflow:From C:\\XXXX\\Anaconda3\\envs\\DL-P36-GPU-2\\lib\\site-packages\\tensorflow\\python\\keras\\initializers.py:94: calling TruncatedNormal.__init__ (from tensorflow.python.ops.init_ops) with dtype is deprecated and will be removed in a future version.\n",
      "Instructions for updating:\n",
      "Call initializer instance with the dtype argument instead of passing it to the constructor\n",
      "Model: \"sequential\"\n",
      "_________________________________________________________________\n",
      "Layer (type)                 Output Shape              Param #   \n",
      "=================================================================\n",
      "expand (Dense)               (None, 6272)              407680    \n",
      "_________________________________________________________________\n",
      "leaky_relu1 (LeakyReLU)      (None, 6272)              0         \n",
      "_________________________________________________________________\n",
      "reshape (Reshape)            (None, 7, 7, 128)         0         \n",
      "_________________________________________________________________\n",
      "deconv1 (Conv2DTranspose)    (None, 14, 14, 64)        204864    \n",
      "_________________________________________________________________\n",
      "leaky_relu2 (LeakyReLU)      (None, 14, 14, 64)        0         \n",
      "_________________________________________________________________\n",
      "deconv2 (Conv2DTranspose)    (None, 28, 28, 1)         1601      \n",
      "_________________________________________________________________\n",
      "flatten (Flatten)            (None, 784)               0         \n",
      "=================================================================\n",
      "Total params: 614,145\n",
      "Trainable params: 614,145\n",
      "Non-trainable params: 0\n",
      "_________________________________________________________________\n"
     ]
    }
   ],
   "source": [
    "latent_dim = 64\n",
    "\n",
    "generator = models.Sequential()\n",
    "generator.add(\n",
    "  layers.Dense(7*7*128, kernel_initializer=initializers.TruncatedNormal(),\n",
    "               input_shape=(latent_dim,), name='expand'))\n",
    "generator.add(layers.LeakyReLU(name='leaky_relu1'))\n",
    "generator.add(layers.Reshape((7, 7, 128), name='reshape'))\n",
    "generator.add(\n",
    "  layers.Conv2DTranspose(64, 5, strides=2, padding='same',\n",
    "                         kernel_initializer=initializers.TruncatedNormal(),\n",
    "                         name='deconv1'))\n",
    "generator.add(layers.LeakyReLU(name='leaky_relu2'))\n",
    "generator.add(\n",
    "  layers.Conv2DTranspose(1, 5, strides=2, padding='same',\n",
    "                         kernel_initializer=initializers.TruncatedNormal(),\n",
    "                         activation='sigmoid', name='deconv2'))\n",
    "generator.add(layers.Flatten(name='flatten'))\n",
    "generator.summary()"
   ]
  },
  {
   "cell_type": "markdown",
   "metadata": {
    "colab_type": "text",
    "id": "-3DbHA-0Jb5z"
   },
   "source": [
    "####[MDE-04]\n",
    "Defina a discriminator model."
   ]
  },
  {
   "cell_type": "code",
   "execution_count": 5,
   "metadata": {
    "colab": {
     "base_uri": "https://localhost:8080/",
     "height": 425
    },
    "colab_type": "code",
    "id": "iyOLjN7kX1Px",
    "outputId": "cd8a3ab3-268e-4f1f-fdbe-2f7ee1506813"
   },
   "outputs": [
    {
     "name": "stdout",
     "output_type": "stream",
     "text": [
      "WARNING:tensorflow:From C:\\XXXX\\Anaconda3\\envs\\DL-P36-GPU-2\\lib\\site-packages\\tensorflow\\python\\ops\\init_ops.py:1251: calling VarianceScaling.__init__ (from tensorflow.python.ops.init_ops) with dtype is deprecated and will be removed in a future version.\n",
      "Instructions for updating:\n",
      "Call initializer instance with the dtype argument instead of passing it to the constructor\n",
      "Model: \"sequential_1\"\n",
      "_________________________________________________________________\n",
      "Layer (type)                 Output Shape              Param #   \n",
      "=================================================================\n",
      "reshape (Reshape)            (None, 28, 28, 1)         0         \n",
      "_________________________________________________________________\n",
      "conv1 (Conv2D)               (None, 14, 14, 64)        1664      \n",
      "_________________________________________________________________\n",
      "leaky_relu1 (LeakyReLU)      (None, 14, 14, 64)        0         \n",
      "_________________________________________________________________\n",
      "conv2 (Conv2D)               (None, 7, 7, 128)         204928    \n",
      "_________________________________________________________________\n",
      "leaky_relu2 (LeakyReLU)      (None, 7, 7, 128)         0         \n",
      "_________________________________________________________________\n",
      "flatten (Flatten)            (None, 6272)              0         \n",
      "_________________________________________________________________\n",
      "dropout (Dropout)            (None, 6272)              0         \n",
      "_________________________________________________________________\n",
      "sigmoid (Dense)              (None, 1)                 6273      \n",
      "=================================================================\n",
      "Total params: 212,865\n",
      "Trainable params: 212,865\n",
      "Non-trainable params: 0\n",
      "_________________________________________________________________\n"
     ]
    }
   ],
   "source": [
    "discriminator = models.Sequential()\n",
    "discriminator.add(layers.Reshape((28, 28, 1), input_shape=((28*28,)),\n",
    "                                 name='reshape'))\n",
    "discriminator.add(\n",
    "  layers.Conv2D(64, (5, 5), strides=2, padding='same',\n",
    "                kernel_initializer=initializers.TruncatedNormal(),\n",
    "                name='conv1'))\n",
    "discriminator.add(layers.LeakyReLU(name='leaky_relu1'))\n",
    "discriminator.add(\n",
    "  layers.Conv2D(128, (5, 5), strides=2, padding='same',\n",
    "                kernel_initializer=initializers.TruncatedNormal(),\n",
    "                name='conv2'))\n",
    "discriminator.add(layers.LeakyReLU(name='leaky_relu2'))\n",
    "discriminator.add(layers.Flatten(name='flatten'))\n",
    "discriminator.add(layers.Dropout(rate=0.4, name='dropout'))\n",
    "discriminator.add(layers.Dense(1, activation='sigmoid', name='sigmoid'))\n",
    "\n",
    "discriminator.summary()"
   ]
  },
  {
   "cell_type": "markdown",
   "metadata": {
    "colab_type": "text",
    "id": "9zzzeCD2J-9q"
   },
   "source": [
    "####[MDE-05]\n",
    "Compile the discriminator using the Adam optimizer, and Cross entroy as a loss function."
   ]
  },
  {
   "cell_type": "code",
   "execution_count": 6,
   "metadata": {
    "colab": {},
    "colab_type": "code",
    "id": "XEwdyyX5SeHg"
   },
   "outputs": [
    {
     "name": "stdout",
     "output_type": "stream",
     "text": [
      "WARNING:tensorflow:From C:\\XXXX\\Anaconda3\\envs\\DL-P36-GPU-2\\lib\\site-packages\\tensorflow\\python\\ops\\nn_impl.py:180: add_dispatch_support.<locals>.wrapper (from tensorflow.python.ops.array_ops) is deprecated and will be removed in a future version.\n",
      "Instructions for updating:\n",
      "Use tf.where in 2.0, which has the same broadcast rule as np.where\n"
     ]
    }
   ],
   "source": [
    "discriminator.compile(optimizer='adam', loss='binary_crossentropy')"
   ]
  },
  {
   "cell_type": "markdown",
   "metadata": {
    "colab_type": "text",
    "id": "is6hVDllKRAi"
   },
   "source": [
    "####[MDE-06]\n",
    "Define an end-to-end GAN model to train the generator."
   ]
  },
  {
   "cell_type": "code",
   "execution_count": 7,
   "metadata": {
    "colab": {
     "base_uri": "https://localhost:8080/",
     "height": 255
    },
    "colab_type": "code",
    "id": "VqLQnc3Gd_rR",
    "outputId": "283ee2f0-e6e1-40ca-9dd1-8e0b1fbf7f44"
   },
   "outputs": [
    {
     "name": "stdout",
     "output_type": "stream",
     "text": [
      "Model: \"model\"\n",
      "_________________________________________________________________\n",
      "Layer (type)                 Output Shape              Param #   \n",
      "=================================================================\n",
      "input_1 (InputLayer)         [(None, 64)]              0         \n",
      "_________________________________________________________________\n",
      "sequential (Sequential)      (None, 784)               614145    \n",
      "_________________________________________________________________\n",
      "sequential_1 (Sequential)    (None, 1)                 212865    \n",
      "=================================================================\n",
      "Total params: 827,010\n",
      "Trainable params: 614,145\n",
      "Non-trainable params: 212,865\n",
      "_________________________________________________________________\n"
     ]
    }
   ],
   "source": [
    "discriminator.trainable = False\n",
    "gan_input = tf.keras.Input(shape=(latent_dim,))\n",
    "gan_output = discriminator(generator(gan_input))\n",
    "gan_model = models.Model(gan_input, gan_output)\n",
    "gan_model.summary()"
   ]
  },
  {
   "cell_type": "markdown",
   "metadata": {
    "colab_type": "text",
    "id": "PVMUs1WtKrQu"
   },
   "source": [
    "####[MDE-07]\n",
    "Compile the GAN model using the Adam optimizer, and Cross entroy as a loss function."
   ]
  },
  {
   "cell_type": "code",
   "execution_count": 8,
   "metadata": {
    "colab": {},
    "colab_type": "code",
    "id": "2A4dwLwTeywN"
   },
   "outputs": [],
   "source": [
    "gan_model.compile(optimizer='adam', loss='binary_crossentropy')"
   ]
  },
  {
   "cell_type": "markdown",
   "metadata": {
    "colab_type": "text",
    "id": "5FocFzOJK8ac"
   },
   "source": [
    "####[MDE-08]\n",
    "Define some working variables to trace the training process."
   ]
  },
  {
   "cell_type": "code",
   "execution_count": 9,
   "metadata": {
    "colab": {},
    "colab_type": "code",
    "id": "bK7cwT-umD1r"
   },
   "outputs": [],
   "source": [
    "batch_size = 32\n",
    "image_num = 0\n",
    "step = 0\n",
    "examples = []\n",
    "sample_inputs = np.random.rand(8, latent_dim) * 2.0 - 1.0\n",
    "examples.append(generator.predict(sample_inputs))"
   ]
  },
  {
   "cell_type": "markdown",
   "metadata": {
    "colab_type": "text",
    "id": "zCGbB86tLNfK"
   },
   "source": [
    "####[MDE-09]\n",
    "Train the model for 40,000 batches.<br>\n",
    "*Note: It takes more than `4 hours` without GPU, and `60 minutes` with GPU."
   ]
  },
  {
   "cell_type": "code",
   "execution_count": 10,
   "metadata": {
    "colab": {
     "base_uri": "https://localhost:8080/",
     "height": 187
    },
    "colab_type": "code",
    "id": "33eI8EHqTHgo",
    "outputId": "f13b168b-b917-400d-9a33-614e5a93ef11"
   },
   "outputs": [
    {
     "name": "stdout",
     "output_type": "stream",
     "text": [
      "WARNING:tensorflow:Discrepancy between trainable weights and collected trainable weights, did you set `model.trainable` without calling `model.compile` after ?\n",
      "step: 200\n",
      "step: 400\n",
      "step: 600\n",
      "step: 800\n",
      "step: 1000\n",
      "step: 1200\n",
      "step: 1400\n",
      "step: 1600\n",
      "step: 1800\n",
      "step: 2000\n",
      "step: 2200\n",
      "step: 2400\n",
      "step: 2600\n",
      "step: 2800\n",
      "step: 3000\n",
      "step: 3200\n",
      "step: 3400\n",
      "step: 3600\n",
      "step: 3800\n",
      "step: 4000, loss(discriminator, generator): 0.3320, 1.9915\n",
      "step: 4200\n",
      "step: 4400\n",
      "step: 4600\n",
      "step: 4800\n",
      "step: 5000\n",
      "step: 5200\n",
      "step: 5400\n",
      "step: 5600\n",
      "step: 5800\n",
      "step: 6000\n",
      "step: 6200\n",
      "step: 6400\n",
      "step: 6600\n",
      "step: 6800\n",
      "step: 7000\n",
      "step: 7200\n",
      "step: 7400\n",
      "step: 7600\n",
      "step: 7800\n",
      "step: 8000, loss(discriminator, generator): 0.4903, 1.0620\n",
      "step: 8200\n",
      "step: 8400\n",
      "step: 8600\n",
      "step: 8800\n",
      "step: 9000\n",
      "step: 9200\n",
      "step: 9400\n",
      "step: 9600\n",
      "step: 9800\n",
      "step: 10000\n",
      "step: 10200\n",
      "step: 10400\n",
      "step: 10600\n",
      "step: 10800\n",
      "step: 11000\n",
      "step: 11200\n",
      "step: 11400\n",
      "step: 11600\n",
      "step: 11800\n",
      "step: 12000, loss(discriminator, generator): 0.8020, 1.3495\n",
      "step: 12200\n",
      "step: 12400\n",
      "step: 12600\n",
      "step: 12800\n",
      "step: 13000\n",
      "step: 13200\n",
      "step: 13400\n",
      "step: 13600\n",
      "step: 13800\n",
      "step: 14000\n",
      "step: 14200\n",
      "step: 14400\n",
      "step: 14600\n",
      "step: 14800\n",
      "step: 15000\n",
      "step: 15200\n",
      "step: 15400\n",
      "step: 15600\n",
      "step: 15800\n",
      "step: 16000, loss(discriminator, generator): 0.6792, 0.9357\n",
      "step: 16200\n",
      "step: 16400\n",
      "step: 16600\n",
      "step: 16800\n",
      "step: 17000\n",
      "step: 17200\n",
      "step: 17400\n",
      "step: 17600\n",
      "step: 17800\n",
      "step: 18000\n",
      "step: 18200\n",
      "step: 18400\n",
      "step: 18600\n",
      "step: 18800\n",
      "step: 19000\n",
      "step: 19200\n",
      "step: 19400\n",
      "step: 19600\n",
      "step: 19800\n",
      "step: 20000, loss(discriminator, generator): 0.4823, 0.9712\n",
      "step: 20200\n",
      "step: 20400\n",
      "step: 20600\n",
      "step: 20800\n",
      "step: 21000\n",
      "step: 21200\n",
      "step: 21400\n",
      "step: 21600\n",
      "step: 21800\n",
      "step: 22000\n",
      "step: 22200\n",
      "step: 22400\n",
      "step: 22600\n",
      "step: 22800\n",
      "step: 23000\n",
      "step: 23200\n",
      "step: 23400\n",
      "step: 23600\n",
      "step: 23800\n",
      "step: 24000, loss(discriminator, generator): 0.4715, 1.5385\n",
      "step: 24200\n",
      "step: 24400\n",
      "step: 24600\n",
      "step: 24800\n",
      "step: 25000\n",
      "step: 25200\n",
      "step: 25400\n",
      "step: 25600\n",
      "step: 25800\n",
      "step: 26000\n",
      "step: 26200\n",
      "step: 26400\n",
      "step: 26600\n",
      "step: 26800\n",
      "step: 27000\n",
      "step: 27200\n",
      "step: 27400\n",
      "step: 27600\n",
      "step: 27800\n",
      "step: 28000, loss(discriminator, generator): 0.4860, 1.7311\n",
      "step: 28200\n",
      "step: 28400\n",
      "step: 28600\n",
      "step: 28800\n",
      "step: 29000\n",
      "step: 29200\n",
      "step: 29400\n",
      "step: 29600\n",
      "step: 29800\n",
      "step: 30000\n",
      "step: 30200\n",
      "step: 30400\n",
      "step: 30600\n",
      "step: 30800\n",
      "step: 31000\n",
      "step: 31200\n",
      "step: 31400\n",
      "step: 31600\n",
      "step: 31800\n",
      "step: 32000, loss(discriminator, generator): 0.4994, 1.0667\n",
      "step: 32200\n",
      "step: 32400\n",
      "step: 32600\n",
      "step: 32800\n",
      "step: 33000\n",
      "step: 33200\n",
      "step: 33400\n",
      "step: 33600\n",
      "step: 33800\n",
      "step: 34000\n",
      "step: 34200\n",
      "step: 34400\n",
      "step: 34600\n",
      "step: 34800\n",
      "step: 35000\n",
      "step: 35200\n",
      "step: 35400\n",
      "step: 35600\n",
      "step: 35800\n",
      "step: 36000, loss(discriminator, generator): 0.8617, 1.4937\n",
      "step: 36200\n",
      "step: 36400\n",
      "step: 36600\n",
      "step: 36800\n",
      "step: 37000\n",
      "step: 37200\n",
      "step: 37400\n",
      "step: 37600\n",
      "step: 37800\n",
      "step: 38000\n",
      "step: 38200\n",
      "step: 38400\n",
      "step: 38600\n",
      "step: 38800\n",
      "step: 39000\n",
      "step: 39200\n",
      "step: 39400\n",
      "step: 39600\n",
      "step: 39800\n",
      "step: 40000, loss(discriminator, generator): 0.3948, 1.4952\n"
     ]
    }
   ],
   "source": [
    "for _ in range(40000):\n",
    "    random_inputs = np.random.rand(batch_size, latent_dim) * 2.0 - 1.0\n",
    "    generated_images = generator.predict(random_inputs)\n",
    "    real_images = train_images[image_num : image_num+batch_size]\n",
    "    all_images = np.concatenate([generated_images, real_images])\n",
    "    labels = np.concatenate([np.zeros((batch_size, 1)),\n",
    "                             np.ones((batch_size, 1))])\n",
    "    labels += 0.05 * np.random.random(labels.shape)\n",
    "    d_loss = discriminator.train_on_batch(all_images, labels)\n",
    "\n",
    "    random_inputs = np.random.rand(batch_size, latent_dim) * 2.0 - 1.0\n",
    "    fake_labels = np.ones((batch_size, 1))\n",
    "    g_loss = gan_model.train_on_batch(random_inputs, fake_labels)\n",
    "\n",
    "    image_num += batch_size\n",
    "    if image_num + batch_size > len(train_images):\n",
    "        image_num = 0\n",
    "\n",
    "    step += 1\n",
    "    #--- Modified if block to add a outer if block for monitering.\n",
    "    if step % 200 == 0:\n",
    "        if step % 4000 == 0:\n",
    "            print('step: {}, loss(discriminator, generator): {:6.4f}, {:6.4f}'.format(\n",
    "                  step, d_loss, g_loss))\n",
    "            examples.append(generator.predict(sample_inputs))\n",
    "        else:\n",
    "            print ('step: {}'.format(step))"
   ]
  },
  {
   "cell_type": "markdown",
   "metadata": {
    "colab_type": "text",
    "id": "kIwtyrxVLrWZ"
   },
   "source": [
    "####[MDE-10]\n",
    "Show the progress of sample images."
   ]
  },
  {
   "cell_type": "code",
   "execution_count": 11,
   "metadata": {
    "colab": {
     "base_uri": "https://localhost:8080/",
     "height": 755
    },
    "colab_type": "code",
    "id": "yR5SvOxtSu1v",
    "outputId": "7bf14fd8-db1c-4d4d-da26-9353d56fded6"
   },
   "outputs": [
    {
     "data": {
      "image/png": "[encoded data removed]",
      "text/plain": [
       "<Figure size 720x950.4 with 88 Axes>"
      ]
     },
     "metadata": {},
     "output_type": "display_data"
    }
   ],
   "source": [
    "def show_images(examples):\n",
    "    fig = plt.figure(figsize=(10, 1.2*len(examples)))\n",
    "    c = 1\n",
    "    for images in examples:\n",
    "        for image in images:\n",
    "            subplot = fig.add_subplot(len(examples), 8, c)\n",
    "            subplot.set_xticks([])\n",
    "            subplot.set_yticks([])\n",
    "            subplot.imshow(image.reshape((28, 28)),\n",
    "                           vmin=0, vmax=1, cmap=plt.cm.gray_r)\n",
    "            c += 1\n",
    "\n",
    "show_images(examples)"
   ]
  },
  {
   "cell_type": "markdown",
   "metadata": {
    "colab_type": "text",
    "id": "TBfRGalOL-kq"
   },
   "source": [
    "####[MDE-10]\n",
    "Mount your Google Drive on `/content/gdrive`."
   ]
  },
  {
   "cell_type": "code",
   "execution_count": 12,
   "metadata": {
    "colab": {
     "base_uri": "https://localhost:8080/",
     "height": 34
    },
    "colab_type": "code",
    "id": "qwe3Gb8xH-wW",
    "outputId": "c461aba8-6059-4996-cf52-c7135b2cf77a"
   },
   "outputs": [],
   "source": [
    "###from google.colab import drive\n",
    "###drive.mount('/content/gdrive')"
   ]
  },
  {
   "cell_type": "markdown",
   "metadata": {
    "colab_type": "text",
    "id": "l1HdULSEMDS9"
   },
   "source": [
    "####[MDE-11]\n",
    "Export the trained model as a file `gan_generator.hd5` on your Google Drive."
   ]
  },
  {
   "cell_type": "code",
   "execution_count": 13,
   "metadata": {
    "colab": {
     "base_uri": "https://localhost:8080/",
     "height": 34
    },
    "colab_type": "code",
    "id": "ShhsTXJtH3rg",
    "outputId": "699cbeca-a29e-4bea-d732-cd5118ec575b"
   },
   "outputs": [],
   "source": [
    "# For local (off-line) mode, saving file to /tmp/ directroy.\n",
    "###generator.save('/content/gdrive/My Drive/gan_generator.hd5', save_format='h5')\n",
    "generator.save('/tmp/gan_generator.hd5', save_format='h5')\n",
    "###!ls -lh '/content/gdrive/My Drive/gan_generator.hd5'"
   ]
  },
  {
   "cell_type": "code",
   "execution_count": null,
   "metadata": {},
   "outputs": [],
   "source": []
  }
 ],
 "metadata": {
  "accelerator": "GPU",
  "colab": {
   "collapsed_sections": [],
   "name": "7. MNIST DCGAN example.ipynb",
   "provenance": []
  },
  "kernelspec": {
   "display_name": "Python 3",
   "language": "python",
   "name": "python3"
  },
  "language_info": {
   "codemirror_mode": {
    "name": "ipython",
    "version": 3
   },
   "file_extension": ".py",
   "mimetype": "text/x-python",
   "name": "python",
   "nbconvert_exporter": "python",
   "pygments_lexer": "ipython3",
   "version": "3.6.10"
  }
 },
 "nbformat": 4,
 "nbformat_minor": 1
}
