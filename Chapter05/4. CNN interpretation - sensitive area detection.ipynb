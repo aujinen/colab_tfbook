{
 "cells": [
  {
   "cell_type": "markdown",
   "metadata": {
    "colab_type": "text",
    "id": "HzrB3ovU4edU"
   },
   "source": [
    "# CNN Interpretation - Sensitive Area Detection"
   ]
  },
  {
   "cell_type": "markdown",
   "metadata": {
    "colab_type": "text",
    "id": "ScVWtn2Y4oOW"
   },
   "source": [
    "Note: This notebook is desinged to run with Python3 and GPU runtime.<br>\n",
    "\n",
    "Modified for local (off-line) mode with Python 3.x, TensorFlow 1.x (or 2.x), with or without GPU<br>\n",
    "2020/02/04: By H.Nishiyama<br>"
   ]
  },
  {
   "cell_type": "markdown",
   "metadata": {
    "colab_type": "text",
    "id": "-xkr13nCB0Il"
   },
   "source": [
    "This notebook rewrite for local (off-line) TensorFlow 1.x (or 2.x).<br>\n",
    "*If you use on online-colaboratory system, remove \"###\" from the top of lines in code cells. <br>\n",
    "Original notebook uses TensorFlow 2.x."
   ]
  },
  {
   "cell_type": "code",
   "execution_count": 1,
   "metadata": {
    "colab": {
     "base_uri": "https://localhost:8080/",
     "height": 34
    },
    "colab_type": "code",
    "id": "c3e_Lao-u9ym",
    "outputId": "42683b38-e208-456c-909d-de15d09cf4a9"
   },
   "outputs": [],
   "source": [
    "###%tensorflow_version 2.x"
   ]
  },
  {
   "cell_type": "markdown",
   "metadata": {
    "colab_type": "text",
    "id": "VJO3PPzqsq8d"
   },
   "source": [
    "####[CIS-01]\n",
    "Import modules and set a random seed.<br>"
   ]
  },
  {
   "cell_type": "code",
   "execution_count": 2,
   "metadata": {
    "colab": {},
    "colab_type": "code",
    "id": "gB5UUoAXIVmC"
   },
   "outputs": [],
   "source": [
    "import numpy as np\n",
    "import matplotlib.pyplot as plt\n",
    "import cv2\n",
    "\n",
    "import tensorflow as tf\n",
    "from tensorflow.keras import backend as K\n",
    "from tensorflow.keras import layers, models, preprocessing\n",
    "from tensorflow.keras.datasets import mnist\n",
    "from tensorflow.python.framework.ops import disable_eager_execution\n",
    "disable_eager_execution()"
   ]
  },
  {
   "cell_type": "markdown",
   "metadata": {
    "colab_type": "text",
    "id": "qc7x8qhj5kgX"
   },
   "source": [
    "####[CIS-02]\n",
    "Define a function to detect the sensitive areas in the second filters against the input image, and generate a heatmap."
   ]
  },
  {
   "cell_type": "code",
   "execution_count": 3,
   "metadata": {
    "colab": {},
    "colab_type": "code",
    "id": "Hxg5F25PI_oP"
   },
   "outputs": [],
   "source": [
    "def get_heatmap(model, last_conv_layer, target_image):\n",
    "    target_image = target_image.reshape(1, 28*28)\n",
    "    pred_output = model.output[:, np.argmax(model.predict(target_image))]\n",
    "    grads = K.gradients(pred_output, last_conv_layer.output)[0]\n",
    "    pooled_grads = K.mean(grads, axis=(0, 1, 2))\n",
    "    get_vals = K.function([model.input],\n",
    "                          [pooled_grads, last_conv_layer.output[0]])\n",
    "    pooled_grads_val, conv_layer_output_val = get_vals([target_image])\n",
    "\n",
    "    heatmap = np.zeros([14, 14])\n",
    "    for i in range(last_conv_layer.output.shape[-1]):\n",
    "        if pooled_grads_val[i] > 0:\n",
    "            heatmap += conv_layer_output_val[:, :, i] * pooled_grads_val[i]\n",
    "    heatmap /= np.max(heatmap)\n",
    "\n",
    "    heatmap2 = np.uint8(255 * cv2.resize(heatmap, (28, 28)))\n",
    "    heatmap2 = cv2.applyColorMap(heatmap2, cv2.COLORMAP_JET)\n",
    "    target_image2 = np.uint8(255 * target_image.reshape(28, 28))\n",
    "    target_image2 = cv2.applyColorMap(target_image2, cv2.COLORMAP_BONE)\n",
    "    superimposed_img = heatmap2 + target_image2 * 0.6\n",
    "    cv2.imwrite('/tmp/result.jpg', superimposed_img)\n",
    "\n",
    "    return heatmap, preprocessing.image.load_img('/tmp/result.jpg')"
   ]
  },
  {
   "cell_type": "markdown",
   "metadata": {
    "colab_type": "text",
    "id": "_jAOBme_IGe3"
   },
   "source": [
    "####[CIS-03]\n",
    "Download the MNIST dataset and store into NumPy arrays."
   ]
  },
  {
   "cell_type": "code",
   "execution_count": 4,
   "metadata": {
    "colab": {},
    "colab_type": "code",
    "id": "pfRBeN4FIDWv"
   },
   "outputs": [],
   "source": [
    "(train_images, train_labels), (test_images, test_labels) = mnist.load_data()\n",
    "train_images = train_images.reshape(\n",
    "                  (len(train_images), 784)).astype('float32') / 255\n",
    "test_images = test_images.reshape(\n",
    "                  (len(test_images), 784)).astype('float32') / 255\n",
    "train_labels = tf.keras.utils.to_categorical(train_labels, 10)\n",
    "test_labels = tf.keras.utils.to_categorical(test_labels, 10)"
   ]
  },
  {
   "cell_type": "markdown",
   "metadata": {
    "colab_type": "text",
    "id": "bCGRoxeyHrbD"
   },
   "source": [
    "####[CIS-04]\n",
    "Modified to local (off-line) system.<br>\n",
    "Original: Mount your Google Drive on `/content/gdrive`.<br>\n",
    "Modified: Nothing."
   ]
  },
  {
   "cell_type": "code",
   "execution_count": 5,
   "metadata": {
    "colab": {
     "base_uri": "https://localhost:8080/",
     "height": 34
    },
    "colab_type": "code",
    "id": "tpL_niBTXggS",
    "outputId": "bb81d053-cb4d-42f3-d2f9-9da73dabe0ec"
   },
   "outputs": [],
   "source": [
    "###from google.colab import drive\n",
    "###drive.mount('/content/gdrive')"
   ]
  },
  {
   "cell_type": "markdown",
   "metadata": {
    "colab_type": "text",
    "id": "s0Qd3G-645kT"
   },
   "source": [
    "####[CIS-05]\n",
    "Modified to local (off-line) system.<br>\n",
    "Original: Confirm that the exported model file `MNIST_double.hd5` is on your Google Drive.<br>\n",
    "Modified: Confirm that the exported model file `MNIST_double.hd5` is on your c:\\tmp\\ directory."
   ]
  },
  {
   "cell_type": "code",
   "execution_count": 6,
   "metadata": {
    "colab": {
     "base_uri": "https://localhost:8080/",
     "height": 34
    },
    "colab_type": "code",
    "id": "zq-uJjvNgO6A",
    "outputId": "549bf3fd-f9af-47d7-f96a-553849c68518"
   },
   "outputs": [
    {
     "name": "stdout",
     "output_type": "stream",
     "text": [
      " ドライブ C のボリューム ラベルは XXXX です\n",
      " ボリューム シリアル番号は XXXX-XXXX です\n",
      "\n",
      " C:\\tmp のディレクトリ\n",
      "\n",
      "2020/02/09  15:59        39,340,992 MNIST_double.hd5\n",
      "               1 個のファイル          39,340,992 バイト\n",
      "               0 個のディレクトリ  412,448,313,344 バイトの空き領域\n"
     ]
    }
   ],
   "source": [
    "###!ls -lh '/content/gdrive/My Drive/MNIST_double.hd5'\n",
    "# For local (off-line) mode, use /tmp/ dir.\n",
    "# If you use on online-colaboratory system, comment out the next line.\n",
    "!dir \\tmp\\MNIST_double.hd5"
   ]
  },
  {
   "cell_type": "markdown",
   "metadata": {
    "colab_type": "text",
    "id": "fBltXsSRvZn0"
   },
   "source": [
    "####[CIS-06]\n",
    "Restore the model from the exported model file.<br>\n",
    "Modified to local (off-line) system.<br>\n",
    "*Waring will be occured for some version of TensorFlow as follows;<br>\n",
    "WARNING:tensorflow:From ..."
   ]
  },
  {
   "cell_type": "code",
   "execution_count": 7,
   "metadata": {
    "colab": {
     "base_uri": "https://localhost:8080/",
     "height": 530
    },
    "colab_type": "code",
    "id": "BakcuKxdQoSL",
    "outputId": "5e818648-2652-4f8a-f267-121959c82c7f"
   },
   "outputs": [
    {
     "name": "stdout",
     "output_type": "stream",
     "text": [
      "WARNING:tensorflow:From C:\\XXXX\\Anaconda3\\envs\\dpl36\\lib\\site-packages\\tensorflow_core\\python\\keras\\initializers.py:94: calling TruncatedNormal.__init__ (from tensorflow.python.ops.init_ops) with dtype is deprecated and will be removed in a future version.\n",
      "Instructions for updating:\n",
      "Call initializer instance with the dtype argument instead of passing it to the constructor\n",
      "WARNING:tensorflow:From C:\\XXXX\\Anaconda3\\envs\\dpl36\\lib\\site-packages\\tensorflow_core\\python\\ops\\init_ops.py:97: calling Zeros.__init__ (from tensorflow.python.ops.init_ops) with dtype is deprecated and will be removed in a future version.\n",
      "Instructions for updating:\n",
      "Call initializer instance with the dtype argument instead of passing it to the constructor\n",
      "WARNING:tensorflow:From C:\\XXXX\\Anaconda3\\envs\\dpl36\\lib\\site-packages\\tensorflow_core\\python\\ops\\resource_variable_ops.py:1630: calling BaseResourceVariable.__init__ (from tensorflow.python.ops.resource_variable_ops) with constraint is deprecated and will be removed in a future version.\n",
      "Instructions for updating:\n",
      "If using Keras pass *_constraint arguments to layers.\n",
      "WARNING:tensorflow:From C:\\XXXX\\Anaconda3\\envs\\dpl36\\lib\\site-packages\\tensorflow_core\\python\\ops\\init_ops.py:97: calling GlorotUniform.__init__ (from tensorflow.python.ops.init_ops) with dtype is deprecated and will be removed in a future version.\n",
      "Instructions for updating:\n",
      "Call initializer instance with the dtype argument instead of passing it to the constructor\n",
      "Model: \"sequential\"\n",
      "_________________________________________________________________\n",
      "Layer (type)                 Output Shape              Param #   \n",
      "=================================================================\n",
      "reshape (Reshape)            (None, 28, 28, 1)         0         \n",
      "_________________________________________________________________\n",
      "conv_filter1 (Conv2D)        (None, 28, 28, 32)        832       \n",
      "_________________________________________________________________\n",
      "max_pooling1 (MaxPooling2D)  (None, 14, 14, 32)        0         \n",
      "_________________________________________________________________\n",
      "conv_filter2 (Conv2D)        (None, 14, 14, 64)        51264     \n",
      "_________________________________________________________________\n",
      "max_pooling2 (MaxPooling2D)  (None, 7, 7, 64)          0         \n",
      "_________________________________________________________________\n",
      "flatten (Flatten)            (None, 3136)              0         \n",
      "_________________________________________________________________\n",
      "hidden (Dense)               (None, 1024)              3212288   \n",
      "_________________________________________________________________\n",
      "dropout (Dropout)            (None, 1024)              0         \n",
      "_________________________________________________________________\n",
      "softmax (Dense)              (None, 10)                10250     \n",
      "=================================================================\n",
      "Total params: 3,274,634\n",
      "Trainable params: 3,274,634\n",
      "Non-trainable params: 0\n",
      "_________________________________________________________________\n"
     ]
    }
   ],
   "source": [
    "###model = models.load_model('/content/gdrive/My Drive/MNIST_double.hd5')\n",
    "# For local (off-line) mode, using /tmp/ dir.\n",
    "# If you use on online-colaboratory system, comment out the next line.\n",
    "model = models.load_model('/tmp/MNIST_double.hd5')\n",
    "model.summary()"
   ]
  },
  {
   "cell_type": "markdown",
   "metadata": {
    "colab_type": "text",
    "id": "iU0LcSLD6mzw"
   },
   "source": [
    "####[CIS-07]\n",
    "Show heatmaps for sample images."
   ]
  },
  {
   "cell_type": "code",
   "execution_count": 8,
   "metadata": {
    "colab": {
     "base_uri": "https://localhost:8080/",
     "height": 462
    },
    "colab_type": "code",
    "id": "vIjJule36bmH",
    "outputId": "ae42702e-2a0d-46dd-94ff-dde4a5b69cb3"
   },
   "outputs": [
    {
     "data": {
      "image/png": "[encoded data removed]",
      "text/plain": [
       "<Figure size 576x576 with 30 Axes>"
      ]
     },
     "metadata": {},
     "output_type": "display_data"
    }
   ],
   "source": [
    "fig = plt.figure(figsize=(8, 8))\n",
    "last_conv_layer = model.get_layer('conv_filter2')  \n",
    "i = 1\n",
    "for img in test_images[[3, 5, 1, 32, 4, 15, 21, 254, 84, 12]]:\n",
    "    heatmap, superimposed = get_heatmap(model, last_conv_layer, img)\n",
    "\n",
    "    subplot = fig.add_subplot(5, 6, i)\n",
    "    subplot.set_xticks([])\n",
    "    subplot.set_yticks([])\n",
    "    subplot.imshow(img.reshape(28, 28), vmin=0, vmax=1, cmap=plt.cm.gray_r)\n",
    "\n",
    "    subplot = fig.add_subplot(5, 6, i+1)\n",
    "    subplot.set_xticks([])\n",
    "    subplot.set_yticks([])\n",
    "    subplot.imshow(heatmap, vmin=0, vmax=1, cmap=plt.cm.gray_r)\n",
    "\n",
    "    subplot = fig.add_subplot(5, 6, i+2)\n",
    "    subplot.set_xticks([])\n",
    "    subplot.set_yticks([])\n",
    "    subplot.imshow(superimposed)\n",
    "  \n",
    "    i += 3"
   ]
  },
  {
   "cell_type": "code",
   "execution_count": null,
   "metadata": {},
   "outputs": [],
   "source": []
  }
 ],
 "metadata": {
  "accelerator": "GPU",
  "colab": {
   "collapsed_sections": [],
   "name": "4. CNN interpretation - sensitive area detection.ipynb",
   "provenance": [],
   "version": "0.3.2"
  },
  "kernelspec": {
   "display_name": "Python 3",
   "language": "python",
   "name": "python3"
  },
  "language_info": {
   "codemirror_mode": {
    "name": "ipython",
    "version": 3
   },
   "file_extension": ".py",
   "mimetype": "text/x-python",
   "name": "python",
   "nbconvert_exporter": "python",
   "pygments_lexer": "ipython3",
   "version": "3.6.10"
  }
 },
 "nbformat": 4,
 "nbformat_minor": 1
}
