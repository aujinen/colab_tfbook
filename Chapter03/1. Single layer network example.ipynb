{
 "cells": [
  {
   "cell_type": "markdown",
   "metadata": {
    "colab_type": "text",
    "id": "GaG2g57vx_Sc"
   },
   "source": [
    "# Single Layer Network Example"
   ]
  },
  {
   "cell_type": "markdown",
   "metadata": {
    "colab_type": "text",
    "id": "3RRq2DJVyJ-z"
   },
   "source": [
    "Note: This notebook is desinged to run with Python3 and CPU (no GPU) runtime.<br>\n",
    "\n",
    "Modified for local (off-line) mode with Python 3.x, TensorFlow 1.x (or 2.x), with or without GPU<br>\n",
    "2020/02/04: By H.Nishiyama<br>"
   ]
  },
  {
   "cell_type": "markdown",
   "metadata": {
    "colab_type": "text",
    "id": "8ac2Dt1s_FX6"
   },
   "source": [
    "This notebook rewrite for local (off-line) TensorFlow 1.x (or 2.x).<br>\n",
    "*If you use on online-colaboratory system, remove \"###\" from the top of lines in code cells. <br>\n",
    "Original notebook uses TensorFlow 2.x."
   ]
  },
  {
   "cell_type": "code",
   "execution_count": 1,
   "metadata": {
    "colab": {
     "base_uri": "https://localhost:8080/",
     "height": 34
    },
    "colab_type": "code",
    "id": "XQXzj7X7NCC7",
    "outputId": "9e58ba5b-bec9-4416-a4f3-907ef9245dff"
   },
   "outputs": [],
   "source": [
    "###%tensorflow_version 2.x"
   ]
  },
  {
   "cell_type": "markdown",
   "metadata": {
    "colab_type": "text",
    "id": "VJO3PPzqsq8d"
   },
   "source": [
    "####[SNE-01]\n",
    "Import modules and set random seeds."
   ]
  },
  {
   "cell_type": "code",
   "execution_count": 2,
   "metadata": {
    "colab": {},
    "colab_type": "code",
    "id": "gB5UUoAXIVmC"
   },
   "outputs": [],
   "source": [
    "import numpy as np\n",
    "from numpy.random import multivariate_normal, permutation\n",
    "import pandas as pd\n",
    "from pandas import DataFrame\n",
    "import matplotlib.pyplot as plt\n",
    "\n",
    "import tensorflow as tf\n",
    "from tensorflow.keras import layers, models\n",
    "\n",
    "np.random.seed(20160614)\n",
    "\n",
    "#--- For TensorFlow 1.x, use the following line, but if you use TensorFlow2.x, you need to comment it out..\n",
    "tf.random.set_random_seed(20190825)\n",
    "#--- For TensorFlow 2.x, use following line, instead of upper line.\n",
    "###tf.random.set_seed(20190825)"
   ]
  },
  {
   "cell_type": "markdown",
   "metadata": {
    "colab_type": "text",
    "id": "yz2h7_8St1wi"
   },
   "source": [
    "####[SNE-02]\n",
    "Generate a training dateset."
   ]
  },
  {
   "cell_type": "code",
   "execution_count": 3,
   "metadata": {
    "colab": {},
    "colab_type": "code",
    "id": "ASgzWK5AjWvn"
   },
   "outputs": [],
   "source": [
    "def generate_datablock(n, mu, var, t):\n",
    "    data = multivariate_normal(mu, np.eye(2)*var, n)\n",
    "    df = DataFrame(data, columns=['x1', 'x2'])\n",
    "    df['t'] = t\n",
    "    return df\n",
    "\n",
    "df0 = generate_datablock(15, [-8, -8], 22, 0)\n",
    "df1 = generate_datablock(15, [ 7, -8], 22, 0)\n",
    "df2 = generate_datablock(10, [-8,  7], 22, 0)\n",
    "df3 = generate_datablock(25, [ 5,  5], 22, 1)\n",
    "\n",
    "df = pd.concat([df0, df1, df2, df3], ignore_index=True)\n",
    "train_set = df.reindex(permutation(df.index)).reset_index(drop=True)"
   ]
  },
  {
   "cell_type": "markdown",
   "metadata": {
    "colab_type": "text",
    "id": "GeoERRDrryKF"
   },
   "source": [
    "####[SNE-03]\n",
    "Store the coordinates $(x_1,x_2)$ and label values $t$ into NumPy arrays."
   ]
  },
  {
   "cell_type": "code",
   "execution_count": 4,
   "metadata": {
    "colab": {},
    "colab_type": "code",
    "id": "Sb0P6z0h4nMF"
   },
   "outputs": [],
   "source": [
    "train_x = train_set[['x1', 'x2']].values\n",
    "train_t = train_set['t'].values"
   ]
  },
  {
   "cell_type": "markdown",
   "metadata": {
    "colab_type": "text",
    "id": "qdQ0Tp2IvFy8"
   },
   "source": [
    "####[SNE-04]\n",
    "Define a model for the binary classification using a single hidden layer.<br>\n",
    "*Waring will be occured for some version of TensorFlow as follows;<br>\n",
    "WARNING:tensorflow:From ..."
   ]
  },
  {
   "cell_type": "code",
   "execution_count": 5,
   "metadata": {
    "colab": {
     "base_uri": "https://localhost:8080/",
     "height": 221
    },
    "colab_type": "code",
    "id": "tpL_niBTXggS",
    "outputId": "f4d3f7a9-d47d-43ed-f263-cbc506292a63"
   },
   "outputs": [
    {
     "name": "stdout",
     "output_type": "stream",
     "text": [
      "WARNING:tensorflow:From C:\\XXXX\\Anaconda3\\envs\\dpl36\\lib\\site-packages\\tensorflow_core\\python\\ops\\resource_variable_ops.py:1630: calling BaseResourceVariable.__init__ (from tensorflow.python.ops.resource_variable_ops) with constraint is deprecated and will be removed in a future version.\n",
      "Instructions for updating:\n",
      "If using Keras pass *_constraint arguments to layers.\n",
      "Model: \"sequential\"\n",
      "_________________________________________________________________\n",
      "Layer (type)                 Output Shape              Param #   \n",
      "=================================================================\n",
      "hidden (Dense)               (None, 2)                 6         \n",
      "_________________________________________________________________\n",
      "output (Dense)               (None, 1)                 3         \n",
      "=================================================================\n",
      "Total params: 9\n",
      "Trainable params: 9\n",
      "Non-trainable params: 0\n",
      "_________________________________________________________________\n"
     ]
    }
   ],
   "source": [
    "model = models.Sequential()\n",
    "model.add(layers.Dense(2, activation='tanh', input_shape=(2,),\n",
    "                       name='hidden'))\n",
    "model.add(layers.Dense(1, activation='sigmoid',\n",
    "                       name='output'))\n",
    "\n",
    "model.summary()"
   ]
  },
  {
   "cell_type": "markdown",
   "metadata": {
    "colab_type": "text",
    "id": "fmnjQdqAvQRw"
   },
   "source": [
    "####[SNE-05]\n",
    "Compile the model using the Adam optimizer, and Cross entroy as a loss function."
   ]
  },
  {
   "cell_type": "code",
   "execution_count": 6,
   "metadata": {
    "colab": {},
    "colab_type": "code",
    "id": "BakcuKxdQoSL"
   },
   "outputs": [
    {
     "name": "stdout",
     "output_type": "stream",
     "text": [
      "WARNING:tensorflow:From C:\\XXXX\\Anaconda3\\envs\\dpl36\\lib\\site-packages\\tensorflow_core\\python\\ops\\nn_impl.py:183: where (from tensorflow.python.ops.array_ops) is deprecated and will be removed in a future version.\n",
      "Instructions for updating:\n",
      "Use tf.where in 2.0, which has the same broadcast rule as np.where\n"
     ]
    }
   ],
   "source": [
    "model.compile(optimizer='adam',\n",
    "              loss='binary_crossentropy',\n",
    "              metrics=['acc'])"
   ]
  },
  {
   "cell_type": "markdown",
   "metadata": {
    "colab_type": "text",
    "id": "fBltXsSRvZn0"
   },
   "source": [
    "####[SNE-06]\n",
    "Train the model.<br>\n",
    "*Waring will be occured for some version of TensorFlow as follows;<br>\n",
    "WARNING:tensorflow:From ..."
   ]
  },
  {
   "cell_type": "code",
   "execution_count": 7,
   "metadata": {
    "colab": {
     "base_uri": "https://localhost:8080/",
     "height": 105
    },
    "colab_type": "code",
    "id": "LlQCTsKKXkr5",
    "outputId": "884021ca-2f19-4ae9-db40-67fb2477719d"
   },
   "outputs": [],
   "source": [
    "history = model.fit(train_x, train_t,\n",
    "                    batch_size=len(train_set), epochs=5000, verbose=0)"
   ]
  },
  {
   "cell_type": "markdown",
   "metadata": {
    "colab_type": "text",
    "id": "gqLORk3JsMmb"
   },
   "source": [
    "####[SNE-07]\n",
    "Plot charts for the accuracy and loss values."
   ]
  },
  {
   "cell_type": "code",
   "execution_count": 8,
   "metadata": {
    "colab": {
     "base_uri": "https://localhost:8080/",
     "height": 538
    },
    "colab_type": "code",
    "id": "5HYXAt_0vXwr",
    "outputId": "f3f408dd-7c4d-46e9-d96e-28e54b29ccaf"
   },
   "outputs": [
    {
     "data": {
      "text/plain": [
       "<matplotlib.axes._subplots.AxesSubplot at 0x1f41c771588>"
      ]
     },
     "execution_count": 8,
     "metadata": {},
     "output_type": "execute_result"
    },
    {
     "data": {
      "image/png": "[encoded data removed]",
      "text/plain": [
       "<Figure size 432x288 with 1 Axes>"
      ]
     },
     "metadata": {
      "needs_background": "light"
     },
     "output_type": "display_data"
    },
    {
     "data": {
      "image/png": "[encoded data removed]",
      "text/plain": [
       "<Figure size 432x288 with 1 Axes>"
      ]
     },
     "metadata": {
      "needs_background": "light"
     },
     "output_type": "display_data"
    }
   ],
   "source": [
    "DataFrame({'acc': history.history['acc']}).plot()\n",
    "DataFrame({'loss': history.history['loss']}).plot()"
   ]
  },
  {
   "cell_type": "markdown",
   "metadata": {
    "colab_type": "text",
    "id": "MpSePiAysZHn"
   },
   "source": [
    "####[SNE-08]\n",
    "Plot charts for the final result."
   ]
  },
  {
   "cell_type": "code",
   "execution_count": 9,
   "metadata": {
    "colab": {
     "base_uri": "https://localhost:8080/",
     "height": 449
    },
    "colab_type": "code",
    "id": "GjtcwxfnFD9M",
    "outputId": "1fca46bf-7f24-411d-9846-73f39046c5e7"
   },
   "outputs": [
    {
     "data": {
      "text/plain": [
       "<matplotlib.image.AxesImage at 0x1f41c874b38>"
      ]
     },
     "execution_count": 9,
     "metadata": {},
     "output_type": "execute_result"
    },
    {
     "data": {
      "image/png": "[encoded data removed]",
      "text/plain": [
       "<Figure size 504x504 with 1 Axes>"
      ]
     },
     "metadata": {
      "needs_background": "light"
     },
     "output_type": "display_data"
    }
   ],
   "source": [
    "train_set1 = train_set[train_set['t']==1]\n",
    "train_set2 = train_set[train_set['t']==0]\n",
    "\n",
    "fig = plt.figure(figsize=(7, 7))\n",
    "subplot = fig.add_subplot(1, 1, 1)\n",
    "subplot.set_ylim([-15, 15])\n",
    "subplot.set_xlim([-15, 15])\n",
    "subplot.scatter(train_set1.x1, train_set1.x2, marker='x')\n",
    "subplot.scatter(train_set2.x1, train_set2.x2, marker='o')\n",
    "\n",
    "locations = [[x1, x2] for x2 in np.linspace(-15, 15, 100) \n",
    "                      for x1 in np.linspace(-15, 15, 100)]\n",
    "p_vals = model.predict(np.array(locations)).reshape((100, 100))\n",
    "subplot.imshow(p_vals, origin='lower', extent=(-15, 15, -15, 15),\n",
    "               vmin=0, vmax=1, cmap=plt.cm.gray_r, alpha=0.5)"
   ]
  },
  {
   "cell_type": "code",
   "execution_count": null,
   "metadata": {},
   "outputs": [],
   "source": []
  }
 ],
 "metadata": {
  "colab": {
   "collapsed_sections": [],
   "name": "1. Single layer network example.ipynb",
   "provenance": [],
   "version": "0.3.2"
  },
  "kernelspec": {
   "display_name": "Python 3",
   "language": "python",
   "name": "python3"
  },
  "language_info": {
   "codemirror_mode": {
    "name": "ipython",
    "version": 3
   },
   "file_extension": ".py",
   "mimetype": "text/x-python",
   "name": "python",
   "nbconvert_exporter": "python",
   "pygments_lexer": "ipython3",
   "version": "3.6.10"
  }
 },
 "nbformat": 4,
 "nbformat_minor": 1
}
