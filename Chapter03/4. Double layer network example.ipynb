{
 "cells": [
  {
   "cell_type": "markdown",
   "metadata": {
    "colab_type": "text",
    "id": "z2VHzhy6-YVW"
   },
   "source": [
    "# Double Layer Network Example"
   ]
  },
  {
   "cell_type": "markdown",
   "metadata": {
    "colab_type": "text",
    "id": "zv1yWJVN-duo"
   },
   "source": [
    "注意：このノートブックはGPUの有無に関わらずPython 3.x および　TensorFlow 2.x（ないしTensorFlow 1.x） にて、オフラインにて稼動するよう変更しています。<br>\n",
    "Google Colab環境にてオンラインで実行する場合、オリジナルサイトのコードを使って下さい。<br>\n",
    "2020/02/04: By H.Nishiyama<br>\n",
    "2021/11/17 追加・変更部分のみ日本語化<br>\n",
    "\n",
    "このノートブックはTensorFlow 2.x (ないし1.x）を使います<br>\n",
    "*もし、オンラインのCloabシステムを使うなら、オリジナルサイトのコードを使うか、セルを指示通りに修正して下さい。<br>\n",
    "【オリジナルサイト】https://github.com/enakai00/colab_tfbook"
   ]
  },
  {
   "cell_type": "code",
   "execution_count": 1,
   "metadata": {
    "colab": {
     "base_uri": "https://localhost:8080/",
     "height": 34
    },
    "colab_type": "code",
    "id": "6dTIqB-q88xc",
    "outputId": "48451d30-a038-4303-f195-d30e50fcb49d"
   },
   "outputs": [],
   "source": [
    "###%tensorflow_version 2.x"
   ]
  },
  {
   "cell_type": "markdown",
   "metadata": {
    "colab_type": "text",
    "id": "VJO3PPzqsq8d"
   },
   "source": [
    "####[DNE-01]\n",
    "Import modules and set a random seed."
   ]
  },
  {
   "cell_type": "code",
   "execution_count": 2,
   "metadata": {
    "colab": {},
    "colab_type": "code",
    "id": "gB5UUoAXIVmC"
   },
   "outputs": [],
   "source": [
    "import numpy as np\n",
    "from numpy.random import multivariate_normal, permutation\n",
    "import pandas as pd\n",
    "from pandas import DataFrame\n",
    "import matplotlib.pyplot as plt\n",
    "\n",
    "import tensorflow as tf\n",
    "from tensorflow.keras import layers, models, initializers\n",
    "\n",
    "np.random.seed(20190830)\n",
    "\n",
    "#--- For TensorFlow 1.x, use the following line, but if you use TensorFlow2.x, you need to comment it out.\n",
    "###tf.random.set_random_seed(20190703)\n",
    "#--- For TensorFlow 2.x, use following line, instead of upper line.\n",
    "tf.random.set_seed(20190703)"
   ]
  },
  {
   "cell_type": "markdown",
   "metadata": {
    "colab_type": "text",
    "id": "yz2h7_8St1wi"
   },
   "source": [
    "####[DNE-02]\n",
    "Generate a training dateset."
   ]
  },
  {
   "cell_type": "code",
   "execution_count": 3,
   "metadata": {
    "colab": {},
    "colab_type": "code",
    "id": "ASgzWK5AjWvn"
   },
   "outputs": [],
   "source": [
    "def generate_datablock(n, mu, var, t):\n",
    "    data = multivariate_normal(mu, np.eye(2)*var, n)\n",
    "    df = DataFrame(data, columns=['x1', 'x2'])\n",
    "    df['t'] = t\n",
    "    return df\n",
    "\n",
    "df0 = generate_datablock(30, [-7, -7], 18, 1)\n",
    "df1 = generate_datablock(30, [-7, 7], 18, 0)\n",
    "df2 = generate_datablock(30, [7, -7], 18, 0)\n",
    "df3 = generate_datablock(30, [7, 7], 18, 1)\n",
    "\n",
    "df = pd.concat([df0, df1, df2, df3], ignore_index=True)\n",
    "train_set = df.reindex(permutation(df.index)).reset_index(drop=True)"
   ]
  },
  {
   "cell_type": "markdown",
   "metadata": {
    "colab_type": "text",
    "id": "GeoERRDrryKF"
   },
   "source": [
    "####[DNE-03]\n",
    "Store the coordinates $(x_1,x_2)$ and label values $t$ into NumPy arrays."
   ]
  },
  {
   "cell_type": "code",
   "execution_count": 4,
   "metadata": {
    "colab": {},
    "colab_type": "code",
    "id": "Sb0P6z0h4nMF"
   },
   "outputs": [],
   "source": [
    "train_x = train_set[['x1', 'x2']].values\n",
    "train_t = train_set['t'].values"
   ]
  },
  {
   "cell_type": "markdown",
   "metadata": {
    "colab_type": "text",
    "id": "qdQ0Tp2IvFy8"
   },
   "source": [
    "####[DNE-04]\n",
    "Define a model for the binary classification using two hidden layers.\n",
    "\n",
    "Weights in the hidden layers are initialized with random values.<br>\n",
    "*Waring will be occured for some version of TensorFlow as follows;<br>\n",
    "WARNING:tensorflow:From ... "
   ]
  },
  {
   "cell_type": "code",
   "execution_count": 5,
   "metadata": {
    "colab": {
     "base_uri": "https://localhost:8080/",
     "height": 255
    },
    "colab_type": "code",
    "id": "tpL_niBTXggS",
    "outputId": "c5dc55b4-730f-46fa-886a-20100d1664fd"
   },
   "outputs": [
    {
     "name": "stdout",
     "output_type": "stream",
     "text": [
      "Model: \"sequential\"\n",
      "_________________________________________________________________\n",
      "Layer (type)                 Output Shape              Param #   \n",
      "=================================================================\n",
      "hidden1 (Dense)              (None, 2)                 6         \n",
      "_________________________________________________________________\n",
      "hidden2 (Dense)              (None, 2)                 6         \n",
      "_________________________________________________________________\n",
      "output (Dense)               (None, 1)                 3         \n",
      "=================================================================\n",
      "Total params: 15\n",
      "Trainable params: 15\n",
      "Non-trainable params: 0\n",
      "_________________________________________________________________\n"
     ]
    }
   ],
   "source": [
    "model = models.Sequential()\n",
    "model.add(layers.Dense(2, activation='tanh',input_shape=(2,),\n",
    "                       kernel_initializer=initializers.TruncatedNormal(),\n",
    "                       name='hidden1'))\n",
    "model.add(layers.Dense(2, activation='tanh',\n",
    "                       kernel_initializer=initializers.TruncatedNormal(),\n",
    "                       name='hidden2'))\n",
    "model.add(layers.Dense(1, activation='sigmoid',\n",
    "                       name='output'))\n",
    "\n",
    "model.summary()"
   ]
  },
  {
   "cell_type": "markdown",
   "metadata": {
    "colab_type": "text",
    "id": "fBltXsSRvZn0"
   },
   "source": [
    "####[DNE-05]\n",
    "Compile the model using the Adam optimizer, and Cross entroy as a loss function.<br>\n",
    "*Waring will be occured for some version of TensorFlow as follows;<br>\n",
    "WARNING:tensorflow:From ... "
   ]
  },
  {
   "cell_type": "code",
   "execution_count": 6,
   "metadata": {
    "colab": {},
    "colab_type": "code",
    "id": "BakcuKxdQoSL"
   },
   "outputs": [],
   "source": [
    "model.compile(optimizer='adam',\n",
    "              loss='binary_crossentropy',\n",
    "              metrics=['acc'])"
   ]
  },
  {
   "cell_type": "markdown",
   "metadata": {
    "colab_type": "text",
    "id": "r8LmLDYO_Vf7"
   },
   "source": [
    "####[DNE-06]\n",
    "Train the model.<br>\n",
    "*Waring will be occured for some version of TensorFlow as follows;<br>\n",
    "WARNING:tensorflow:From ... "
   ]
  },
  {
   "cell_type": "code",
   "execution_count": 7,
   "metadata": {
    "colab": {
     "base_uri": "https://localhost:8080/",
     "height": 88
    },
    "colab_type": "code",
    "id": "LlQCTsKKXkr5",
    "outputId": "7ac2de88-4b5b-415a-8a99-8525eb1c8ffd"
   },
   "outputs": [],
   "source": [
    "history = model.fit(train_x, train_t,\n",
    "                    batch_size=len(train_set), epochs=2000, verbose=0)"
   ]
  },
  {
   "cell_type": "markdown",
   "metadata": {
    "colab_type": "text",
    "id": "gqLORk3JsMmb"
   },
   "source": [
    "####[DNE-07]\n",
    "Plot charts for the accuracy and loss values."
   ]
  },
  {
   "cell_type": "code",
   "execution_count": 8,
   "metadata": {
    "colab": {
     "base_uri": "https://localhost:8080/",
     "height": 538
    },
    "colab_type": "code",
    "id": "5HYXAt_0vXwr",
    "outputId": "c8b86491-2400-4f07-e253-c89c0787a154"
   },
   "outputs": [
    {
     "data": {
      "text/plain": [
       "<AxesSubplot:>"
      ]
     },
     "execution_count": 8,
     "metadata": {},
     "output_type": "execute_result"
    },
    {
     "data": {
      "image/png": "[encoded data removed]",
      "text/plain": [
       "<Figure size 432x288 with 1 Axes>"
      ]
     },
     "metadata": {
      "needs_background": "light"
     },
     "output_type": "display_data"
    },
    {
     "data": {
      "image/png": "[encoded data removed]",
      "text/plain": [
       "<Figure size 432x288 with 1 Axes>"
      ]
     },
     "metadata": {
      "needs_background": "light"
     },
     "output_type": "display_data"
    }
   ],
   "source": [
    "DataFrame({'acc': history.history['acc']}).plot(grid=False)\n",
    "DataFrame({'loss': history.history['loss']}).plot(grid=False)"
   ]
  },
  {
   "cell_type": "markdown",
   "metadata": {
    "colab_type": "text",
    "id": "MpSePiAysZHn"
   },
   "source": [
    "####[DNE-08]\n",
    "Plot charts for the final result."
   ]
  },
  {
   "cell_type": "code",
   "execution_count": 9,
   "metadata": {
    "colab": {
     "base_uri": "https://localhost:8080/",
     "height": 449
    },
    "colab_type": "code",
    "id": "jY2TeEWCwxix",
    "outputId": "228fa6c4-b2fb-4eee-dcf5-e314b3a28384"
   },
   "outputs": [
    {
     "data": {
      "text/plain": [
       "<matplotlib.image.AxesImage at 0x1d3b1c946a0>"
      ]
     },
     "execution_count": 9,
     "metadata": {},
     "output_type": "execute_result"
    },
    {
     "data": {
      "image/png": "[encoded data removed]",
      "text/plain": [
       "<Figure size 504x504 with 1 Axes>"
      ]
     },
     "metadata": {
      "needs_background": "light"
     },
     "output_type": "display_data"
    }
   ],
   "source": [
    "train_set1 = train_set[train_set['t']==1]\n",
    "train_set2 = train_set[train_set['t']==0]\n",
    "\n",
    "fig = plt.figure(figsize=(7, 7))\n",
    "subplot = fig.add_subplot(1, 1, 1)\n",
    "subplot.set_ylim([-15, 15])\n",
    "subplot.set_xlim([-15, 15])\n",
    "subplot.scatter(train_set1.x1, train_set1.x2, marker='x')\n",
    "subplot.scatter(train_set2.x1, train_set2.x2, marker='o')\n",
    "\n",
    "locations = [[x1, x2] for x2 in np.linspace(-15, 15, 100) \n",
    "                      for x1 in np.linspace(-15, 15, 100)]\n",
    "p_vals = model.predict(np.array(locations)).reshape((100, 100))\n",
    "subplot.imshow(p_vals, origin='lower', extent=(-15, 15, -15, 15),\n",
    "               cmap=plt.cm.gray_r, alpha=0.5)"
   ]
  },
  {
   "cell_type": "code",
   "execution_count": null,
   "metadata": {},
   "outputs": [],
   "source": []
  }
 ],
 "metadata": {
  "colab": {
   "collapsed_sections": [],
   "name": "4. Double layer network example.ipynb",
   "provenance": [],
   "version": "0.3.2"
  },
  "kernelspec": {
   "display_name": "Python 3 (ipykernel)",
   "language": "python",
   "name": "python3"
  },
  "language_info": {
   "codemirror_mode": {
    "name": "ipython",
    "version": 3
   },
   "file_extension": ".py",
   "mimetype": "text/x-python",
   "name": "python",
   "nbconvert_exporter": "python",
   "pygments_lexer": "ipython3",
   "version": "3.9.7"
  }
 },
 "nbformat": 4,
 "nbformat_minor": 1
}
