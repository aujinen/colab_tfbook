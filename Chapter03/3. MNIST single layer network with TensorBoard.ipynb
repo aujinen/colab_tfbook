{
 "cells": [
  {
   "cell_type": "markdown",
   "metadata": {
    "colab_type": "text",
    "id": "hyYNTPtMEVFS"
   },
   "source": [
    "# MNIST Single Layer Network with TensorBoard"
   ]
  },
  {
   "cell_type": "markdown",
   "metadata": {
    "colab_type": "text",
    "id": "4mpClHxXL51l"
   },
   "source": [
    "注意：このノートブックはGPUの有無に関わらずPython 3.x および　TensorFlow 2.xにて1.x環境を実行可能にする設定（ないしTensorFlow 1.x） にて、オフラインにて稼動するよう変更しています。<br>\n",
    "Google Colab環境にてオンラインで実行する場合、オリジナルサイトのコードを使って下さい。<br>\n",
    "2020/02/04: By H.Nishiyama<br>\n",
    "2021/11/08 追加・変更部分のみ日本語化<br>"
   ]
  },
  {
   "cell_type": "markdown",
   "metadata": {
    "colab_type": "text",
    "id": "eEcsPed9AUfE"
   },
   "source": [
    "このノートブックはTensorFlow 2.x (ないし1.x）を使います<br>\n",
    "*もし、オンラインのCloabシステムを使うなら、オリジナルサイトのコードを使うか、次のセルを指示通りに修正して下さい。<br>\n",
    "【オリジナルサイト】https://github.com/enakai00/colab_tfbook"
   ]
  },
  {
   "cell_type": "code",
   "execution_count": 1,
   "metadata": {
    "colab": {
     "base_uri": "https://localhost:8080/",
     "height": 34
    },
    "colab_type": "code",
    "id": "N4qbP7L1QSqR",
    "outputId": "0cfb829c-dbfa-4ee7-d47f-59fcb798d7ff"
   },
   "outputs": [],
   "source": [
    "#オンラインのCloabシステムを使う場合、下記の行頭の「###」を削除する。\n",
    "###%tensorflow_version 2.x"
   ]
  },
  {
   "cell_type": "markdown",
   "metadata": {
    "colab_type": "text",
    "id": "VJO3PPzqsq8d"
   },
   "source": [
    "####[MST-01]\n",
    "Import modules and set random seeds."
   ]
  },
  {
   "cell_type": "code",
   "execution_count": 2,
   "metadata": {
    "colab": {},
    "colab_type": "code",
    "id": "gB5UUoAXIVmC"
   },
   "outputs": [],
   "source": [
    "import numpy as np\n",
    "import shutil\n",
    "  \n",
    "import tensorflow as tf\n",
    "from tensorflow.keras import layers, models, initializers, callbacks\n",
    "from tensorflow.keras.datasets import mnist\n",
    "\n",
    "np.random.seed(20190228)\n",
    "#--- TensorFlow 1.x, を使う場合、下記のコメントアウト（###）を削除してください。\n",
    "###tf.random.set_random_seed(20190228)\n",
    "#--- For TensorFlow 2.x,用のコード。ensorFlow 1.x, を使う場合、下記をコメントアウトしてください。\n",
    "tf.random.set_seed(20190228)"
   ]
  },
  {
   "cell_type": "markdown",
   "metadata": {
    "colab_type": "text",
    "id": "yz2h7_8St1wi"
   },
   "source": [
    "####[MST-02]\n",
    "Download the MNIST dataset and store into NumPy arrays."
   ]
  },
  {
   "cell_type": "code",
   "execution_count": 3,
   "metadata": {
    "colab": {
     "base_uri": "https://localhost:8080/",
     "height": 51
    },
    "colab_type": "code",
    "id": "ASgzWK5AjWvn",
    "outputId": "731a32ca-6473-45ee-8892-d169be497d42"
   },
   "outputs": [],
   "source": [
    "(train_images, train_labels), (test_images, test_labels) = mnist.load_data()\n",
    "train_images = train_images.reshape(\n",
    "                  (len(train_images), 784)).astype('float32') / 255\n",
    "test_images = test_images.reshape(\n",
    "                  (len(test_images), 784)).astype('float32') / 255\n",
    "train_labels = tf.keras.utils.to_categorical(train_labels, 10)\n",
    "test_labels = tf.keras.utils.to_categorical(test_labels, 10)"
   ]
  },
  {
   "cell_type": "markdown",
   "metadata": {
    "colab_type": "text",
    "id": "qdQ0Tp2IvFy8"
   },
   "source": [
    "####[MST-03]\n",
    "Define a model with a single hidden layer.<br>\n",
    "*Waring will be occured for some version of TensorFlow as follows;<br>\n",
    "WARNING:tensorflow:From ... "
   ]
  },
  {
   "cell_type": "code",
   "execution_count": 4,
   "metadata": {
    "colab": {
     "base_uri": "https://localhost:8080/",
     "height": 221
    },
    "colab_type": "code",
    "id": "tpL_niBTXggS",
    "outputId": "b8a2935e-4c1c-4f13-a626-f0f23a1cf94d"
   },
   "outputs": [
    {
     "name": "stdout",
     "output_type": "stream",
     "text": [
      "Model: \"sequential\"\n",
      "_________________________________________________________________\n",
      "Layer (type)                 Output Shape              Param #   \n",
      "=================================================================\n",
      "hidden (Dense)               (None, 1024)              803840    \n",
      "_________________________________________________________________\n",
      "softmax (Dense)              (None, 10)                10250     \n",
      "=================================================================\n",
      "Total params: 814,090\n",
      "Trainable params: 814,090\n",
      "Non-trainable params: 0\n",
      "_________________________________________________________________\n"
     ]
    }
   ],
   "source": [
    "model = models.Sequential()\n",
    "model.add(layers.Dense(1024, activation='relu', input_shape=(28*28,),\n",
    "                       kernel_initializer=initializers.TruncatedNormal(),\n",
    "                       name='hidden'))\n",
    "model.add(layers.Dense(10, activation='softmax', name='softmax'))\n",
    "\n",
    "model.summary()"
   ]
  },
  {
   "cell_type": "markdown",
   "metadata": {
    "colab_type": "text",
    "id": "fBltXsSRvZn0"
   },
   "source": [
    "####[MST-04]\n",
    "Compile the model using the Adam optimizer, and Cross entroy as a loss function."
   ]
  },
  {
   "cell_type": "code",
   "execution_count": 5,
   "metadata": {
    "colab": {},
    "colab_type": "code",
    "id": "BakcuKxdQoSL"
   },
   "outputs": [],
   "source": [
    "model.compile(optimizer='adam', \n",
    "              loss='categorical_crossentropy',\n",
    "              metrics=['acc'])"
   ]
  },
  {
   "cell_type": "markdown",
   "metadata": {},
   "source": [
    "####[For local (off-line), windows system only!!]<br>\n",
    "この部分は、Windowsでのローカル環境のみに適応しています。<br>\n",
    "もし、上記ディレクトリ内に重要なファイルがあるようなら、予め別の場所に移動しておきましょう。<br>"
   ]
  },
  {
   "cell_type": "code",
   "execution_count": 6,
   "metadata": {},
   "outputs": [
    {
     "name": "stdout",
     "output_type": "stream",
     "text": [
      "c:\n",
      "フォルダー パスの一覧\n",
      "ボリューム シリアル番号は xxxx-xxxx です\n",
      "C:\\TMP\\LOG\n",
      "+---train\n",
      "|   |   events.out.tfevents.1636380513.xxxxxxxx\n",
      "|   |   events.out.tfevents.1636380514.xxxxxxxx\n",
      "|   |   \n",
      "|   \\---plugins\n",
      "|       \\---profile\n",
      "|           \\---2021_11_08_14_08_34\n",
      "|                   xxxxxxxx.input_pipeline.pb\n",
      "|                   xxxxxxxx.kernel_stats.pb\n",
      "|                   xxxxxxxx.memory_profile.json.gz\n",
      "|                   xxxxxxxx.overview_page.pb\n",
      "|                   xxxxxxxx.tensorflow_stats.pb\n",
      "|                   xxxxxxxx.trace.json.gz\n",
      "|                   xxxxxxxx.xplane.pb\n",
      "|                   \n",
      "\\---validation\n",
      "        events.out.tfevents.xxxxxxxx\n",
      "        \n"
     ]
    }
   ],
   "source": [
    "import os\n",
    "presentPath = os.getcwd()\n",
    "driveLetter = presentPath[:presentPath.find(':')+1]\n",
    "print(driveLetter)\n",
    "!tree /A /F \\tmp\\log"
   ]
  },
  {
   "cell_type": "markdown",
   "metadata": {
    "colab_type": "text",
    "id": "fdIktV-vFDof"
   },
   "source": [
    "####[MST-05]\n",
    "Train the model with the callbacks option to store training logs."
   ]
  },
  {
   "cell_type": "code",
   "execution_count": 7,
   "metadata": {
    "colab": {
     "base_uri": "https://localhost:8080/",
     "height": 394
    },
    "colab_type": "code",
    "id": "LlQCTsKKXkr5",
    "outputId": "3f73a96c-0b7a-4d0b-ef7c-3407b4ea85f0"
   },
   "outputs": [
    {
     "name": "stdout",
     "output_type": "stream",
     "text": [
      "Epoch 1/10\n",
      "469/469 [==============================] - 3s 5ms/step - loss: 0.2360 - acc: 0.9314 - val_loss: 0.1190 - val_acc: 0.9655\n",
      "Epoch 2/10\n",
      "469/469 [==============================] - 2s 4ms/step - loss: 0.0909 - acc: 0.9729 - val_loss: 0.0871 - val_acc: 0.9734\n",
      "Epoch 3/10\n",
      "469/469 [==============================] - 2s 3ms/step - loss: 0.0577 - acc: 0.9831 - val_loss: 0.0683 - val_acc: 0.9781\n",
      "Epoch 4/10\n",
      "469/469 [==============================] - 2s 4ms/step - loss: 0.0388 - acc: 0.9884 - val_loss: 0.0684 - val_acc: 0.9789\n",
      "Epoch 5/10\n",
      "469/469 [==============================] - 2s 4ms/step - loss: 0.0269 - acc: 0.9919 - val_loss: 0.0595 - val_acc: 0.9836\n",
      "Epoch 6/10\n",
      "469/469 [==============================] - 2s 5ms/step - loss: 0.0186 - acc: 0.9950 - val_loss: 0.0648 - val_acc: 0.9814\n",
      "Epoch 7/10\n",
      "469/469 [==============================] - 2s 4ms/step - loss: 0.0140 - acc: 0.9962 - val_loss: 0.0648 - val_acc: 0.9805\n",
      "Epoch 8/10\n",
      "469/469 [==============================] - 2s 4ms/step - loss: 0.0115 - acc: 0.9969 - val_loss: 0.0689 - val_acc: 0.9794\n",
      "Epoch 9/10\n",
      "469/469 [==============================] - 2s 4ms/step - loss: 0.0081 - acc: 0.9979 - val_loss: 0.0773 - val_acc: 0.9781\n",
      "Epoch 10/10\n",
      "469/469 [==============================] - 2s 4ms/step - loss: 0.0090 - acc: 0.9974 - val_loss: 0.0786 - val_acc: 0.9789\n"
     ]
    }
   ],
   "source": [
    "# For online-colaboratory system, remove \"###\" from the top of following line.\n",
    "###log_dir = '/tmp/log'\n",
    "# For online-colaboratory system, add \"###\" to the top of following line. \n",
    "log_dir = \"\\\\\".join([driveLetter,'tmp\\\\log'])\n",
    "shutil.rmtree(log_dir, ignore_errors=True)\n",
    "\n",
    "tensorboard_callback = callbacks.TensorBoard(log_dir=log_dir,\n",
    "                                             histogram_freq=1)\n",
    "history = model.fit(train_images, train_labels,\n",
    "                    validation_data=(test_images, test_labels),\n",
    "                    batch_size=128, epochs=10,\n",
    "                    callbacks=[tensorboard_callback])"
   ]
  },
  {
   "cell_type": "markdown",
   "metadata": {
    "colab_type": "text",
    "id": "MpSePiAysZHn"
   },
   "source": [
    "####[MST-06]\n",
    "Install ngrok to run TensorBoard on Colaboratory.<br>\n",
    "*For online-colaboratory system, remove \"###\" from the top of following line."
   ]
  },
  {
   "cell_type": "code",
   "execution_count": 8,
   "metadata": {
    "colab": {
     "base_uri": "https://localhost:8080/",
     "height": 102
    },
    "colab_type": "code",
    "id": "BqHkMyJHYFTb",
    "outputId": "9315cbea-e638-4e72-c27d-0aed3125a047"
   },
   "outputs": [],
   "source": [
    "###!curl -OL https://bin.equinox.io/c/4VmDzA7iaHb/ngrok-stable-linux-amd64.zip\n",
    "###!unzip -o ngrok-stable-linux-amd64.zip"
   ]
  },
  {
   "cell_type": "markdown",
   "metadata": {
    "colab_type": "text",
    "id": "VCHxA0sKahqD"
   },
   "source": [
    "####[MST-07]\n",
    "Start TensorBoard and prepare the connection URL.<br>\n",
    "*For online-colaboratory system, remove \"###\" from the top of following line."
   ]
  },
  {
   "cell_type": "code",
   "execution_count": 9,
   "metadata": {
    "colab": {
     "base_uri": "https://localhost:8080/",
     "height": 34
    },
    "colab_type": "code",
    "id": "o3oGrHRwWz58",
    "outputId": "ab8e9292-9e8a-48b9-daca-718c1c886c84"
   },
   "outputs": [],
   "source": [
    "###get_ipython().system_raw(\n",
    "###    'tensorboard --logdir {} --host 0.0.0.0 --port 6006 &'\n",
    "###    .format(log_dir)\n",
    "###)\n",
    "###get_ipython().system_raw('./ngrok http 6006 &')\n",
    "###!curl -s http://localhost:4040/api/tunnels | python3 -c \\\n",
    "###    \"import sys, json; print(json.load(sys.stdin)['tunnels'][0]['public_url'])\""
   ]
  },
  {
   "cell_type": "markdown",
   "metadata": {},
   "source": [
    "Windows10であれば、Jupyterの\"new->terminal\"にて、ターミナル画面を開きます<br>\n",
    "![Jupyter-open-new-Terminal.png](https://raw.githubusercontent.com/aujinen/colab_tfbook/master/docs/imgs/Jupyter-open-new-Terminal.png)\n",
    "\n",
    "\n",
    "次に、下記の行を実行して得られるコマンドをターミナル内で実行しましょう。\n",
    "ex. tensorboard --logdir \"c:\\tmp\\log\""
   ]
  },
  {
   "cell_type": "code",
   "execution_count": 10,
   "metadata": {},
   "outputs": [
    {
     "name": "stdout",
     "output_type": "stream",
     "text": [
      "tensorboard --logdir \"c:\\tmp\\log\"\n"
     ]
    }
   ],
   "source": [
    "print('tensorboard --logdir \"{}\\\\tmp\\\\log\"'.format(driveLetter))"
   ]
  },
  {
   "cell_type": "markdown",
   "metadata": {},
   "source": [
    "![open-TensorBoard-with-Shell.png](https://raw.githubusercontent.com/aujinen/colab_tfbook/master/docs/imgs/open-TensorBoard-with-Shell.png)"
   ]
  },
  {
   "cell_type": "markdown",
   "metadata": {},
   "source": [
    "次に、下記URLを開きます。\n",
    "\n",
    "http://localhost:6006/\n",
    "<br><br>\n",
    "もしくは、上記ターミナル内に表示されるURLを開いてください。\n",
    "もし「No dashboards are active for the current data set.」と表示された場合には、「/tmp/log」が存在しているドライブを確認してください。<br>\n",
    "終了するには、ターミナル内で【CTRL】+C を入力して停止後に、各画面を閉じてください。"
   ]
  },
  {
   "cell_type": "code",
   "execution_count": null,
   "metadata": {},
   "outputs": [],
   "source": []
  }
 ],
 "metadata": {
  "accelerator": "GPU",
  "colab": {
   "collapsed_sections": [],
   "name": "3. MNIST single layer network with TensorBoard.ipynb",
   "provenance": [],
   "version": "0.3.2"
  },
  "kernelspec": {
   "display_name": "Python 3 (ipykernel)",
   "language": "python",
   "name": "python3"
  },
  "language_info": {
   "codemirror_mode": {
    "name": "ipython",
    "version": 3
   },
   "file_extension": ".py",
   "mimetype": "text/x-python",
   "name": "python",
   "nbconvert_exporter": "python",
   "pygments_lexer": "ipython3",
   "version": "3.9.7"
  }
 },
 "nbformat": 4,
 "nbformat_minor": 1
}
