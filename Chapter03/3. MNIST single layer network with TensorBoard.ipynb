{
 "cells": [
  {
   "cell_type": "markdown",
   "metadata": {
    "colab_type": "text",
    "id": "hyYNTPtMEVFS"
   },
   "source": [
    "# MNIST Single Layer Network with TensorBoard"
   ]
  },
  {
   "cell_type": "markdown",
   "metadata": {
    "colab_type": "text",
    "id": "4mpClHxXL51l"
   },
   "source": [
    "Note: This notebook is desinged to run with Python3 and GPU runtime.<br>\n",
    "\n",
    "Modified for local (off-line) mode with Python 3.x, TensorFlow 1.x (or 2.x), with or without GPU<br>\n",
    "2020/02/04: By H.Nishiyama<br>"
   ]
  },
  {
   "cell_type": "markdown",
   "metadata": {
    "colab_type": "text",
    "id": "eEcsPed9AUfE"
   },
   "source": [
    "This notebook rewrite for local (off-line) TensorFlow 1.x (or 2.x).<br>\n",
    "*If you use on online-colaboratory system, remove \"###\" from the top of lines in code cells. <br>\n",
    "Original notebook uses TensorFlow 2.x."
   ]
  },
  {
   "cell_type": "code",
   "execution_count": 1,
   "metadata": {
    "colab": {
     "base_uri": "https://localhost:8080/",
     "height": 34
    },
    "colab_type": "code",
    "id": "N4qbP7L1QSqR",
    "outputId": "0cfb829c-dbfa-4ee7-d47f-59fcb798d7ff"
   },
   "outputs": [],
   "source": [
    "###%tensorflow_version 2.x"
   ]
  },
  {
   "cell_type": "markdown",
   "metadata": {
    "colab_type": "text",
    "id": "VJO3PPzqsq8d"
   },
   "source": [
    "####[MST-01]\n",
    "Import modules and set random seeds."
   ]
  },
  {
   "cell_type": "code",
   "execution_count": 2,
   "metadata": {
    "colab": {},
    "colab_type": "code",
    "id": "gB5UUoAXIVmC"
   },
   "outputs": [],
   "source": [
    "import numpy as np\n",
    "import shutil\n",
    "  \n",
    "import tensorflow as tf\n",
    "from tensorflow.keras import layers, models, initializers, callbacks\n",
    "from tensorflow.keras.datasets import mnist\n",
    "\n",
    "np.random.seed(20190228)\n",
    "#--- For TensorFlow 1.x, use the following line, but if you use TensorFlow2.x, you need to comment it out.\n",
    "tf.random.set_random_seed(20190228)\n",
    "#--- For TensorFlow 2.x, use following line, instead of upper line.\n",
    "###tf.random.set_seed(20190228)"
   ]
  },
  {
   "cell_type": "markdown",
   "metadata": {
    "colab_type": "text",
    "id": "yz2h7_8St1wi"
   },
   "source": [
    "####[MST-02]\n",
    "Download the MNIST dataset and store into NumPy arrays."
   ]
  },
  {
   "cell_type": "code",
   "execution_count": 3,
   "metadata": {
    "colab": {
     "base_uri": "https://localhost:8080/",
     "height": 51
    },
    "colab_type": "code",
    "id": "ASgzWK5AjWvn",
    "outputId": "731a32ca-6473-45ee-8892-d169be497d42"
   },
   "outputs": [],
   "source": [
    "(train_images, train_labels), (test_images, test_labels) = mnist.load_data()\n",
    "train_images = train_images.reshape(\n",
    "                  (len(train_images), 784)).astype('float32') / 255\n",
    "test_images = test_images.reshape(\n",
    "                  (len(test_images), 784)).astype('float32') / 255\n",
    "train_labels = tf.keras.utils.to_categorical(train_labels, 10)\n",
    "test_labels = tf.keras.utils.to_categorical(test_labels, 10)"
   ]
  },
  {
   "cell_type": "markdown",
   "metadata": {
    "colab_type": "text",
    "id": "qdQ0Tp2IvFy8"
   },
   "source": [
    "####[MST-03]\n",
    "Define a model with a single hidden layer.<br>\n",
    "*Waring will be occured for some version of TensorFlow as follows;<br>\n",
    "WARNING:tensorflow:From ... "
   ]
  },
  {
   "cell_type": "code",
   "execution_count": 4,
   "metadata": {
    "colab": {
     "base_uri": "https://localhost:8080/",
     "height": 221
    },
    "colab_type": "code",
    "id": "tpL_niBTXggS",
    "outputId": "b8a2935e-4c1c-4f13-a626-f0f23a1cf94d"
   },
   "outputs": [
    {
     "name": "stdout",
     "output_type": "stream",
     "text": [
      "WARNING:tensorflow:From C:\\XXXX\\Anaconda3\\envs\\dpl36\\lib\\site-packages\\tensorflow_core\\python\\keras\\initializers.py:94: calling TruncatedNormal.__init__ (from tensorflow.python.ops.init_ops) with dtype is deprecated and will be removed in a future version.\n",
      "Instructions for updating:\n",
      "Call initializer instance with the dtype argument instead of passing it to the constructor\n",
      "WARNING:tensorflow:From C:\\XXXX\\Anaconda3\\envs\\dpl36\\lib\\site-packages\\tensorflow_core\\python\\ops\\resource_variable_ops.py:1630: calling BaseResourceVariable.__init__ (from tensorflow.python.ops.resource_variable_ops) with constraint is deprecated and will be removed in a future version.\n",
      "Instructions for updating:\n",
      "If using Keras pass *_constraint arguments to layers.\n",
      "Model: \"sequential\"\n",
      "_________________________________________________________________\n",
      "Layer (type)                 Output Shape              Param #   \n",
      "=================================================================\n",
      "hidden (Dense)               (None, 1024)              803840    \n",
      "_________________________________________________________________\n",
      "softmax (Dense)              (None, 10)                10250     \n",
      "=================================================================\n",
      "Total params: 814,090\n",
      "Trainable params: 814,090\n",
      "Non-trainable params: 0\n",
      "_________________________________________________________________\n"
     ]
    }
   ],
   "source": [
    "model = models.Sequential()\n",
    "model.add(layers.Dense(1024, activation='relu', input_shape=(28*28,),\n",
    "                       kernel_initializer=initializers.TruncatedNormal(),\n",
    "                       name='hidden'))\n",
    "model.add(layers.Dense(10, activation='softmax', name='softmax'))\n",
    "\n",
    "model.summary()"
   ]
  },
  {
   "cell_type": "markdown",
   "metadata": {
    "colab_type": "text",
    "id": "fBltXsSRvZn0"
   },
   "source": [
    "####[MST-04]\n",
    "Compile the model using the Adam optimizer, and Cross entroy as a loss function."
   ]
  },
  {
   "cell_type": "code",
   "execution_count": 5,
   "metadata": {
    "colab": {},
    "colab_type": "code",
    "id": "BakcuKxdQoSL"
   },
   "outputs": [],
   "source": [
    "model.compile(optimizer='adam', \n",
    "              loss='categorical_crossentropy',\n",
    "              metrics=['acc'])"
   ]
  },
  {
   "cell_type": "markdown",
   "metadata": {},
   "source": [
    "####[For local (off-line), windows system only!!]<br>\n",
    "Check the contents of /tmp/log directory<br>\n",
    "If you have important contents in /tmp/log directory, please move them to other directory."
   ]
  },
  {
   "cell_type": "code",
   "execution_count": 6,
   "metadata": {},
   "outputs": [
    {
     "name": "stdout",
     "output_type": "stream",
     "text": [
      "フォルダー パスの一覧:  ボリューム XX\n",
      "ボリューム シリアル番号は xxxx-xxxx です\n",
      "C:\\TMP\\LOG\n",
      "|   events.out.tfevents.1580845193.xxxxxxxx\n",
      "|   events.out.tfevents.1580845193.xxxxxxxx.profile-empty\n",
      "|   \n",
      "\\---plugins\n",
      "    \\---profile\n",
      "        \\---2020-02-05_04-39-53\n",
      "                local.trace\n",
      "                \n"
     ]
    }
   ],
   "source": [
    "!tree /A /F \\tmp\\log"
   ]
  },
  {
   "cell_type": "markdown",
   "metadata": {
    "colab_type": "text",
    "id": "fdIktV-vFDof"
   },
   "source": [
    "####[MST-05]\n",
    "Train the model with the callbacks option to store training logs."
   ]
  },
  {
   "cell_type": "code",
   "execution_count": 7,
   "metadata": {
    "colab": {
     "base_uri": "https://localhost:8080/",
     "height": 394
    },
    "colab_type": "code",
    "id": "LlQCTsKKXkr5",
    "outputId": "3f73a96c-0b7a-4d0b-ef7c-3407b4ea85f0"
   },
   "outputs": [
    {
     "name": "stdout",
     "output_type": "stream",
     "text": [
      "Train on 60000 samples, validate on 10000 samples\n",
      "Epoch 1/10\n",
      "60000/60000 [==============================] - 14s 234us/sample - loss: 0.2344 - acc: 0.9323 - val_loss: 0.1186 - val_acc: 0.9637\n",
      "Epoch 2/10\n",
      "60000/60000 [==============================] - 13s 210us/sample - loss: 0.0914 - acc: 0.9736 - val_loss: 0.0814 - val_acc: 0.9764\n",
      "Epoch 3/10\n",
      "60000/60000 [==============================] - 15s 248us/sample - loss: 0.0564 - acc: 0.9837 - val_loss: 0.0700 - val_acc: 0.9793\n",
      "Epoch 4/10\n",
      "60000/60000 [==============================] - 15s 248us/sample - loss: 0.0378 - acc: 0.9887 - val_loss: 0.0694 - val_acc: 0.9796\n",
      "Epoch 5/10\n",
      "60000/60000 [==============================] - 15s 255us/sample - loss: 0.0273 - acc: 0.9921 - val_loss: 0.0694 - val_acc: 0.9798\n",
      "Epoch 6/10\n",
      "60000/60000 [==============================] - 15s 246us/sample - loss: 0.0189 - acc: 0.9947 - val_loss: 0.0610 - val_acc: 0.9812\n",
      "Epoch 7/10\n",
      "60000/60000 [==============================] - 16s 263us/sample - loss: 0.0135 - acc: 0.9964 - val_loss: 0.0636 - val_acc: 0.9826\n",
      "Epoch 8/10\n",
      "60000/60000 [==============================] - 16s 260us/sample - loss: 0.0109 - acc: 0.9973 - val_loss: 0.0677 - val_acc: 0.9809\n",
      "Epoch 9/10\n",
      "60000/60000 [==============================] - 14s 240us/sample - loss: 0.0092 - acc: 0.9977 - val_loss: 0.0667 - val_acc: 0.9817\n",
      "Epoch 10/10\n",
      "60000/60000 [==============================] - 15s 247us/sample - loss: 0.0067 - acc: 0.9982 - val_loss: 0.0731 - val_acc: 0.9806: 0s - loss: 0.0\n"
     ]
    }
   ],
   "source": [
    "# For online-colaboratory system, remove \"###\" from the top of following line.\n",
    "###log_dir = '/tmp/log'\n",
    "# For online-colaboratory system, add \"###\" to the top of following line. \n",
    "log_dir = '\\\\tmp\\\\log'\n",
    "shutil.rmtree(log_dir, ignore_errors=True)\n",
    "\n",
    "tensorboard_callback = callbacks.TensorBoard(log_dir=log_dir,\n",
    "                                             histogram_freq=1)\n",
    "history = model.fit(train_images, train_labels,\n",
    "                    validation_data=(test_images, test_labels),\n",
    "                    batch_size=128, epochs=10,\n",
    "                    callbacks=[tensorboard_callback])"
   ]
  },
  {
   "cell_type": "markdown",
   "metadata": {
    "colab_type": "text",
    "id": "MpSePiAysZHn"
   },
   "source": [
    "####[MST-06]\n",
    "Install ngrok to run TensorBoard on Colaboratory.<br>\n",
    "*For online-colaboratory system, remove \"###\" from the top of following line."
   ]
  },
  {
   "cell_type": "code",
   "execution_count": 8,
   "metadata": {
    "colab": {
     "base_uri": "https://localhost:8080/",
     "height": 102
    },
    "colab_type": "code",
    "id": "BqHkMyJHYFTb",
    "outputId": "9315cbea-e638-4e72-c27d-0aed3125a047"
   },
   "outputs": [],
   "source": [
    "###!curl -OL https://bin.equinox.io/c/4VmDzA7iaHb/ngrok-stable-linux-amd64.zip\n",
    "###!unzip -o ngrok-stable-linux-amd64.zip"
   ]
  },
  {
   "cell_type": "markdown",
   "metadata": {
    "colab_type": "text",
    "id": "VCHxA0sKahqD"
   },
   "source": [
    "####[MST-07]\n",
    "Start TensorBoard and prepare the connection URL.<br>\n",
    "*For online-colaboratory system, remove \"###\" from the top of following line."
   ]
  },
  {
   "cell_type": "code",
   "execution_count": 9,
   "metadata": {
    "colab": {
     "base_uri": "https://localhost:8080/",
     "height": 34
    },
    "colab_type": "code",
    "id": "o3oGrHRwWz58",
    "outputId": "ab8e9292-9e8a-48b9-daca-718c1c886c84"
   },
   "outputs": [],
   "source": [
    "###get_ipython().system_raw(\n",
    "###    'tensorboard --logdir {} --host 0.0.0.0 --port 6006 &'\n",
    "###    .format(log_dir)\n",
    "###)\n",
    "###get_ipython().system_raw('./ngrok http 6006 &')\n",
    "###!curl -s http://localhost:4040/api/tunnels | python3 -c \\\n",
    "###    \"import sys, json; print(json.load(sys.stdin)['tunnels'][0]['public_url'])\""
   ]
  },
  {
   "cell_type": "markdown",
   "metadata": {},
   "source": [
    "For windows10, open the terminal window by Jupyter's \"new->terminal\".<br>\n",
    "![Jupyter-open-new-Terminal.png](https://raw.githubusercontent.com/aujinen/colab_tfbook/master/docs/imgs/Jupyter-open-new-Terminal.png)\n",
    "\n",
    "And following command execute on the shell(terminal) window.\n",
    "\n",
    "> tensorboard --logdir \"\\tmp\\log\"\n",
    "\n",
    "![open-TensorBoard-with-Shell.png](https://raw.githubusercontent.com/aujinen/colab_tfbook/master/docs/imgs/open-TensorBoard-with-Shell.png)"
   ]
  },
  {
   "cell_type": "markdown",
   "metadata": {},
   "source": [
    "Then, open follow URL.\n",
    "\n",
    "http://localhost:6006/\n",
    "<br><br>\n",
    "or displayed URL shown in avobe shell(terminal) window."
   ]
  },
  {
   "cell_type": "code",
   "execution_count": null,
   "metadata": {},
   "outputs": [],
   "source": []
  }
 ],
 "metadata": {
  "accelerator": "GPU",
  "colab": {
   "collapsed_sections": [],
   "name": "3. MNIST single layer network with TensorBoard.ipynb",
   "provenance": [],
   "version": "0.3.2"
  },
  "kernelspec": {
   "display_name": "Python 3",
   "language": "python",
   "name": "python3"
  },
  "language_info": {
   "codemirror_mode": {
    "name": "ipython",
    "version": 3
   },
   "file_extension": ".py",
   "mimetype": "text/x-python",
   "name": "python",
   "nbconvert_exporter": "python",
   "pygments_lexer": "ipython3",
   "version": "3.6.10"
  }
 },
 "nbformat": 4,
 "nbformat_minor": 1
}
