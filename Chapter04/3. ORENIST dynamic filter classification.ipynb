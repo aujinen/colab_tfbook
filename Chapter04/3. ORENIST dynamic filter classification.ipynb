{
 "cells": [
  {
   "cell_type": "markdown",
   "metadata": {
    "colab_type": "text",
    "id": "02bY_iJhZirY"
   },
   "source": [
    "# ORENIST Dynamic Filter Classification"
   ]
  },
  {
   "cell_type": "markdown",
   "metadata": {
    "colab_type": "text",
    "id": "tpj9WxP5Zv9p"
   },
   "source": [
    "Note: This notebook is desinged to run with Python3 and CPU (no GPU) runtime.<br>\n",
    "\n",
    "Modified for local (off-line) mode with Python 3.x, TensorFlow 1.x (or 2.x), with or without GPU<br>\n",
    "2020/02/04: By H.Nishiyama<br>"
   ]
  },
  {
   "cell_type": "markdown",
   "metadata": {
    "colab_type": "text",
    "id": "-xkr13nCB0Il"
   },
   "source": [
    "This notebook rewrite for local (off-line) TensorFlow 1.x (or 2.x).<br>\n",
    "*If you use on online-colaboratory system, remove \"###\" from the top of lines in code cells. <br>\n",
    "Original notebook uses TensorFlow 2.x."
   ]
  },
  {
   "cell_type": "code",
   "execution_count": 1,
   "metadata": {
    "colab": {
     "base_uri": "https://localhost:8080/",
     "height": 34
    },
    "colab_type": "code",
    "id": "kop8_9RihcJX",
    "outputId": "49523249-adc5-4a63-e95a-1b72e7326888"
   },
   "outputs": [],
   "source": [
    "###%tensorflow_version 2.x"
   ]
  },
  {
   "cell_type": "markdown",
   "metadata": {
    "colab_type": "text",
    "id": "VJO3PPzqsq8d"
   },
   "source": [
    "####[ODF-01]\n",
    "Import modules and set a random seed."
   ]
  },
  {
   "cell_type": "code",
   "execution_count": 2,
   "metadata": {
    "colab": {},
    "colab_type": "code",
    "id": "gB5UUoAXIVmC"
   },
   "outputs": [],
   "source": [
    "import numpy as np\n",
    "import matplotlib.pyplot as plt\n",
    "from pandas import DataFrame\n",
    "import pickle\n",
    "\n",
    "import tensorflow as tf\n",
    "from tensorflow.keras import layers, models, initializers\n",
    "\n",
    "np.random.seed(20190225)\n",
    "\n",
    "#--- For TensorFlow 1.x, use the following line, but if you use TensorFlow2.x, you need to comment it out..\n",
    "tf.random.set_random_seed(20190225)\n",
    "#--- For TensorFlow 2.x, use following line, instead of upper line.\n",
    "###tf.random.set_seed(20190225)"
   ]
  },
  {
   "cell_type": "markdown",
   "metadata": {
    "colab_type": "text",
    "id": "yz2h7_8St1wi"
   },
   "source": [
    "####[ODF-02]\n",
    "Download the ORENIST dataset and store into NumPy arrays."
   ]
  },
  {
   "cell_type": "code",
   "execution_count": 3,
   "metadata": {
    "colab": {
     "base_uri": "https://localhost:8080/",
     "height": 85
    },
    "colab_type": "code",
    "id": "ASgzWK5AjWvn",
    "outputId": "793bd1ea-6f69-4931-855c-f7536fd4fb13"
   },
   "outputs": [],
   "source": [
    "###!curl -LO https://github.com/enakai00/colab_tfbook/raw/master/Chapter04/ORENIST.data\n",
    "with open('ORENIST.data', 'rb') as file:\n",
    "    images, labels = pickle.load(file)"
   ]
  },
  {
   "cell_type": "markdown",
   "metadata": {
    "colab_type": "text",
    "id": "fBltXsSRvZn0"
   },
   "source": [
    "####[ODF-03]\n",
    "Define a model to classify the ORENIST dataset with the convolutional filters. \n",
    "\n",
    "The ouputs from filters are converted to a single pixel image with the pooling layer."
   ]
  },
  {
   "cell_type": "code",
   "execution_count": 4,
   "metadata": {
    "colab": {
     "base_uri": "https://localhost:8080/",
     "height": 357
    },
    "colab_type": "code",
    "id": "TZw9C2dLkSvG",
    "outputId": "0470d890-fe60-4685-f607-c24e8224ba7e"
   },
   "outputs": [
    {
     "name": "stdout",
     "output_type": "stream",
     "text": [
      "WARNING:tensorflow:From C:\\Users\\nisiy\\Anaconda3\\envs\\dpl36\\lib\\site-packages\\tensorflow_core\\python\\keras\\initializers.py:94: calling TruncatedNormal.__init__ (from tensorflow.python.ops.init_ops) with dtype is deprecated and will be removed in a future version.\n",
      "Instructions for updating:\n",
      "Call initializer instance with the dtype argument instead of passing it to the constructor\n",
      "WARNING:tensorflow:From C:\\Users\\nisiy\\Anaconda3\\envs\\dpl36\\lib\\site-packages\\tensorflow_core\\python\\ops\\resource_variable_ops.py:1630: calling BaseResourceVariable.__init__ (from tensorflow.python.ops.resource_variable_ops) with constraint is deprecated and will be removed in a future version.\n",
      "Instructions for updating:\n",
      "If using Keras pass *_constraint arguments to layers.\n",
      "Model: \"sequential\"\n",
      "_________________________________________________________________\n",
      "Layer (type)                 Output Shape              Param #   \n",
      "=================================================================\n",
      "reshape (Reshape)            (None, 28, 28, 1)         0         \n",
      "_________________________________________________________________\n",
      "conv_filter (Conv2D)         (None, 28, 28, 2)         50        \n",
      "_________________________________________________________________\n",
      "abs (Lambda)                 (None, 28, 28, 2)         0         \n",
      "_________________________________________________________________\n",
      "max_pooling (MaxPooling2D)   (None, 1, 1, 2)           0         \n",
      "_________________________________________________________________\n",
      "flatten (Flatten)            (None, 2)                 0         \n",
      "_________________________________________________________________\n",
      "softmax (Dense)              (None, 3)                 9         \n",
      "=================================================================\n",
      "Total params: 59\n",
      "Trainable params: 59\n",
      "Non-trainable params: 0\n",
      "_________________________________________________________________\n"
     ]
    }
   ],
   "source": [
    "model = models.Sequential()\n",
    "model.add(layers.Reshape((28, 28, 1), input_shape=(28*28,), name='reshape'))\n",
    "model.add(layers.Conv2D(2, (5, 5), padding='same',\n",
    "                        kernel_initializer=initializers.TruncatedNormal(),\n",
    "                        use_bias=False, name='conv_filter'))\n",
    "model.add(layers.Lambda(lambda x: abs(x), name='abs'))\n",
    "model.add(layers.MaxPooling2D((28, 28), name='max_pooling'))\n",
    "model.add(layers.Flatten(name='flatten'))\n",
    "model.add(layers.Dense(3, activation='softmax', name='softmax'))\n",
    "\n",
    "model.summary()"
   ]
  },
  {
   "cell_type": "markdown",
   "metadata": {
    "colab_type": "text",
    "id": "o2LGyOmvakI5"
   },
   "source": [
    "####[ODF-04]\n",
    "Compile the model using the Adam optimizer, and Cross entroy as a loss function."
   ]
  },
  {
   "cell_type": "code",
   "execution_count": 5,
   "metadata": {
    "colab": {},
    "colab_type": "code",
    "id": "YodHmwNEnWjz"
   },
   "outputs": [],
   "source": [
    "model.compile(optimizer='adam', \n",
    "              loss='categorical_crossentropy',\n",
    "              metrics=['acc'])"
   ]
  },
  {
   "cell_type": "markdown",
   "metadata": {
    "colab_type": "text",
    "id": "hmkXxrcKaoGo"
   },
   "source": [
    "####[ODF-05]\n",
    "Train the model."
   ]
  },
  {
   "cell_type": "code",
   "execution_count": 6,
   "metadata": {
    "colab": {},
    "colab_type": "code",
    "id": "Bp6hT6n4nobF"
   },
   "outputs": [],
   "source": [
    "history = model.fit(images, labels,\n",
    "                    batch_size=len(images), epochs=2000, verbose=0)"
   ]
  },
  {
   "cell_type": "markdown",
   "metadata": {
    "colab_type": "text",
    "id": "0hJvLUbTaukP"
   },
   "source": [
    "####[ODF-06]\n",
    "Plot charts to see the accuracy and loss values. It achieves the 100% accuracy."
   ]
  },
  {
   "cell_type": "code",
   "execution_count": 7,
   "metadata": {
    "colab": {
     "base_uri": "https://localhost:8080/",
     "height": 538
    },
    "colab_type": "code",
    "id": "WVIdMBfb16-e",
    "outputId": "2122191a-877c-4af1-95be-85795f091455"
   },
   "outputs": [
    {
     "data": {
      "text/plain": [
       "<matplotlib.axes._subplots.AxesSubplot at 0x190ef8f1358>"
      ]
     },
     "execution_count": 7,
     "metadata": {},
     "output_type": "execute_result"
    },
    {
     "data": {
      "image/png": "[encoded data removed]",
      "text/plain": [
       "<Figure size 432x288 with 1 Axes>"
      ]
     },
     "metadata": {
      "needs_background": "light"
     },
     "output_type": "display_data"
    },
    {
     "data": {
      "image/png": "[encoded data removed]",
      "text/plain": [
       "<Figure size 432x288 with 1 Axes>"
      ]
     },
     "metadata": {
      "needs_background": "light"
     },
     "output_type": "display_data"
    }
   ],
   "source": [
    "DataFrame({'acc': history.history['acc']}).plot()\n",
    "DataFrame({'loss': history.history['loss']}).plot()"
   ]
  },
  {
   "cell_type": "markdown",
   "metadata": {
    "colab_type": "text",
    "id": "FyatXZXkbBnv"
   },
   "source": [
    "####[ODF-07]\n",
    "Define a model to extract outputs from intermediate layers."
   ]
  },
  {
   "cell_type": "code",
   "execution_count": 8,
   "metadata": {
    "colab": {},
    "colab_type": "code",
    "id": "Wrq-1Qk4_cj9"
   },
   "outputs": [],
   "source": [
    "layer_outputs = [model.get_layer('abs').output,\n",
    "                 model.get_layer('max_pooling').output]\n",
    "model2 = models.Model(inputs=model.input, outputs=layer_outputs)"
   ]
  },
  {
   "cell_type": "markdown",
   "metadata": {
    "colab_type": "text",
    "id": "5YbCTY4nbKOu"
   },
   "source": [
    "####[ODF-08]\n",
    "Apply the trained filters to the ORENST dataset."
   ]
  },
  {
   "cell_type": "code",
   "execution_count": 9,
   "metadata": {
    "colab": {},
    "colab_type": "code",
    "id": "kneFxMS1_Qxd"
   },
   "outputs": [],
   "source": [
    "conv_output, pool_output = model2.predict(images[:9])\n",
    "filter_vals = model.get_layer('conv_filter').get_weights()[0]"
   ]
  },
  {
   "cell_type": "markdown",
   "metadata": {
    "colab_type": "text",
    "id": "OURhy38_bsVz"
   },
   "source": [
    "####[ODF-09]\n",
    "Show images after applying the convolutional filters."
   ]
  },
  {
   "cell_type": "code",
   "execution_count": 10,
   "metadata": {
    "colab": {
     "base_uri": "https://localhost:8080/",
     "height": 213
    },
    "colab_type": "code",
    "id": "GTqAAbecDxu8",
    "outputId": "8f0c2be4-c78d-4464-fa5e-1caa21bb186f"
   },
   "outputs": [
    {
     "data": {
      "image/png": "[encoded data removed]",
      "text/plain": [
       "<Figure size 720x216 with 29 Axes>"
      ]
     },
     "metadata": {},
     "output_type": "display_data"
    }
   ],
   "source": [
    "fig = plt.figure(figsize=(10, 3))\n",
    "v_max = np.max(conv_output)\n",
    "\n",
    "for i in range(2):\n",
    "    subplot = fig.add_subplot(3, 10, 10*(i+1)+1)\n",
    "    subplot.set_xticks([])\n",
    "    subplot.set_yticks([])\n",
    "    subplot.imshow(filter_vals[:, :, 0, i], cmap=plt.cm.gray_r)\n",
    "\n",
    "for i in range(9):\n",
    "    subplot = fig.add_subplot(3, 10, i+2)\n",
    "    subplot.set_xticks([])\n",
    "    subplot.set_yticks([])\n",
    "    subplot.set_title('%d' % np.argmax(labels[i]))\n",
    "    subplot.imshow(images[i].reshape((28, 28)),\n",
    "                   vmin=0, vmax=1, cmap=plt.cm.gray_r)\n",
    "    \n",
    "    subplot = fig.add_subplot(3, 10, 10+i+2)\n",
    "    subplot.set_xticks([])\n",
    "    subplot.set_yticks([])\n",
    "    subplot.imshow(conv_output[i,:,:,0],\n",
    "                   vmin=0, vmax=v_max, cmap=plt.cm.gray_r)\n",
    "    \n",
    "    subplot = fig.add_subplot(3, 10, 20+i+2)\n",
    "    subplot.set_xticks([])\n",
    "    subplot.set_yticks([])\n",
    "    subplot.imshow(conv_output[i,:,:,1],\n",
    "                   vmin=0, vmax=v_max, cmap=plt.cm.gray_r)"
   ]
  },
  {
   "cell_type": "markdown",
   "metadata": {
    "colab_type": "text",
    "id": "h8uoriXXbvoY"
   },
   "source": [
    "####[ODF-10]\n",
    "Show images after applying the pooling layer."
   ]
  },
  {
   "cell_type": "code",
   "execution_count": 11,
   "metadata": {
    "colab": {
     "base_uri": "https://localhost:8080/",
     "height": 213
    },
    "colab_type": "code",
    "id": "mrMM5BhB_Yt7",
    "outputId": "765b3824-173a-4a0b-f810-060e90fb209a"
   },
   "outputs": [
    {
     "data": {
      "image/png": "[encoded data removed]",
      "text/plain": [
       "<Figure size 720x216 with 29 Axes>"
      ]
     },
     "metadata": {},
     "output_type": "display_data"
    }
   ],
   "source": [
    "fig = plt.figure(figsize=(10, 3))\n",
    "v_max = np.max(pool_output)\n",
    "\n",
    "\n",
    "for i in range(2):\n",
    "    subplot = fig.add_subplot(3, 10, 10*(i+1)+1)\n",
    "    subplot.set_xticks([])\n",
    "    subplot.set_yticks([])\n",
    "    subplot.imshow(filter_vals[:, :, 0, i], cmap=plt.cm.gray_r)\n",
    "\n",
    "for i in range(9):\n",
    "    subplot = fig.add_subplot(3, 10, i+2)\n",
    "    subplot.set_xticks([])\n",
    "    subplot.set_yticks([])\n",
    "    subplot.set_title('%d' % np.argmax(labels[i]))\n",
    "    subplot.imshow(images[i].reshape((28, 28)),\n",
    "                   vmin=0, vmax=1, cmap=plt.cm.gray_r)\n",
    "    \n",
    "    subplot = fig.add_subplot(3, 10, 10+i+2)\n",
    "    subplot.set_xticks([])\n",
    "    subplot.set_yticks([])\n",
    "    subplot.imshow(pool_output[i, :, :, 0],\n",
    "                   vmin=0, vmax=v_max, cmap=plt.cm.gray_r)\n",
    "    \n",
    "    subplot = fig.add_subplot(3, 10, 20+i+2)\n",
    "    subplot.set_xticks([])\n",
    "    subplot.set_yticks([])\n",
    "    subplot.imshow(pool_output[i, :, :, 1],\n",
    "                   vmin=0, vmax=v_max, cmap=plt.cm.gray_r)"
   ]
  },
  {
   "cell_type": "markdown",
   "metadata": {
    "colab_type": "text",
    "id": "uF-l0s5VbzdZ"
   },
   "source": [
    "####[ODF-11]\n",
    "Convert outputs from the pooling layer into binary values with a threshold about 7.0.<br>\n",
    "*If the result is not good, try changing the threshold.\n"
   ]
  },
  {
   "cell_type": "code",
   "execution_count": 13,
   "metadata": {
    "colab": {
     "base_uri": "https://localhost:8080/",
     "height": 213
    },
    "colab_type": "code",
    "id": "6-zDwcfRM4aj",
    "outputId": "dc1f6563-26bb-454e-e212-95fef6376a29"
   },
   "outputs": [
    {
     "data": {
      "image/png": "[encoded data removed]",
      "text/plain": [
       "<Figure size 720x216 with 29 Axes>"
      ]
     },
     "metadata": {},
     "output_type": "display_data"
    }
   ],
   "source": [
    "fig = plt.figure(figsize=(10, 3))\n",
    "\n",
    "threshold = 6.0\n",
    "bin_index = np.sign(pool_output - threshold)\n",
    "#--- If the result is not good, try changing the above threshold to 6.0 etc.\n",
    "\n",
    "for i in range(2):\n",
    "    subplot = fig.add_subplot(3, 10, 10*(i+1)+1)\n",
    "    subplot.set_xticks([])\n",
    "    subplot.set_yticks([])\n",
    "    subplot.imshow(filter_vals[:, :, 0, i], cmap=plt.cm.gray_r)\n",
    "\n",
    "for i in range(9):\n",
    "    subplot = fig.add_subplot(3, 10, i+2)\n",
    "    subplot.set_xticks([])\n",
    "    subplot.set_yticks([])\n",
    "    subplot.set_title('%d' % np.argmax(labels[i]))\n",
    "    subplot.imshow(images[i].reshape((28, 28)),\n",
    "                   vmin=0, vmax=1, cmap=plt.cm.gray_r)\n",
    "    \n",
    "    subplot = fig.add_subplot(3, 10, 10+i+2)\n",
    "    subplot.set_xticks([])\n",
    "    subplot.set_yticks([])\n",
    "    subplot.imshow(bin_index[i, :, :, 0],\n",
    "                   vmin=-1, vmax=1, cmap=plt.cm.gray_r)\n",
    "    \n",
    "    subplot = fig.add_subplot(3, 10, 20+i+2)\n",
    "    subplot.set_xticks([])\n",
    "    subplot.set_yticks([])\n",
    "    subplot.imshow(bin_index[i, :, :, 1],\n",
    "                   vmin=-1, vmax=1, cmap=plt.cm.gray_r)"
   ]
  },
  {
   "cell_type": "code",
   "execution_count": null,
   "metadata": {},
   "outputs": [],
   "source": []
  }
 ],
 "metadata": {
  "accelerator": "GPU",
  "colab": {
   "collapsed_sections": [],
   "name": "3. ORENIST dynamic filter classification.ipynb",
   "provenance": [],
   "version": "0.3.2"
  },
  "kernelspec": {
   "display_name": "Python 3",
   "language": "python",
   "name": "python3"
  },
  "language_info": {
   "codemirror_mode": {
    "name": "ipython",
    "version": 3
   },
   "file_extension": ".py",
   "mimetype": "text/x-python",
   "name": "python",
   "nbconvert_exporter": "python",
   "pygments_lexer": "ipython3",
   "version": "3.6.10"
  }
 },
 "nbformat": 4,
 "nbformat_minor": 1
}
