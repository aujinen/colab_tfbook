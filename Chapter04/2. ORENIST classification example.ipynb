{
 "cells": [
  {
   "cell_type": "markdown",
   "metadata": {
    "colab_type": "text",
    "id": "lgnUDSqATi8P"
   },
   "source": [
    "# ORENIST Classification Example"
   ]
  },
  {
   "cell_type": "markdown",
   "metadata": {
    "colab_type": "text",
    "id": "BZiZZeljTnvv"
   },
   "source": [
    "Note: This notebook is desinged to run with Python3 and CPU (no GPU) runtime.<br>\n",
    "\n",
    "Modified for local (off-line) mode with Python 3.x, TensorFlow 1.x (or 2.x), with or without GPU<br>\n",
    "2020/02/04: By H.Nishiyama<br>"
   ]
  },
  {
   "cell_type": "markdown",
   "metadata": {
    "colab_type": "text",
    "id": "-xkr13nCB0Il"
   },
   "source": [
    "This notebook rewrite for local (off-line) TensorFlow 1.x (or 2.x).<br>\n",
    "*If you use on online-colaboratory system, remove \"###\" from the top of lines in code cells. <br>\n",
    "Original notebook uses TensorFlow 2.x."
   ]
  },
  {
   "cell_type": "code",
   "execution_count": 1,
   "metadata": {
    "colab": {
     "base_uri": "https://localhost:8080/",
     "height": 34
    },
    "colab_type": "code",
    "id": "kop8_9RihcJX",
    "outputId": "dc26307c-644d-4889-a34c-9e0c48ce8360"
   },
   "outputs": [],
   "source": [
    "###%tensorflow_version 2.x"
   ]
  },
  {
   "cell_type": "markdown",
   "metadata": {
    "colab_type": "text",
    "id": "VJO3PPzqsq8d"
   },
   "source": [
    "####[OCE-01]\n",
    "Import modules and set random seeds."
   ]
  },
  {
   "cell_type": "code",
   "execution_count": 2,
   "metadata": {
    "colab": {},
    "colab_type": "code",
    "id": "gB5UUoAXIVmC"
   },
   "outputs": [],
   "source": [
    "import numpy as np\n",
    "import matplotlib.pyplot as plt\n",
    "from pandas import DataFrame\n",
    "import pickle\n",
    "\n",
    "import tensorflow as tf\n",
    "from tensorflow.keras import layers, models\n",
    "\n",
    "np.random.seed(20190823)\n",
    "\n",
    "#--- For TensorFlow 1.x, use the following line, but if you use TensorFlow2.x, you need to comment it out..\n",
    "tf.random.set_random_seed(20190823)\n",
    "#--- For TensorFlow 2.x, use following line, instead of upper line.\n",
    "###tf.random.set_seed(20190823)"
   ]
  },
  {
   "cell_type": "markdown",
   "metadata": {
    "colab_type": "text",
    "id": "yz2h7_8St1wi"
   },
   "source": [
    "####[OCE-02]\n",
    "Download the ORENIST dataset and store into NumPy arrays."
   ]
  },
  {
   "cell_type": "code",
   "execution_count": 3,
   "metadata": {
    "colab": {
     "base_uri": "https://localhost:8080/",
     "height": 85
    },
    "colab_type": "code",
    "id": "ASgzWK5AjWvn",
    "outputId": "d95deeb0-01a2-43b1-ba78-d5dba5664ee1"
   },
   "outputs": [],
   "source": [
    "###!curl -LO https://github.com/enakai00/colab_tfbook/raw/master/Chapter04/ORENIST.data\n",
    "with open('ORENIST.data', 'rb') as file:\n",
    "    images, labels = pickle.load(file)"
   ]
  },
  {
   "cell_type": "markdown",
   "metadata": {
    "colab_type": "text",
    "id": "fBltXsSRvZn0"
   },
   "source": [
    "####[OCE-03]\n",
    "Define fixed convolutional filters to extract vertical and horizontal edges."
   ]
  },
  {
   "cell_type": "code",
   "execution_count": 4,
   "metadata": {
    "colab": {},
    "colab_type": "code",
    "id": "BakcuKxdQoSL"
   },
   "outputs": [],
   "source": [
    "def edge_filter(shape=None, dtype=None):\n",
    "    filter0 = np.array(\n",
    "            [[ 2, 1, 0,-1,-2],\n",
    "             [ 3, 2, 0,-2,-3],\n",
    "             [ 4, 3, 0,-3,-4],\n",
    "             [ 3, 2, 0,-2,-3],\n",
    "             [ 2, 1, 0,-1,-2]]) / 23.0\n",
    "    filter1 = np.array(\n",
    "            [[ 2, 3, 4, 3, 2],\n",
    "             [ 1, 2, 3, 2, 1],\n",
    "             [ 0, 0, 0, 0, 0],\n",
    "             [-1,-2,-3,-2,-1],\n",
    "             [-2,-3,-4,-3,-2]]) / 23.0\n",
    "    \n",
    "    filter_array = np.zeros([5, 5, 1, 2])\n",
    "    filter_array[:, :, 0, 0] = filter0\n",
    "    filter_array[:, :, 0, 1] = filter1\n",
    "\n",
    "    return filter_array"
   ]
  },
  {
   "cell_type": "markdown",
   "metadata": {
    "colab_type": "text",
    "id": "gBrSbqujUAyW"
   },
   "source": [
    "####[OCE-04]\n",
    "Define a model to classify the ORENIST dataset with the fixed filters."
   ]
  },
  {
   "cell_type": "code",
   "execution_count": 5,
   "metadata": {
    "colab": {
     "base_uri": "https://localhost:8080/",
     "height": 425
    },
    "colab_type": "code",
    "id": "TZw9C2dLkSvG",
    "outputId": "77d40090-1320-46fc-fba4-eaaabd0e70d4"
   },
   "outputs": [
    {
     "name": "stdout",
     "output_type": "stream",
     "text": [
      "WARNING:tensorflow:From C:\\Users\\nisiy\\Anaconda3\\envs\\dpl36\\lib\\site-packages\\tensorflow_core\\python\\ops\\resource_variable_ops.py:1630: calling BaseResourceVariable.__init__ (from tensorflow.python.ops.resource_variable_ops) with constraint is deprecated and will be removed in a future version.\n",
      "Instructions for updating:\n",
      "If using Keras pass *_constraint arguments to layers.\n",
      "Model: \"sequential\"\n",
      "_________________________________________________________________\n",
      "Layer (type)                 Output Shape              Param #   \n",
      "=================================================================\n",
      "reshape (Reshape)            (None, 28, 28, 1)         0         \n",
      "_________________________________________________________________\n",
      "conv_filter (Conv2D)         (None, 28, 28, 2)         50        \n",
      "_________________________________________________________________\n",
      "abs (Lambda)                 (None, 28, 28, 2)         0         \n",
      "_________________________________________________________________\n",
      "cut_off (Lambda)             (None, 28, 28, 2)         0         \n",
      "_________________________________________________________________\n",
      "max_pooling (MaxPooling2D)   (None, 14, 14, 2)         0         \n",
      "_________________________________________________________________\n",
      "flatten (Flatten)            (None, 392)               0         \n",
      "_________________________________________________________________\n",
      "hidden (Dense)               (None, 2)                 786       \n",
      "_________________________________________________________________\n",
      "softmax (Dense)              (None, 3)                 9         \n",
      "=================================================================\n",
      "Total params: 845\n",
      "Trainable params: 795\n",
      "Non-trainable params: 50\n",
      "_________________________________________________________________\n"
     ]
    }
   ],
   "source": [
    "model = models.Sequential()\n",
    "model.add(layers.Reshape((28, 28, 1), input_shape=(28*28,), name='reshape'))\n",
    "model.add(layers.Conv2D(2, (5, 5), padding='same',\n",
    "                        kernel_initializer=edge_filter,\n",
    "                        use_bias=False, trainable=False,\n",
    "                        name='conv_filter'))\n",
    "model.add(layers.Lambda(lambda x: abs(x), name='abs'))\n",
    "model.add(layers.Lambda(lambda x: tf.keras.backend.relu(x-0.2), name='cut_off'))\n",
    "model.add(layers.MaxPooling2D((2, 2), name='max_pooling'))\n",
    "\n",
    "model.add(layers.Flatten(name='flatten'))\n",
    "model.add(layers.Dense(2, activation='tanh', name='hidden'))\n",
    "model.add(layers.Dense(3, activation='softmax', name='softmax'))\n",
    "                       \n",
    "model.summary()"
   ]
  },
  {
   "cell_type": "markdown",
   "metadata": {
    "colab_type": "text",
    "id": "igebfyeyUwak"
   },
   "source": [
    "####[OCE-05]\n",
    "Compile the model using the Adam optimizer, and Cross entroy as a loss function."
   ]
  },
  {
   "cell_type": "code",
   "execution_count": 6,
   "metadata": {
    "colab": {},
    "colab_type": "code",
    "id": "YodHmwNEnWjz"
   },
   "outputs": [],
   "source": [
    "model.compile(optimizer='adam', \n",
    "              loss='categorical_crossentropy',\n",
    "              metrics=['acc'])"
   ]
  },
  {
   "cell_type": "markdown",
   "metadata": {
    "colab_type": "text",
    "id": "J4iR0mUUU2-u"
   },
   "source": [
    "####[OCE-06]\n",
    "Train the model."
   ]
  },
  {
   "cell_type": "code",
   "execution_count": 7,
   "metadata": {
    "colab": {
     "base_uri": "https://localhost:8080/",
     "height": 105
    },
    "colab_type": "code",
    "id": "Bp6hT6n4nobF",
    "outputId": "ee800763-ba58-4657-d46d-34480d1c7d3f"
   },
   "outputs": [],
   "source": [
    "history = model.fit(images, labels,\n",
    "                    batch_size=len(images), epochs=200, verbose=0)"
   ]
  },
  {
   "cell_type": "markdown",
   "metadata": {
    "colab_type": "text",
    "id": "TyXnWVUWVA98"
   },
   "source": [
    "####[OCE-07]\n",
    "Plot a chart to see the accuracy of the model. It achieves the 100% accuracy."
   ]
  },
  {
   "cell_type": "code",
   "execution_count": 8,
   "metadata": {
    "colab": {
     "base_uri": "https://localhost:8080/",
     "height": 286
    },
    "colab_type": "code",
    "id": "WVIdMBfb16-e",
    "outputId": "fa9e73f1-39a2-4678-e000-f7206bc2f9bb"
   },
   "outputs": [
    {
     "data": {
      "text/plain": [
       "<matplotlib.axes._subplots.AxesSubplot at 0x2a77fee7358>"
      ]
     },
     "execution_count": 8,
     "metadata": {},
     "output_type": "execute_result"
    },
    {
     "data": {
      "image/png": "[encoded data removed]",
      "text/plain": [
       "<Figure size 432x288 with 1 Axes>"
      ]
     },
     "metadata": {
      "needs_background": "light"
     },
     "output_type": "display_data"
    }
   ],
   "source": [
    "DataFrame({'acc': history.history['acc']}).plot()"
   ]
  },
  {
   "cell_type": "markdown",
   "metadata": {
    "colab_type": "text",
    "id": "IkLexxa0VL-O"
   },
   "source": [
    "####[OCE-08]\n",
    "Define a model to extract outputs from the hidden layer."
   ]
  },
  {
   "cell_type": "code",
   "execution_count": 9,
   "metadata": {
    "colab": {},
    "colab_type": "code",
    "id": "Wrq-1Qk4_cj9"
   },
   "outputs": [],
   "source": [
    "layer_outputs = [model.get_layer('hidden').output]\n",
    "model2 = models.Model(inputs=model.input, outputs=layer_outputs)"
   ]
  },
  {
   "cell_type": "markdown",
   "metadata": {
    "colab_type": "text",
    "id": "YWa1XV84Von9"
   },
   "source": [
    "####[OCE-09]\n",
    "Plot a chart to show the values of $(z_1, z_2)$ for each image."
   ]
  },
  {
   "cell_type": "code",
   "execution_count": 10,
   "metadata": {
    "colab": {
     "base_uri": "https://localhost:8080/",
     "height": 449
    },
    "colab_type": "code",
    "id": "kneFxMS1_Qxd",
    "outputId": "63a2525a-7ff7-42bd-c554-d95773392ba0"
   },
   "outputs": [
    {
     "data": {
      "text/plain": [
       "<matplotlib.collections.PathCollection at 0x2a70522d2e8>"
      ]
     },
     "execution_count": 10,
     "metadata": {},
     "output_type": "execute_result"
    },
    {
     "data": {
      "image/png": "[encoded data removed]",
      "text/plain": [
       "<Figure size 504x504 with 1 Axes>"
      ]
     },
     "metadata": {
      "needs_background": "light"
     },
     "output_type": "display_data"
    }
   ],
   "source": [
    "hidden_vals = model2.predict(images)\n",
    "\n",
    "z1_vals = [[],[],[]]\n",
    "z2_vals = [[],[],[]]\n",
    "\n",
    "for hidden_val, label in zip(hidden_vals, labels):\n",
    "    label_num = np.argmax(label)\n",
    "    z1_vals[label_num].append(hidden_val[0])\n",
    "    z2_vals[label_num].append(hidden_val[1])\n",
    "    \n",
    "fig = plt.figure(figsize=(7, 7))\n",
    "subplot = fig.add_subplot(1, 1, 1)\n",
    "subplot.scatter(z1_vals[0], z2_vals[0], s=100, marker='|')\n",
    "subplot.scatter(z1_vals[1], z2_vals[1], s=100, marker='_')\n",
    "subplot.scatter(z1_vals[2], z2_vals[2], s=100, marker='+')"
   ]
  },
  {
   "cell_type": "code",
   "execution_count": null,
   "metadata": {},
   "outputs": [],
   "source": []
  }
 ],
 "metadata": {
  "colab": {
   "collapsed_sections": [],
   "name": "2. ORENIST classification example.ipynb",
   "provenance": [],
   "version": "0.3.2"
  },
  "kernelspec": {
   "display_name": "Python 3",
   "language": "python",
   "name": "python3"
  },
  "language_info": {
   "codemirror_mode": {
    "name": "ipython",
    "version": 3
   },
   "file_extension": ".py",
   "mimetype": "text/x-python",
   "name": "python",
   "nbconvert_exporter": "python",
   "pygments_lexer": "ipython3",
   "version": "3.6.10"
  }
 },
 "nbformat": 4,
 "nbformat_minor": 1
}
