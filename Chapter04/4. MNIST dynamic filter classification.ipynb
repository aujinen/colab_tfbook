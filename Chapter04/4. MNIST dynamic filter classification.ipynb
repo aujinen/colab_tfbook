{
 "cells": [
  {
   "cell_type": "markdown",
   "metadata": {
    "colab_type": "text",
    "id": "oBDR3CvxewJw"
   },
   "source": [
    "# MNIST Dynamic Filter Classification"
   ]
  },
  {
   "cell_type": "markdown",
   "metadata": {
    "colab_type": "text",
    "id": "3K8paN7eevHX"
   },
   "source": [
    "注意：このノートブックはGPUの有無に関わらずPython 3.x および　TensorFlow 2.x（ないしTensorFlow 1.x） にて、オフラインにて稼動するよう変更しています。<br>\n",
    "Google Colab環境にてオンラインで実行する場合、オリジナルサイトのコードを使って下さい。<br>\n",
    "2020/02/04: By H.Nishiyama<br>\n",
    "2021/11/17 追加・変更部分のみ日本語化<br>\n",
    "\n",
    "このノートブックはTensorFlow 2.x (ないし1.x）を使います<br>\n",
    "*もし、オンラインのCloabシステムを使うなら、オリジナルサイトのコードを使うか、セルを指示通りに修正して下さい。<br>\n",
    "【オリジナルサイト】https://github.com/enakai00/colab_tfbook"
   ]
  },
  {
   "cell_type": "code",
   "execution_count": 1,
   "metadata": {
    "colab": {
     "base_uri": "https://localhost:8080/",
     "height": 34
    },
    "colab_type": "code",
    "id": "kop8_9RihcJX",
    "outputId": "ebe840b9-4b99-42ab-fcb5-5647f39f8999"
   },
   "outputs": [],
   "source": [
    "###%tensorflow_version 2.x"
   ]
  },
  {
   "cell_type": "markdown",
   "metadata": {
    "colab_type": "text",
    "id": "VJO3PPzqsq8d"
   },
   "source": [
    "####[MDF-01]\n",
    "Import modules and set random seeds."
   ]
  },
  {
   "cell_type": "code",
   "execution_count": 2,
   "metadata": {
    "colab": {},
    "colab_type": "code",
    "id": "gB5UUoAXIVmC"
   },
   "outputs": [],
   "source": [
    "import numpy as np\n",
    "from pandas import DataFrame\n",
    "\n",
    "import tensorflow as tf\n",
    "from tensorflow.keras import layers, models, initializers\n",
    "from tensorflow.keras.datasets import mnist\n",
    "\n",
    "np.random.seed(20190222)\n",
    "#--- For TensorFlow 1.x, use the following line, but if you use TensorFlow2.x, you need to comment it out..\n",
    "###tf.random.set_random_seed(20190222)\n",
    "#--- For TensorFlow 2.x, use following line, instead of upper line.\n",
    "tf.random.set_seed(20190222)"
   ]
  },
  {
   "cell_type": "markdown",
   "metadata": {
    "colab_type": "text",
    "id": "yz2h7_8St1wi"
   },
   "source": [
    "####[MDF-02]\n",
    "Download the MNIST dataset and store into NumPy arrays."
   ]
  },
  {
   "cell_type": "code",
   "execution_count": 3,
   "metadata": {
    "colab": {},
    "colab_type": "code",
    "id": "ASgzWK5AjWvn"
   },
   "outputs": [],
   "source": [
    "(train_images, train_labels), (test_images, test_labels) = mnist.load_data()\n",
    "train_images = train_images.reshape(\n",
    "                  (len(train_images), 784)).astype('float32') / 255\n",
    "test_images = test_images.reshape(\n",
    "                  (len(test_images), 784)).astype('float32') / 255\n",
    "train_labels = tf.keras.utils.to_categorical(train_labels, 10)\n",
    "test_labels = tf.keras.utils.to_categorical(test_labels, 10)"
   ]
  },
  {
   "cell_type": "markdown",
   "metadata": {
    "colab_type": "text",
    "id": "qdQ0Tp2IvFy8"
   },
   "source": [
    "####[MDF-03]\n",
    "Define a CNN model with a single convolutional filter layer."
   ]
  },
  {
   "cell_type": "code",
   "execution_count": 4,
   "metadata": {
    "colab": {
     "base_uri": "https://localhost:8080/",
     "height": 357
    },
    "colab_type": "code",
    "id": "tpL_niBTXggS",
    "outputId": "f0a353a3-967c-4c56-a8df-3b604bce1637"
   },
   "outputs": [
    {
     "name": "stdout",
     "output_type": "stream",
     "text": [
      "Model: \"sequential\"\n",
      "_________________________________________________________________\n",
      "Layer (type)                 Output Shape              Param #   \n",
      "=================================================================\n",
      "reshape (Reshape)            (None, 28, 28, 1)         0         \n",
      "_________________________________________________________________\n",
      "conv_filter (Conv2D)         (None, 28, 28, 16)        416       \n",
      "_________________________________________________________________\n",
      "max_pooling (MaxPooling2D)   (None, 14, 14, 16)        0         \n",
      "_________________________________________________________________\n",
      "flatten (Flatten)            (None, 3136)              0         \n",
      "_________________________________________________________________\n",
      "hidden (Dense)               (None, 1024)              3212288   \n",
      "_________________________________________________________________\n",
      "softmax (Dense)              (None, 10)                10250     \n",
      "=================================================================\n",
      "Total params: 3,222,954\n",
      "Trainable params: 3,222,954\n",
      "Non-trainable params: 0\n",
      "_________________________________________________________________\n"
     ]
    }
   ],
   "source": [
    "model = models.Sequential()\n",
    "model.add(layers.Reshape((28, 28, 1), input_shape=(28*28,), name='reshape'))\n",
    "model.add(layers.Conv2D(16, (5, 5), padding='same',\n",
    "                        kernel_initializer=initializers.TruncatedNormal(),\n",
    "                        use_bias=True, activation='relu',\n",
    "                        name='conv_filter'))\n",
    "model.add(layers.MaxPooling2D((2, 2), name='max_pooling'))\n",
    "model.add(layers.Flatten(name='flatten'))\n",
    "model.add(layers.Dense(1024, activation='relu',\n",
    "                       kernel_initializer=initializers.TruncatedNormal(),\n",
    "                       name='hidden'))\n",
    "model.add(layers.Dense(10, activation='softmax', name='softmax'))\n",
    "\n",
    "model.summary()"
   ]
  },
  {
   "cell_type": "markdown",
   "metadata": {
    "colab_type": "text",
    "id": "fBltXsSRvZn0"
   },
   "source": [
    "####[MDF-04]\n",
    "Compile the model using the Adam optimizer, and Cross entroy as a loss function."
   ]
  },
  {
   "cell_type": "code",
   "execution_count": 5,
   "metadata": {
    "colab": {},
    "colab_type": "code",
    "id": "BakcuKxdQoSL"
   },
   "outputs": [],
   "source": [
    "model.compile(optimizer='adam', \n",
    "              loss='categorical_crossentropy',\n",
    "              metrics=['acc'])"
   ]
  },
  {
   "cell_type": "markdown",
   "metadata": {
    "colab_type": "text",
    "id": "knfetV1MiKQ-"
   },
   "source": [
    "####[MDF-05]\n",
    "Train the model. It achieves the 99.0% accuracy.<br>\n",
    "*Note: It takes more than 5 minutes without GPU."
   ]
  },
  {
   "cell_type": "code",
   "execution_count": 6,
   "metadata": {
    "colab": {
     "base_uri": "https://localhost:8080/",
     "height": 462
    },
    "colab_type": "code",
    "id": "LlQCTsKKXkr5",
    "outputId": "8eb6f3af-32bd-4548-fe2c-6d05d806d498"
   },
   "outputs": [
    {
     "name": "stdout",
     "output_type": "stream",
     "text": [
      "Epoch 1/10\n",
      "469/469 [==============================] - 6s 7ms/step - loss: 0.1722 - acc: 0.9497 - val_loss: 0.0594 - val_acc: 0.9809\n",
      "Epoch 2/10\n",
      "469/469 [==============================] - 3s 6ms/step - loss: 0.0509 - acc: 0.9840 - val_loss: 0.0483 - val_acc: 0.9834\n",
      "Epoch 3/10\n",
      "469/469 [==============================] - 3s 6ms/step - loss: 0.0317 - acc: 0.9897 - val_loss: 0.0408 - val_acc: 0.9864\n",
      "Epoch 4/10\n",
      "469/469 [==============================] - 3s 6ms/step - loss: 0.0211 - acc: 0.9934 - val_loss: 0.0366 - val_acc: 0.9877\n",
      "Epoch 5/10\n",
      "469/469 [==============================] - 3s 6ms/step - loss: 0.0158 - acc: 0.9953 - val_loss: 0.0408 - val_acc: 0.9873\n",
      "Epoch 6/10\n",
      "469/469 [==============================] - 3s 6ms/step - loss: 0.0099 - acc: 0.9968 - val_loss: 0.0392 - val_acc: 0.9879\n",
      "Epoch 7/10\n",
      "469/469 [==============================] - 3s 6ms/step - loss: 0.0093 - acc: 0.9969 - val_loss: 0.0388 - val_acc: 0.9882\n",
      "Epoch 8/10\n",
      "469/469 [==============================] - 3s 6ms/step - loss: 0.0073 - acc: 0.9978 - val_loss: 0.0363 - val_acc: 0.9890\n",
      "Epoch 9/10\n",
      "469/469 [==============================] - 3s 6ms/step - loss: 0.0068 - acc: 0.9977 - val_loss: 0.0411 - val_acc: 0.9880\n",
      "Epoch 10/10\n",
      "469/469 [==============================] - 3s 6ms/step - loss: 0.0058 - acc: 0.9982 - val_loss: 0.0361 - val_acc: 0.9900\n"
     ]
    }
   ],
   "source": [
    "history = model.fit(train_images, train_labels,\n",
    "                    validation_data=(test_images, test_labels),\n",
    "                    batch_size=128, epochs=10)"
   ]
  },
  {
   "cell_type": "markdown",
   "metadata": {
    "colab_type": "text",
    "id": "TG5R1JCmtflv"
   },
   "source": [
    "####[MDF-06]\n",
    "Plot charts for the accuracy and loss values."
   ]
  },
  {
   "cell_type": "code",
   "execution_count": 7,
   "metadata": {
    "colab": {
     "base_uri": "https://localhost:8080/",
     "height": 538
    },
    "colab_type": "code",
    "id": "s8xZbQ1j1k9Z",
    "outputId": "3c57d7e0-ffce-4b98-f2f5-6a386fcd7826"
   },
   "outputs": [
    {
     "data": {
      "text/plain": [
       "<AxesSubplot:>"
      ]
     },
     "execution_count": 7,
     "metadata": {},
     "output_type": "execute_result"
    },
    {
     "data": {
      "image/png": "[encoded data removed]",
      "text/plain": [
       "<Figure size 432x288 with 1 Axes>"
      ]
     },
     "metadata": {
      "needs_background": "light"
     },
     "output_type": "display_data"
    },
    {
     "data": {
      "image/png": "[encoded data removed]",
      "text/plain": [
       "<Figure size 432x288 with 1 Axes>"
      ]
     },
     "metadata": {
      "needs_background": "light"
     },
     "output_type": "display_data"
    }
   ],
   "source": [
    "DataFrame({'acc': history.history['acc'], \n",
    "           'val_acc': history.history['val_acc']}).plot()\n",
    "DataFrame({'loss': history.history['loss'], \n",
    "           'val_loss': history.history['val_loss']}).plot()"
   ]
  },
  {
   "cell_type": "markdown",
   "metadata": {
    "colab_type": "text",
    "id": "nPjRGMgSiYzH"
   },
   "source": [
    "####[MDF-07]\n",
    "Modified to local (off-line) system.<br>\n",
    "Original: Mount your Google Drive on `/content/gdrive`.<br>\n",
    "Modified: Nothing."
   ]
  },
  {
   "cell_type": "code",
   "execution_count": 8,
   "metadata": {
    "colab": {
     "base_uri": "https://localhost:8080/",
     "height": 34
    },
    "colab_type": "code",
    "id": "KTDOKlWoe2Kz",
    "outputId": "f3fc398b-036d-48f0-be7d-86d308c479d2"
   },
   "outputs": [],
   "source": [
    "###from google.colab import drive\n",
    "###drive.mount('/content/gdrive')"
   ]
  },
  {
   "cell_type": "markdown",
   "metadata": {
    "colab_type": "text",
    "id": "RX5280gwikJN"
   },
   "source": [
    "####[MDF-08]\n",
    "Modified to local (off-line) system.<br>\n",
    "Original: Export the trained model as a file `MNIST_single.hd5` on your Google Drive.<br>\n",
    "Modified: Export the trained model as a file `MNIST_single.hd5` on your /tmp/ directory.<br>"
   ]
  },
  {
   "cell_type": "code",
   "execution_count": 9,
   "metadata": {
    "colab": {
     "base_uri": "https://localhost:8080/",
     "height": 34
    },
    "colab_type": "code",
    "id": "jY2TeEWCwxix",
    "outputId": "ddd030c9-7652-4cf2-efaf-02ddcd3fdd91"
   },
   "outputs": [],
   "source": [
    "###model.save('/content/gdrive/My Drive/MNIST_single.hd5', save_format='h5')\n",
    "# For local (off-line) mode, saving file to /tmp/ directroy.\n",
    "model.save('/tmp/MNIST_single.hd5', save_format='h5')\n",
    "###!ls -lh '/content/gdrive/My Drive/MNIST_single.hd5'"
   ]
  },
  {
   "cell_type": "code",
   "execution_count": null,
   "metadata": {},
   "outputs": [],
   "source": []
  }
 ],
 "metadata": {
  "accelerator": "GPU",
  "colab": {
   "collapsed_sections": [],
   "name": "4. MNIST dynamic filter classification.ipynb",
   "provenance": [],
   "version": "0.3.2"
  },
  "kernelspec": {
   "display_name": "Python 3 (ipykernel)",
   "language": "python",
   "name": "python3"
  },
  "language_info": {
   "codemirror_mode": {
    "name": "ipython",
    "version": 3
   },
   "file_extension": ".py",
   "mimetype": "text/x-python",
   "name": "python",
   "nbconvert_exporter": "python",
   "pygments_lexer": "ipython3",
   "version": "3.9.7"
  }
 },
 "nbformat": 4,
 "nbformat_minor": 1
}
