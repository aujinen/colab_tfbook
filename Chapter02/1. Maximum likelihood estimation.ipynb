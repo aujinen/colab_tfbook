{
 "cells": [
  {
   "cell_type": "markdown",
   "metadata": {
    "colab_type": "text",
    "id": "7Xuy7KG9gwxE"
   },
   "source": [
    "# Maximum Likelihood Estimation\n",
    "### 最尤推定法"
   ]
  },
  {
   "cell_type": "markdown",
   "metadata": {
    "colab_type": "text",
    "id": "oFvzfM3Mg2_a"
   },
   "source": [
    "注意：このノートブックはGPUの有無に関わらずPython 3.x および　TensorFlow 2.x（ないしTensorFlow 1.x） にて、オフラインにて稼動するよう変更しています。<br>\n",
    "Google Colab環境にてオンラインで実行する場合、オリジナルサイトのコードを使って下さい。<br>\n",
    "2020/02/04: By H.Nishiyama<br>\n",
    "2021/10/19 追加・変更部分のみ日本語化<br>\n",
    "2021/11/17 コメント修正<br>\n",
    "\n",
    "このノートブックはTensorFlow 2.x (ないし1.x）を使います<br>\n",
    "*もし、オンラインのCloabシステムを使うなら、オリジナルサイトのコードを使うか、セルを指示通りに修正して下さい。<br>\n",
    "【オリジナルサイト】https://github.com/enakai00/colab_tfbook"
   ]
  },
  {
   "cell_type": "code",
   "execution_count": 1,
   "metadata": {
    "colab": {
     "base_uri": "https://localhost:8080/",
     "height": 34
    },
    "colab_type": "code",
    "id": "uFHCl3Yb_-da",
    "outputId": "0ba35551-a140-412b-8b52-9fb5ab3ace25"
   },
   "outputs": [],
   "source": [
    "###%tensorflow_version 2.x"
   ]
  },
  {
   "cell_type": "markdown",
   "metadata": {
    "colab_type": "text",
    "id": "VJO3PPzqsq8d"
   },
   "source": [
    "####[MLE-01]\n",
    "Import modules and set a random seed."
   ]
  },
  {
   "cell_type": "code",
   "execution_count": 2,
   "metadata": {
    "colab": {},
    "colab_type": "code",
    "id": "gB5UUoAXIVmC"
   },
   "outputs": [],
   "source": [
    "# 必要なライブラリの読み込み　(少し時間がかかります)\n",
    "import numpy as np\n",
    "from numpy.random import multivariate_normal, permutation\n",
    "import pandas as pd\n",
    "from pandas import DataFrame\n",
    "import matplotlib.pyplot as plt\n",
    "\n",
    "import tensorflow as tf\n",
    "from tensorflow.keras import layers, models\n",
    "\n",
    "# 乱数生成の初期化\n",
    "np.random.seed(20190220)\n",
    "#--- For TensorFlow 1.x, use the following line, but if you use TensorFlow2.x, you need to comment it out.\n",
    "###tf.random.set_random_seed(20190220)\n",
    "#--- For TensorFlow 2.x, use following line, instead of upper line.\n",
    "tf.random.set_seed(20190220)"
   ]
  },
  {
   "cell_type": "markdown",
   "metadata": {
    "colab_type": "text",
    "id": "yz2h7_8St1wi"
   },
   "source": [
    "####[MLE-02]\n",
    "Generate a training dateset."
   ]
  },
  {
   "cell_type": "code",
   "execution_count": 3,
   "metadata": {
    "colab": {},
    "colab_type": "code",
    "id": "ASgzWK5AjWvn"
   },
   "outputs": [],
   "source": [
    "# 非感染群\n",
    "# n0:乱数の数、mu0：平均値、variance0: 共分散\n",
    "n0, mu0, variance0 = 20, [10, 11], 20\n",
    "data0 = multivariate_normal(mu0, np.eye(2)*variance0 ,n0)\n",
    "df0 = DataFrame(data0, columns=['x1', 'x2'])\n",
    "df0['t'] = 0\n",
    "\n",
    "# 感染群\n",
    "n1, mu1, variance1 = 15, [18, 20], 22\n",
    "data1 = multivariate_normal(mu1, np.eye(2)*variance1, n1)\n",
    "df1 = DataFrame(data1, columns=['x1', 'x2'])\n",
    "df1['t'] = 1\n",
    "\n",
    "df = pd.concat([df0, df1], ignore_index=True)\n",
    "train_set = df.reindex(permutation(df.index)).reset_index(drop=True)"
   ]
  },
  {
   "cell_type": "markdown",
   "metadata": {
    "colab_type": "text",
    "id": "SAVhouWduMh7"
   },
   "source": [
    "####[MLE-03]\n",
    "The training dataset consists of coordinates $(x_1,x_2)$ and label values $t=0,1$."
   ]
  },
  {
   "cell_type": "code",
   "execution_count": 4,
   "metadata": {
    "colab": {
     "base_uri": "https://localhost:8080/",
     "height": 1000
    },
    "colab_type": "code",
    "id": "Hp4EnlqvToYN",
    "outputId": "e3e2d1b6-735c-4773-dfae-c3020f99ac12"
   },
   "outputs": [
    {
     "data": {
      "text/html": [
       "<div>\n",
       "<style scoped>\n",
       "    .dataframe tbody tr th:only-of-type {\n",
       "        vertical-align: middle;\n",
       "    }\n",
       "\n",
       "    .dataframe tbody tr th {\n",
       "        vertical-align: top;\n",
       "    }\n",
       "\n",
       "    .dataframe thead th {\n",
       "        text-align: right;\n",
       "    }\n",
       "</style>\n",
       "<table border=\"1\" class=\"dataframe\">\n",
       "  <thead>\n",
       "    <tr style=\"text-align: right;\">\n",
       "      <th></th>\n",
       "      <th>x1</th>\n",
       "      <th>x2</th>\n",
       "      <th>t</th>\n",
       "    </tr>\n",
       "  </thead>\n",
       "  <tbody>\n",
       "    <tr>\n",
       "      <th>0</th>\n",
       "      <td>11.148678</td>\n",
       "      <td>12.178698</td>\n",
       "      <td>0</td>\n",
       "    </tr>\n",
       "    <tr>\n",
       "      <th>1</th>\n",
       "      <td>8.628574</td>\n",
       "      <td>16.936525</td>\n",
       "      <td>0</td>\n",
       "    </tr>\n",
       "    <tr>\n",
       "      <th>2</th>\n",
       "      <td>6.751810</td>\n",
       "      <td>2.686665</td>\n",
       "      <td>0</td>\n",
       "    </tr>\n",
       "    <tr>\n",
       "      <th>3</th>\n",
       "      <td>14.613345</td>\n",
       "      <td>22.415744</td>\n",
       "      <td>1</td>\n",
       "    </tr>\n",
       "    <tr>\n",
       "      <th>4</th>\n",
       "      <td>-0.582185</td>\n",
       "      <td>9.712311</td>\n",
       "      <td>0</td>\n",
       "    </tr>\n",
       "    <tr>\n",
       "      <th>5</th>\n",
       "      <td>8.720424</td>\n",
       "      <td>20.263025</td>\n",
       "      <td>0</td>\n",
       "    </tr>\n",
       "    <tr>\n",
       "      <th>6</th>\n",
       "      <td>14.689335</td>\n",
       "      <td>11.718604</td>\n",
       "      <td>0</td>\n",
       "    </tr>\n",
       "    <tr>\n",
       "      <th>7</th>\n",
       "      <td>15.174583</td>\n",
       "      <td>18.703856</td>\n",
       "      <td>1</td>\n",
       "    </tr>\n",
       "    <tr>\n",
       "      <th>8</th>\n",
       "      <td>18.932923</td>\n",
       "      <td>20.026993</td>\n",
       "      <td>1</td>\n",
       "    </tr>\n",
       "    <tr>\n",
       "      <th>9</th>\n",
       "      <td>10.199965</td>\n",
       "      <td>19.306527</td>\n",
       "      <td>1</td>\n",
       "    </tr>\n",
       "    <tr>\n",
       "      <th>10</th>\n",
       "      <td>8.047290</td>\n",
       "      <td>9.257321</td>\n",
       "      <td>0</td>\n",
       "    </tr>\n",
       "    <tr>\n",
       "      <th>11</th>\n",
       "      <td>7.973561</td>\n",
       "      <td>1.842595</td>\n",
       "      <td>0</td>\n",
       "    </tr>\n",
       "    <tr>\n",
       "      <th>12</th>\n",
       "      <td>9.367123</td>\n",
       "      <td>12.547001</td>\n",
       "      <td>0</td>\n",
       "    </tr>\n",
       "    <tr>\n",
       "      <th>13</th>\n",
       "      <td>13.379836</td>\n",
       "      <td>17.101564</td>\n",
       "      <td>1</td>\n",
       "    </tr>\n",
       "    <tr>\n",
       "      <th>14</th>\n",
       "      <td>10.050234</td>\n",
       "      <td>15.911195</td>\n",
       "      <td>0</td>\n",
       "    </tr>\n",
       "    <tr>\n",
       "      <th>15</th>\n",
       "      <td>21.531288</td>\n",
       "      <td>15.107301</td>\n",
       "      <td>1</td>\n",
       "    </tr>\n",
       "    <tr>\n",
       "      <th>16</th>\n",
       "      <td>9.636055</td>\n",
       "      <td>10.316380</td>\n",
       "      <td>0</td>\n",
       "    </tr>\n",
       "    <tr>\n",
       "      <th>17</th>\n",
       "      <td>5.415042</td>\n",
       "      <td>10.557410</td>\n",
       "      <td>0</td>\n",
       "    </tr>\n",
       "    <tr>\n",
       "      <th>18</th>\n",
       "      <td>15.189524</td>\n",
       "      <td>10.026291</td>\n",
       "      <td>1</td>\n",
       "    </tr>\n",
       "    <tr>\n",
       "      <th>19</th>\n",
       "      <td>8.816570</td>\n",
       "      <td>23.696075</td>\n",
       "      <td>1</td>\n",
       "    </tr>\n",
       "    <tr>\n",
       "      <th>20</th>\n",
       "      <td>17.037535</td>\n",
       "      <td>12.352113</td>\n",
       "      <td>1</td>\n",
       "    </tr>\n",
       "    <tr>\n",
       "      <th>21</th>\n",
       "      <td>11.378429</td>\n",
       "      <td>7.172675</td>\n",
       "      <td>0</td>\n",
       "    </tr>\n",
       "    <tr>\n",
       "      <th>22</th>\n",
       "      <td>23.073613</td>\n",
       "      <td>9.808894</td>\n",
       "      <td>0</td>\n",
       "    </tr>\n",
       "    <tr>\n",
       "      <th>23</th>\n",
       "      <td>14.247538</td>\n",
       "      <td>19.111286</td>\n",
       "      <td>0</td>\n",
       "    </tr>\n",
       "    <tr>\n",
       "      <th>24</th>\n",
       "      <td>16.194011</td>\n",
       "      <td>19.591581</td>\n",
       "      <td>1</td>\n",
       "    </tr>\n",
       "    <tr>\n",
       "      <th>25</th>\n",
       "      <td>21.138444</td>\n",
       "      <td>27.280888</td>\n",
       "      <td>1</td>\n",
       "    </tr>\n",
       "    <tr>\n",
       "      <th>26</th>\n",
       "      <td>17.428121</td>\n",
       "      <td>13.953785</td>\n",
       "      <td>0</td>\n",
       "    </tr>\n",
       "    <tr>\n",
       "      <th>27</th>\n",
       "      <td>16.275732</td>\n",
       "      <td>25.689385</td>\n",
       "      <td>1</td>\n",
       "    </tr>\n",
       "    <tr>\n",
       "      <th>28</th>\n",
       "      <td>13.915948</td>\n",
       "      <td>24.620724</td>\n",
       "      <td>1</td>\n",
       "    </tr>\n",
       "    <tr>\n",
       "      <th>29</th>\n",
       "      <td>11.609024</td>\n",
       "      <td>11.623596</td>\n",
       "      <td>0</td>\n",
       "    </tr>\n",
       "    <tr>\n",
       "      <th>30</th>\n",
       "      <td>13.652538</td>\n",
       "      <td>3.678494</td>\n",
       "      <td>0</td>\n",
       "    </tr>\n",
       "    <tr>\n",
       "      <th>31</th>\n",
       "      <td>3.424919</td>\n",
       "      <td>26.121595</td>\n",
       "      <td>1</td>\n",
       "    </tr>\n",
       "    <tr>\n",
       "      <th>32</th>\n",
       "      <td>19.663299</td>\n",
       "      <td>21.072943</td>\n",
       "      <td>1</td>\n",
       "    </tr>\n",
       "    <tr>\n",
       "      <th>33</th>\n",
       "      <td>3.977605</td>\n",
       "      <td>7.202972</td>\n",
       "      <td>0</td>\n",
       "    </tr>\n",
       "    <tr>\n",
       "      <th>34</th>\n",
       "      <td>3.360409</td>\n",
       "      <td>17.789434</td>\n",
       "      <td>0</td>\n",
       "    </tr>\n",
       "  </tbody>\n",
       "</table>\n",
       "</div>"
      ],
      "text/plain": [
       "           x1         x2  t\n",
       "0   11.148678  12.178698  0\n",
       "1    8.628574  16.936525  0\n",
       "2    6.751810   2.686665  0\n",
       "3   14.613345  22.415744  1\n",
       "4   -0.582185   9.712311  0\n",
       "5    8.720424  20.263025  0\n",
       "6   14.689335  11.718604  0\n",
       "7   15.174583  18.703856  1\n",
       "8   18.932923  20.026993  1\n",
       "9   10.199965  19.306527  1\n",
       "10   8.047290   9.257321  0\n",
       "11   7.973561   1.842595  0\n",
       "12   9.367123  12.547001  0\n",
       "13  13.379836  17.101564  1\n",
       "14  10.050234  15.911195  0\n",
       "15  21.531288  15.107301  1\n",
       "16   9.636055  10.316380  0\n",
       "17   5.415042  10.557410  0\n",
       "18  15.189524  10.026291  1\n",
       "19   8.816570  23.696075  1\n",
       "20  17.037535  12.352113  1\n",
       "21  11.378429   7.172675  0\n",
       "22  23.073613   9.808894  0\n",
       "23  14.247538  19.111286  0\n",
       "24  16.194011  19.591581  1\n",
       "25  21.138444  27.280888  1\n",
       "26  17.428121  13.953785  0\n",
       "27  16.275732  25.689385  1\n",
       "28  13.915948  24.620724  1\n",
       "29  11.609024  11.623596  0\n",
       "30  13.652538   3.678494  0\n",
       "31   3.424919  26.121595  1\n",
       "32  19.663299  21.072943  1\n",
       "33   3.977605   7.202972  0\n",
       "34   3.360409  17.789434  0"
      ]
     },
     "execution_count": 4,
     "metadata": {},
     "output_type": "execute_result"
    }
   ],
   "source": [
    "# 学習用（トレーニングセット）データの内容を確認します。\n",
    "train_set"
   ]
  },
  {
   "cell_type": "markdown",
   "metadata": {
    "colab_type": "text",
    "id": "qdQ0Tp2IvFy8"
   },
   "source": [
    "####[MLE-04]\n",
    "Store the coordinates $(x_1,x_2)$ and label values $t$ into NumPy arrays."
   ]
  },
  {
   "cell_type": "code",
   "execution_count": 5,
   "metadata": {
    "colab": {},
    "colab_type": "code",
    "id": "tpL_niBTXggS"
   },
   "outputs": [],
   "source": [
    "# (x1, x2) と t を別々に集めたものをNumPyのarrayオブジェクトとして取り出しておきます。\n",
    "train_x = train_set[['x1', 'x2']].values\n",
    "train_t = train_set['t'].values"
   ]
  },
  {
   "cell_type": "markdown",
   "metadata": {
    "colab_type": "text",
    "id": "fmnjQdqAvQRw"
   },
   "source": [
    "####[MLE-05]\n",
    "Define a model to predict the probability of `t=1`.<br>\n",
    "*Waring will be occured for some version of TensorFlow as follows;<br>\n",
    "WARNING:tensorflow:From ... "
   ]
  },
  {
   "cell_type": "code",
   "execution_count": 6,
   "metadata": {
    "colab": {
     "base_uri": "https://localhost:8080/",
     "height": 187
    },
    "colab_type": "code",
    "id": "BakcuKxdQoSL",
    "outputId": "c3d33b00-5f21-43cc-ff91-3c3e6399c987"
   },
   "outputs": [
    {
     "name": "stdout",
     "output_type": "stream",
     "text": [
      "Model: \"sequential\"\n",
      "_________________________________________________________________\n",
      "Layer (type)                 Output Shape              Param #   \n",
      "=================================================================\n",
      "logistic_regression (Dense)  (None, 1)                 3         \n",
      "=================================================================\n",
      "Total params: 3\n",
      "Trainable params: 3\n",
      "Non-trainable params: 0\n",
      "_________________________________________________________________\n"
     ]
    }
   ],
   "source": [
    "# Kerasのシーケンシャル（順次実行形式）のDense関数を定義。\n",
    "# 入力は２つのウェイト(x1,x2)だが、1つのバイアス(b)が加わるので、合計3つのパラメータ\n",
    "# 活性化関数にシグモイド関数を用いている。\n",
    "model = models.Sequential()\n",
    "model.add(layers.Dense(1, activation='sigmoid', input_shape=(2,),\n",
    "                       name='logistic_regression'))\n",
    "\n",
    "model.summary()"
   ]
  },
  {
   "cell_type": "markdown",
   "metadata": {
    "colab_type": "text",
    "id": "fBltXsSRvZn0"
   },
   "source": [
    "####[MLE-06]\n",
    "Compile the model using the Adam optimizer, and Cross entroy as a loss function.<br>\n",
    "*Waring will be occured for some version of TensorFlow as follows;<br>\n",
    "WARNING:tensorflow:From ... "
   ]
  },
  {
   "cell_type": "code",
   "execution_count": 7,
   "metadata": {
    "colab": {},
    "colab_type": "code",
    "id": "LlQCTsKKXkr5"
   },
   "outputs": [],
   "source": [
    "# モデルを実行するための設定。\n",
    "# 最適化アルゴリズムには「adam」を使用\n",
    "# 誤差関数にはクロスエントロピーの一種である「binary_crossentropy」を用いる。\n",
    "# 追加指標として「accuracy」を使う\n",
    "model.compile(optimizer='adam',\n",
    "              loss='binary_crossentropy',\n",
    "              metrics=['acc'])"
   ]
  },
  {
   "cell_type": "markdown",
   "metadata": {
    "colab_type": "text",
    "id": "PjbE4TVBvqCh"
   },
   "source": [
    "####[MLE-07]\n",
    "Apply the optimization for 10 epochs.<br>\n",
    "*Waring will be occured for some version of TensorFlow as follows;<br>\n",
    "WARNING:tensorflow:From ... "
   ]
  },
  {
   "cell_type": "code",
   "execution_count": 8,
   "metadata": {
    "colab": {
     "base_uri": "https://localhost:8080/",
     "height": 462
    },
    "colab_type": "code",
    "id": "qpARZzJsAnNA",
    "outputId": "d3d9b248-5d14-42f5-c008-b61f92ea75e9"
   },
   "outputs": [
    {
     "name": "stdout",
     "output_type": "stream",
     "text": [
      "Epoch 1/10\n",
      "1/1 [==============================] - 1s 1s/step - loss: 3.0620 - acc: 0.5714\n",
      "Epoch 2/10\n",
      "1/1 [==============================] - 0s 5ms/step - loss: 3.0470 - acc: 0.5714\n",
      "Epoch 3/10\n",
      "1/1 [==============================] - 0s 4ms/step - loss: 3.0321 - acc: 0.5714\n",
      "Epoch 4/10\n",
      "1/1 [==============================] - 0s 3ms/step - loss: 3.0172 - acc: 0.5714\n",
      "Epoch 5/10\n",
      "1/1 [==============================] - 0s 5ms/step - loss: 3.0022 - acc: 0.5714\n",
      "Epoch 6/10\n",
      "1/1 [==============================] - 0s 5ms/step - loss: 2.9873 - acc: 0.5714\n",
      "Epoch 7/10\n",
      "1/1 [==============================] - 0s 5ms/step - loss: 2.9724 - acc: 0.5714\n",
      "Epoch 8/10\n",
      "1/1 [==============================] - 0s 5ms/step - loss: 2.9576 - acc: 0.5714\n",
      "Epoch 9/10\n",
      "1/1 [==============================] - 0s 4ms/step - loss: 2.9427 - acc: 0.5714\n",
      "Epoch 10/10\n",
      "1/1 [==============================] - 0s 5ms/step - loss: 2.9278 - acc: 0.5714\n"
     ]
    }
   ],
   "source": [
    "# テスト的に10回繰り返してみる。\n",
    "# 1回あたり（バッチあたり）のパラメータ修正に、train_xの全てのデータを用いる。\n",
    "history = model.fit(train_x, train_t,\n",
    "                    batch_size=len(train_x), epochs=10)"
   ]
  },
  {
   "cell_type": "markdown",
   "metadata": {
    "colab_type": "text",
    "id": "6ZJDVflWv6bm"
   },
   "source": [
    "####[MLE-08]\n",
    "Apply the optimization for additional 5,000 epochs."
   ]
  },
  {
   "cell_type": "code",
   "execution_count": 9,
   "metadata": {
    "colab": {},
    "colab_type": "code",
    "id": "R6aG8FEZSLdr"
   },
   "outputs": [],
   "source": [
    "# 途中経過表示しない（verbose=0）、終了まで少し時間がかかる。\n",
    "history = model.fit(train_x, train_t,\n",
    "                    batch_size=len(train_x), epochs=5000, verbose=0)"
   ]
  },
  {
   "cell_type": "markdown",
   "metadata": {
    "colab_type": "text",
    "id": "BFIxYITmwBXA"
   },
   "source": [
    "####[MLE-09]\n",
    "Plot charts for accuracy and loss."
   ]
  },
  {
   "cell_type": "code",
   "execution_count": 10,
   "metadata": {
    "colab": {
     "base_uri": "https://localhost:8080/",
     "height": 538
    },
    "colab_type": "code",
    "id": "lHFnv_-Z9KjC",
    "outputId": "33c3d557-d1d8-4bfe-9480-15e3d368f873"
   },
   "outputs": [
    {
     "data": {
      "text/plain": [
       "<AxesSubplot:>"
      ]
     },
     "execution_count": 10,
     "metadata": {},
     "output_type": "execute_result"
    },
    {
     "data": {
      "image/png": "[encoded data removed]",
      "text/plain": [
       "<Figure size 432x288 with 1 Axes>"
      ]
     },
     "metadata": {
      "needs_background": "light"
     },
     "output_type": "display_data"
    },
    {
     "data": {
      "image/png": "[encoded data removed]",
      "text/plain": [
       "<Figure size 432x288 with 1 Axes>"
      ]
     },
     "metadata": {
      "needs_background": "light"
     },
     "output_type": "display_data"
    }
   ],
   "source": [
    "DataFrame({'acc': history.history['acc']}).plot()\n",
    "DataFrame({'loss': history.history['loss']}).plot()"
   ]
  },
  {
   "cell_type": "markdown",
   "metadata": {
    "colab_type": "text",
    "id": "DrFqiUwcwSS4"
   },
   "source": [
    "####[MLE-10]\n",
    "Show weights after the training."
   ]
  },
  {
   "cell_type": "code",
   "execution_count": 11,
   "metadata": {
    "colab": {
     "base_uri": "https://localhost:8080/",
     "height": 51
    },
    "colab_type": "code",
    "id": "ffVp0em2Sn4U",
    "outputId": "336aebb4-0e2e-459c-bfd6-c2db28e16977"
   },
   "outputs": [
    {
     "data": {
      "text/plain": [
       "[array([[0.07224168],\n",
       "        [0.1596745 ]], dtype=float32),\n",
       " array([-3.4501996], dtype=float32)]"
      ]
     },
     "execution_count": 11,
     "metadata": {},
     "output_type": "execute_result"
    }
   ],
   "source": [
    "model.get_weights()"
   ]
  },
  {
   "cell_type": "markdown",
   "metadata": {
    "colab_type": "text",
    "id": "8vbl6mtdwi_z"
   },
   "source": [
    "####[MLE-11]\n",
    "Plot a chart using the final weights to show the result."
   ]
  },
  {
   "cell_type": "code",
   "execution_count": 12,
   "metadata": {
    "colab": {
     "base_uri": "https://localhost:8080/",
     "height": 449
    },
    "colab_type": "code",
    "id": "EQCm_ZqJzV7T",
    "outputId": "184d2ddd-74ab-410c-d2b3-7650b73b2680"
   },
   "outputs": [
    {
     "data": {
      "text/plain": [
       "<matplotlib.image.AxesImage at 0x233daccd3a0>"
      ]
     },
     "execution_count": 12,
     "metadata": {},
     "output_type": "execute_result"
    },
    {
     "data": {
      "image/png": "[encoded data removed]",
      "text/plain": [
       "<Figure size 504x504 with 1 Axes>"
      ]
     },
     "metadata": {
      "needs_background": "light"
     },
     "output_type": "display_data"
    }
   ],
   "source": [
    "# 取り出したパラメーターの値を用いて、結果をグラフに表示します。\n",
    "[[w1], [w2]], [b] = model.get_weights()\n",
    "\n",
    "train_set0 = train_set[train_set['t']==0]\n",
    "train_set1 = train_set[train_set['t']==1]\n",
    "\n",
    "fig = plt.figure(figsize=(7, 7))\n",
    "subplot = fig.add_subplot(1, 1, 1)\n",
    "subplot.set_ylim([0, 30])\n",
    "subplot.set_xlim([0, 30])\n",
    "subplot.scatter(train_set1.x1, train_set1.x2, marker='x')\n",
    "subplot.scatter(train_set0.x1, train_set0.x2, marker='o')\n",
    "\n",
    "xs = np.linspace(0, 30, 10)\n",
    "ys = - (w1*xs/w2 + b/w2)\n",
    "subplot.plot(xs, ys)\n",
    "\n",
    "field = [[(1 / (1 + np.exp(-(w1*x1 + w2*x2 + b))))\n",
    "          for x1 in np.linspace(0, 30, 100)]\n",
    "         for x2 in np.linspace(0, 30, 100)]\n",
    "subplot.imshow(field, origin='lower', extent=(0, 30, 0, 30),\n",
    "               vmin=0, vmax=1, cmap=plt.cm.gray_r, alpha=0.5)"
   ]
  },
  {
   "cell_type": "code",
   "execution_count": null,
   "metadata": {},
   "outputs": [],
   "source": []
  }
 ],
 "metadata": {
  "colab": {
   "collapsed_sections": [],
   "name": "1. Maximum likelihood estimation.ipynb",
   "provenance": [],
   "version": "0.3.2"
  },
  "kernelspec": {
   "display_name": "Python 3 (ipykernel)",
   "language": "python",
   "name": "python3"
  },
  "language_info": {
   "codemirror_mode": {
    "name": "ipython",
    "version": 3
   },
   "file_extension": ".py",
   "mimetype": "text/x-python",
   "name": "python",
   "nbconvert_exporter": "python",
   "pygments_lexer": "ipython3",
   "version": "3.9.7"
  }
 },
 "nbformat": 4,
 "nbformat_minor": 1
}
