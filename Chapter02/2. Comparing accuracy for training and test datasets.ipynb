{
 "cells": [
  {
   "cell_type": "markdown",
   "metadata": {
    "colab_type": "text",
    "id": "EWD-Wv2WlVFr"
   },
   "source": [
    "# Comparing Accuracy for Training and Test Datasets"
   ]
  },
  {
   "cell_type": "markdown",
   "metadata": {
    "colab_type": "text",
    "id": "AsQrtU2qlS7P"
   },
   "source": [
    "注意：このノートブックはGPUの有無に関わらずPython 3.x および　TensorFlow 2.x（ないしTensorFlow 1.x） にて、オフラインにて稼動するよう変更しています。<br>\n",
    "Google Colab環境にてオンラインで実行する場合、オリジナルサイトのコードを使って下さい。<br>\n",
    "2020/02/04: By H.Nishiyama<br>\n",
    "2021/10/19 追加・変更部分のみ日本語化<br>\n",
    "2021/11/17 コメント修正<br>\n",
    "\n",
    "このノートブックはTensorFlow 2.x (ないし1.x）を使います<br>\n",
    "*もし、オンラインのCloabシステムを使うなら、オリジナルサイトのコードを使うか、セルを指示通りに修正して下さい。<br>\n",
    "【オリジナルサイト】https://github.com/enakai00/colab_tfbook"
   ]
  },
  {
   "cell_type": "code",
   "execution_count": 1,
   "metadata": {
    "colab": {
     "base_uri": "https://localhost:8080/",
     "height": 34
    },
    "colab_type": "code",
    "id": "mkkHIutQI-jD",
    "outputId": "1a41926a-1015-4f67-cfbd-17f67a2f380b"
   },
   "outputs": [],
   "source": [
    "###%tensorflow_version 2.x"
   ]
  },
  {
   "cell_type": "markdown",
   "metadata": {
    "colab_type": "text",
    "id": "VJO3PPzqsq8d"
   },
   "source": [
    "####[CAT-01]\n",
    "Import modules and set a random seed."
   ]
  },
  {
   "cell_type": "code",
   "execution_count": 2,
   "metadata": {
    "colab": {},
    "colab_type": "code",
    "id": "gB5UUoAXIVmC"
   },
   "outputs": [],
   "source": [
    "import numpy as np\n",
    "from numpy.random import multivariate_normal, permutation\n",
    "import pandas as pd\n",
    "from pandas import DataFrame\n",
    "import matplotlib.pyplot as plt\n",
    "\n",
    "import tensorflow as tf\n",
    "from tensorflow.keras import layers, models\n",
    "\n",
    "np.random.seed(20190825)\n",
    "#--- For TensorFlow 1.x, use the following line, but if you use TensorFlow2.x, you need to comment it out..\n",
    "###tf.random.set_random_seed(20190825)\n",
    "#--- For TensorFlow 2.x, use following line, instead of upper line.\n",
    "tf.random.set_seed(20190825)"
   ]
  },
  {
   "cell_type": "markdown",
   "metadata": {
    "colab_type": "text",
    "id": "yz2h7_8St1wi"
   },
   "source": [
    "####[CAT-02]\n",
    "Generate a dateset and split them into training(80%) and test datasets(20%)."
   ]
  },
  {
   "cell_type": "code",
   "execution_count": 3,
   "metadata": {
    "colab": {},
    "colab_type": "code",
    "id": "ASgzWK5AjWvn"
   },
   "outputs": [],
   "source": [
    "n0, mu0, variance0 = 800, [10, 11], 20\n",
    "data0 = multivariate_normal(mu0, np.eye(2)*variance0 ,n0)\n",
    "df0 = DataFrame(data0, columns=['x1', 'x2'])\n",
    "df0['t'] = 0\n",
    "\n",
    "n1, mu1, variance1 = 600, [18, 20], 22\n",
    "data1 = multivariate_normal(mu1, np.eye(2)*variance1 ,n1)\n",
    "df1 = DataFrame(data1, columns=['x1', 'x2'])\n",
    "df1['t'] = 1\n",
    "\n",
    "df = pd.concat([df0, df1], ignore_index=True)\n",
    "df = df.reindex(permutation(df.index)).reset_index(drop=True)\n",
    "\n",
    "num_data = int(len(df)*0.8)\n",
    "train_set = df[:num_data]\n",
    "test_set = df[num_data:]"
   ]
  },
  {
   "cell_type": "markdown",
   "metadata": {
    "colab_type": "text",
    "id": "qdQ0Tp2IvFy8"
   },
   "source": [
    "####[CAT-04]\n",
    "Store the coordinates $(x_1,x_2)$ and label values $t$ into NumPy arrays."
   ]
  },
  {
   "cell_type": "code",
   "execution_count": 4,
   "metadata": {
    "colab": {},
    "colab_type": "code",
    "id": "tpL_niBTXggS"
   },
   "outputs": [],
   "source": [
    "train_x = train_set[['x1', 'x2']].values\n",
    "train_t = train_set['t'].values\n",
    "test_x = test_set[['x1', 'x2']].values\n",
    "test_t = test_set['t'].values"
   ]
  },
  {
   "cell_type": "markdown",
   "metadata": {
    "colab_type": "text",
    "id": "fmnjQdqAvQRw"
   },
   "source": [
    "####[CAT-05]\n",
    "Define a model to predict the probability of `t=1`.<br>\n",
    "*Waring will be occured for some version of TensorFlow as follows;<br>\n",
    "WARNING:tensorflow:From ... "
   ]
  },
  {
   "cell_type": "code",
   "execution_count": 5,
   "metadata": {
    "colab": {
     "base_uri": "https://localhost:8080/",
     "height": 187
    },
    "colab_type": "code",
    "id": "BakcuKxdQoSL",
    "outputId": "a4118295-76cd-438f-d862-9b2d43c17212"
   },
   "outputs": [
    {
     "name": "stdout",
     "output_type": "stream",
     "text": [
      "Model: \"sequential\"\n",
      "_________________________________________________________________\n",
      "Layer (type)                 Output Shape              Param #   \n",
      "=================================================================\n",
      "logistic_regression (Dense)  (None, 1)                 3         \n",
      "=================================================================\n",
      "Total params: 3\n",
      "Trainable params: 3\n",
      "Non-trainable params: 0\n",
      "_________________________________________________________________\n"
     ]
    }
   ],
   "source": [
    "model = models.Sequential()\n",
    "model.add(layers.Dense(1, activation='sigmoid', input_shape=(2,),\n",
    "                       name='logistic_regression'))\n",
    "\n",
    "model.summary()"
   ]
  },
  {
   "cell_type": "markdown",
   "metadata": {
    "colab_type": "text",
    "id": "fBltXsSRvZn0"
   },
   "source": [
    "####[CAT-06]\n",
    "Compile the model using the Adam optimizer, and Cross entroy as a loss function.<br>\n",
    "*Waring will be occured for some version of TensorFlow as follows;<br>\n",
    "WARNING:tensorflow:From ... "
   ]
  },
  {
   "cell_type": "code",
   "execution_count": 6,
   "metadata": {
    "colab": {},
    "colab_type": "code",
    "id": "LlQCTsKKXkr5"
   },
   "outputs": [],
   "source": [
    "model.compile(optimizer='adam', \n",
    "              loss='binary_crossentropy',\n",
    "              metrics=['acc'])"
   ]
  },
  {
   "cell_type": "markdown",
   "metadata": {
    "colab_type": "text",
    "id": "PjbE4TVBvqCh"
   },
   "source": [
    "####[CAT-07]\n",
    "Apply the optimization for 10 epochs."
   ]
  },
  {
   "cell_type": "code",
   "execution_count": 7,
   "metadata": {
    "colab": {
     "base_uri": "https://localhost:8080/",
     "height": 462
    },
    "colab_type": "code",
    "id": "qpARZzJsAnNA",
    "outputId": "aa2bfc2a-7484-446f-865a-6b8affaa0506"
   },
   "outputs": [
    {
     "name": "stdout",
     "output_type": "stream",
     "text": [
      "Epoch 1/10\n",
      "1/1 [==============================] - 1s 1s/step - loss: 12.6925 - acc: 0.5607 - val_loss: 10.4913 - val_acc: 0.6107\n",
      "Epoch 2/10\n",
      "1/1 [==============================] - 0s 39ms/step - loss: 12.6752 - acc: 0.5607 - val_loss: 10.4768 - val_acc: 0.6107\n",
      "Epoch 3/10\n",
      "1/1 [==============================] - 0s 27ms/step - loss: 12.6578 - acc: 0.5607 - val_loss: 10.4624 - val_acc: 0.6107\n",
      "Epoch 4/10\n",
      "1/1 [==============================] - 0s 28ms/step - loss: 12.6405 - acc: 0.5607 - val_loss: 10.4479 - val_acc: 0.6107\n",
      "Epoch 5/10\n",
      "1/1 [==============================] - 0s 26ms/step - loss: 12.6232 - acc: 0.5607 - val_loss: 10.4334 - val_acc: 0.6107\n",
      "Epoch 6/10\n",
      "1/1 [==============================] - 0s 24ms/step - loss: 12.6059 - acc: 0.5607 - val_loss: 10.4189 - val_acc: 0.6107\n",
      "Epoch 7/10\n",
      "1/1 [==============================] - 0s 27ms/step - loss: 12.5886 - acc: 0.5607 - val_loss: 10.4044 - val_acc: 0.6107\n",
      "Epoch 8/10\n",
      "1/1 [==============================] - 0s 24ms/step - loss: 12.5713 - acc: 0.5607 - val_loss: 10.3900 - val_acc: 0.6107\n",
      "Epoch 9/10\n",
      "1/1 [==============================] - 0s 26ms/step - loss: 12.5540 - acc: 0.5607 - val_loss: 10.3755 - val_acc: 0.6107\n",
      "Epoch 10/10\n",
      "1/1 [==============================] - 0s 24ms/step - loss: 12.5367 - acc: 0.5607 - val_loss: 10.3610 - val_acc: 0.6107\n"
     ]
    }
   ],
   "source": [
    "history = model.fit(train_x, train_t,\n",
    "                    validation_data=(test_x, test_t),\n",
    "                    batch_size=len(train_x), epochs=10)"
   ]
  },
  {
   "cell_type": "markdown",
   "metadata": {
    "colab_type": "text",
    "id": "6ZJDVflWv6bm"
   },
   "source": [
    "####[CAT-08]\n",
    "Apply the optimization for additional 5,000 epochs."
   ]
  },
  {
   "cell_type": "code",
   "execution_count": 8,
   "metadata": {
    "colab": {},
    "colab_type": "code",
    "id": "R6aG8FEZSLdr"
   },
   "outputs": [],
   "source": [
    "history = model.fit(train_x, train_t,\n",
    "                    validation_data=(test_x, test_t),\n",
    "                    batch_size=len(train_x), epochs=5000, verbose=0)"
   ]
  },
  {
   "cell_type": "markdown",
   "metadata": {
    "colab_type": "text",
    "id": "BFIxYITmwBXA"
   },
   "source": [
    "####[CAT-09]\n",
    "Plot a chart to compare the accuracy for training and test datasets."
   ]
  },
  {
   "cell_type": "code",
   "execution_count": 9,
   "metadata": {
    "colab": {
     "base_uri": "https://localhost:8080/",
     "height": 286
    },
    "colab_type": "code",
    "id": "lHFnv_-Z9KjC",
    "outputId": "506960f8-04de-4c6f-e3dc-a6988f3ccfd2"
   },
   "outputs": [
    {
     "data": {
      "text/plain": [
       "<AxesSubplot:>"
      ]
     },
     "execution_count": 9,
     "metadata": {},
     "output_type": "execute_result"
    },
    {
     "data": {
      "image/png": "[encoded data removed]",
      "text/plain": [
       "<Figure size 432x288 with 1 Axes>"
      ]
     },
     "metadata": {
      "needs_background": "light"
     },
     "output_type": "display_data"
    }
   ],
   "source": [
    "DataFrame({'acc': history.history['acc'], \n",
    "           'val_acc': history.history['val_acc']}).plot()"
   ]
  },
  {
   "cell_type": "code",
   "execution_count": null,
   "metadata": {},
   "outputs": [],
   "source": []
  }
 ],
 "metadata": {
  "colab": {
   "collapsed_sections": [],
   "name": "2. Comparing accuracy for training and test datasets.ipynb",
   "provenance": [],
   "version": "0.3.2"
  },
  "kernelspec": {
   "display_name": "Python 3 (ipykernel)",
   "language": "python",
   "name": "python3"
  },
  "language_info": {
   "codemirror_mode": {
    "name": "ipython",
    "version": 3
   },
   "file_extension": ".py",
   "mimetype": "text/x-python",
   "name": "python",
   "nbconvert_exporter": "python",
   "pygments_lexer": "ipython3",
   "version": "3.9.7"
  }
 },
 "nbformat": 4,
 "nbformat_minor": 1
}
